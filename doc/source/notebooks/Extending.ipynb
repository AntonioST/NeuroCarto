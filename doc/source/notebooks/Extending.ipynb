{
 "cells": [
  {
   "cell_type": "markdown",
   "id": "40ca96fb-84d5-4ddd-b8c3-08f934800c5f",
   "metadata": {},
   "source": [
    "# Extending Guideline\n",
    "\n",
    "This notebook shows examples of extending the feature of the chmap library, especial for electrode selecting method.\n",
    "For extending UI components, please see [Extending_View](Extending_View.ipynb)."
   ]
  },
  {
   "cell_type": "markdown",
   "id": "98c19e42-649f-472b-b642-31c8d4bc0241",
   "metadata": {},
   "source": [
    "## Provide another electrode selecting method for the [Neuropixels probe](https://www.neuropixels.org/)"
   ]
  },
  {
   "cell_type": "markdown",
   "id": "9e971110-d954-41e7-9830-b1d09cc47ebd",
   "metadata": {},
   "source": [
    "Create a new file, and name it `my_selection.py`."
   ]
  },
  {
   "cell_type": "code",
   "execution_count": 1,
   "id": "7e7caec0-223b-4abc-ad14-e29c160c25b7",
   "metadata": {},
   "outputs": [],
   "source": [
    "from chmap.probe_npx import *\n",
    "\n",
    "def my_selection(desp: NpxProbeDesp, chmap: ChannelMap, s: list[NpxElectrodeDesp], **kwargs) -> ChannelMap:\n",
    "    \"\"\"\n",
    "    Selecting electrodes based on the electrode blueprint.\n",
    "\n",
    "    :param desp:\n",
    "    :param chmap: channelmap type. It is a reference.\n",
    "    :param s: channelmap blueprint\n",
    "    :param kwargs: other parameters.\n",
    "    :return: generated channelmap\n",
    "    \"\"\"\n",
    "    pass"
   ]
  },
  {
   "cell_type": "markdown",
   "id": "c57a5454-2a7e-4ea6-8a6e-5458cf0c2c0a",
   "metadata": {},
   "source": [
    "Check the function `my_selection` whether can be loaded by the function `load_selector()`."
   ]
  },
  {
   "cell_type": "code",
   "execution_count": null,
   "id": "8067eb19-1856-40d5-85ed-85e19ea96ac2",
   "metadata": {},
   "outputs": [],
   "source": [
    "from chmap.probe_npx.select import load_select\n",
    "\n",
    "load_select('module.my_selection:my_selection') # if my_selection.py put under module 'module'"
   ]
  },
  {
   "cell_type": "markdown",
   "id": "3b3da2be-12b6-4644-a570-56813581b623",
   "metadata": {},
   "source": [
    "then you can use it in the command-line.\n",
    "\n",
    "    chmap --selector=module.my_selection:my_selection\n",
    "\n",
    "Currently providing two implementations:\n",
    "\n",
    "* `default` (`chmap.probe_npx.select_default:electrode_select`): default selection method.\n",
    "* `weaker` (`chmap.probe_npx.select_weaker:electrode_select`): same as default, but with a weaker arrangement rule.\n",
    "\n",
    "You can check the source code for actual runnable code. Furthermore, the notebook [Selecting](Selecting.ipynb) show and explain the simple version of `weaker` selection."
   ]
  },
  {
   "cell_type": "markdown",
   "id": "4f851d29-9d67-4412-95fe-dc83ed641d02",
   "metadata": {},
   "source": [
    "### Implement demostrating"
   ]
  },
  {
   "cell_type": "markdown",
   "id": "b973768a-aca2-430c-8b67-c108b4ec30b9",
   "metadata": {},
   "source": [
    "Here use random picking strategy (without considering the electrode's policy) to demostrate how to build a Neuropixels channelmap."
   ]
  },
  {
   "cell_type": "code",
   "execution_count": 4,
   "id": "f1ce3a0d-f08e-4787-bcd0-a8323462652b",
   "metadata": {},
   "outputs": [],
   "source": [
    "import random\n",
    "\n",
    "def my_selection(desp: NpxProbeDesp, chmap: ChannelMap, s: list[NpxElectrodeDesp], **kwargs) -> ChannelMap:\n",
    "    # new an empty channelmap\n",
    "    ret = desp.new_channelmap(chmap)\n",
    "\n",
    "    # create a candidate set\n",
    "    cand = list(s)\n",
    "    \n",
    "    while not self.is_valid(ret) and len(cand) > 0: # when the number of selected electrodes below required.\n",
    "        # random an electrode from the candidate set\n",
    "        e = random.choice(cand)\n",
    "\n",
    "        # put e into channelmap\n",
    "        desp.add_electrode(ret, e)\n",
    "\n",
    "        # remove invalid electrodes from the candidate set\n",
    "        inve = desp.invalid_electrodes(ret, e, cand)\n",
    "        cand = [it for it in cand if it not in inve]\n",
    "        \n",
    "    return ret\n"
   ]
  },
  {
   "cell_type": "markdown",
   "id": "0008d91f-5fc8-4f73-8b28-54590050da4e",
   "metadata": {},
   "source": [
    "## Provide supporting for another probe type"
   ]
  },
  {
   "cell_type": "markdown",
   "id": "3be05ee9-639f-431b-8a6a-8a603af0fe18",
   "metadata": {},
   "source": [
    "Create a new file as same as `probe_mynpx.py`."
   ]
  },
  {
   "cell_type": "code",
   "execution_count": null,
   "id": "74c4b768-e567-42f6-ba5f-a999cfe655bf",
   "metadata": {},
   "outputs": [],
   "source": [
    "from chmap.probe import ProbeDesp, ElectrodeDesp\n",
    "\n",
    "class MyElectrodeDesp(ElectrodeDesp):\n",
    "    ... # extra information\n",
    "    \n",
    "class MyProbeDesp(ProbeDesp):\n",
    "    ... # implement all abstract methods here\n",
    "    "
   ]
  },
  {
   "cell_type": "markdown",
   "id": "89978a7f-b373-47df-bca9-cfe09c9c7be2",
   "metadata": {},
   "source": [
    "Due to `ProbeDesp` is an abstract class, you need to implement all abstract methods in `MyProbeDesp`. \n",
    "Here use `NpxProbeDesp` to explan each abstract method."
   ]
  },
  {
   "cell_type": "markdown",
   "id": "55fb29ca-636f-47f9-b0a1-655841815878",
   "metadata": {},
   "source": [
    "### ElectrodeDesp\n",
    "\n",
    "It is a simple class that only carry the necessary information for each electrode."
   ]
  },
  {
   "cell_type": "code",
   "execution_count": 10,
   "id": "1859e149-8053-47cb-bd92-bc47178f2a50",
   "metadata": {},
   "outputs": [],
   "source": [
    "from typing import Any, Hashable, ClassVar\n",
    "from typing_extensions import Self # for Python < 3.11\n",
    "\n",
    "class ElectrodeDesp:\n",
    "    \"\"\"An electrode interface for GUI interaction between different electrode implementations.\"\"\"\n",
    "\n",
    "    x: float  # x position in um\n",
    "    y: float  # y position in um\n",
    "    electrode: Hashable  # for identify\n",
    "    channel: Any  # for display in hover\n",
    "    state: int = 0\n",
    "    policy: int = 0\n",
    "\n",
    "    def copy(self, r: ElectrodeDesp, **kwargs) -> Self: ...\n",
    "    def __hash__(self): ...\n",
    "    def __eq__(self, other): ...\n",
    "    def __str__(self): ...\n",
    "    def __repr__(self): ..."
   ]
  },
  {
   "cell_type": "markdown",
   "id": "efe0e56d-74fa-4987-ae11-68ba289bca19",
   "metadata": {},
   "source": [
    "You don't need to modify it much, actually, unless you create a new UI component that tries to provide more information for each electrode.\n",
    "\n",
    "In `NpxElectrodeDesp`, we only re-define the actual type for some attributes."
   ]
  },
  {
   "cell_type": "code",
   "execution_count": null,
   "id": "7d85523f-f883-45d4-8a17-9600f149fafd",
   "metadata": {},
   "outputs": [],
   "source": [
    "class NpxElectrodeDesp(ElectrodeDesp):\n",
    "    electrode: tuple[int, int, int]  # (shank, column, row)\n",
    "    channel: int"
   ]
  },
  {
   "cell_type": "markdown",
   "id": "987cdd3b-6613-4876-8c11-5f0899ca6a7f",
   "metadata": {},
   "source": [
    "For the 3D probe that electrodes are located in 3D space, attribute `x` and `y` should be the projected coordinated, so it can be shown on the screen, without chaning too much code in GUI part."
   ]
  },
  {
   "cell_type": "markdown",
   "id": "55973bfe-8edd-4519-8457-3c47e9c9eeaf",
   "metadata": {},
   "source": [
    "### ProbeDesp"
   ]
  },
  {
   "cell_type": "markdown",
   "id": "1c51403f-f60c-498c-b1ab-68d30079c9f8",
   "metadata": {},
   "source": [
    "#### Class Declaration\n",
    "\n",
    "The class `ProbeDesp[M, E]` is a generic class that carries two type variables: `M` and `E`, \n",
    "where `M` indicates the type of channelmap, and `E` indicates the type of ElectrodeDesp subclass.\n",
    "For a particular `ProbeDesp[M, E]` implementation, you need to specify these two type variables when declaring.\n",
    "\n",
    "**Note**: The following code blocks use `NpxProbeDesp` as an example, but all `M` and `E` are kept for demonstrating. \n",
    "In actual implementation, they should be replaced with the actual types."
   ]
  },
  {
   "cell_type": "code",
   "execution_count": 16,
   "id": "1c8503db-14a7-4068-97bc-4b108eebbfcb",
   "metadata": {},
   "outputs": [],
   "source": [
    "class NpxProbeDesp(ProbeDesp[ChannelMap, NpxElectrodeDesp]):\n",
    "    ... # skip below"
   ]
  },
  {
   "cell_type": "markdown",
   "id": "93a788b4-a8c4-41c4-bfc5-c0a6e0620e88",
   "metadata": {},
   "source": [
    "#### Supporting types, electrode states, and selecting policies\n",
    "\n",
    "The following three properties provide information on what sub-types of supporting probe type, possible electrode state (selected, unselected, or forbidden), and supporting selecting policies. \n",
    "The GUI will read the returned dict to generate the corresponding UI controls.\n",
    "\n",
    "**Predefined states**\n",
    "\n",
    "* `STATE_UNUSED`: electrode is not used, and it is selectable.\n",
    "* `STATE_USED`: electrode is selected.\n",
    "* `STATE_FORBIDDEN`: electrode is not used, but it is not selectable.\n",
    "\n",
    "**Note** : `STATE_FORBIDDEN` is a valid electrode state, but it is handled by the program instead of users, so it does't need to\n",
    "present in `possible_states`.\n",
    "\n",
    "**Predefined policies**\n",
    "\n",
    "* `POLICY_UNSET`: initial policy value\n",
    "* `POLICY_SET`: pre-selected\n",
    "* `POLICY_FORBIDDEN`: never be selected\n",
    "* `POLICY_REMAINDER`: random selected, less priority"
   ]
  },
  {
   "cell_type": "code",
   "execution_count": 17,
   "id": "76649bef-5cd7-46fd-bdfe-abdc50cb060b",
   "metadata": {},
   "outputs": [],
   "source": [
    "class NpxProbeDesp:\n",
    "    ... # continue from above\n",
    "    \n",
    "    # specific policies for this selecting method.\n",
    "    POLICY_D1: ClassVar = 11 # full-density selecting policy\n",
    "    POLICY_D2: ClassVar = 12 # half-density selecting policy\n",
    "    POLICY_D4: ClassVar = 13 # quarter-density selecting policy\n",
    "    \n",
    "    @property\n",
    "    def supported_type(self) -> dict[str, int]:\n",
    "        return {'Probe description': probe_code} # where probe_code will be used in new_channelmap(probe_type)\n",
    "    @property\n",
    "    def possible_states(self) -> dict[str, int]:\n",
    "        return {'electrode state description': state_code} # where state_code is either STATE_UNUSED, STATE_USED, or STATE_* etc.\n",
    "    @property\n",
    "    def possible_policies(self) -> dict[str, int]:\n",
    "        return {'electrode policy description': policy_code} # where policy_code is either POLICY_UNSET, POLICY_SET, or POLICY_* etc.\n",
    "\n",
    "    ... # skip below"
   ]
  },
  {
   "cell_type": "markdown",
   "id": "91842acf-8f89-4bb0-9cf7-fa07d1c51d66",
   "metadata": {},
   "source": [
    "#### Custom UI components\n",
    "\n",
    "You can provide probe-specific UI components. \n",
    "`NpxProbeDesp` provides, for example, `ElectrodeDensityDataView` for plotting the electrode density curve along the shanks.\n",
    "\n",
    "For custom UI components, please check [Provide another Bokeh UI component](#Provide-another-Bokeh-UI-component) section."
   ]
  },
  {
   "cell_type": "code",
   "execution_count": 18,
   "id": "93ad397f-140f-464b-97c3-a31bb6145215",
   "metadata": {},
   "outputs": [],
   "source": [
    "from chmap.config import ChannelMapEditorConfig\n",
    "from chmap.views.base import ViewBase\n",
    "\n",
    "class NpxProbeDesp:\n",
    "    ... # continue from above\n",
    "\n",
    "    def extra_controls(self, config: ChannelMapEditorConfig) -> list[ViewBase | type[ViewBase]]: \n",
    "        from chmap.views.data_density import ElectrodeDensityDataView\n",
    "        return [ElectrodeDensityDataView]\n",
    "    \n",
    "    ... # skip below"
   ]
  },
  {
   "cell_type": "markdown",
   "id": "b3073247-321a-44e1-8e8e-f017ff69f4b0",
   "metadata": {},
   "source": [
    "#### File IO\n",
    "\n",
    "The following property and methods define what files are look at and how to read/write them from/to disk. "
   ]
  },
  {
   "cell_type": "code",
   "execution_count": null,
   "id": "26f6002b-40a2-449d-aed1-69f0ce3c6c49",
   "metadata": {},
   "outputs": [],
   "source": [
    "class NpxProbeDesp:\n",
    "    ... # continue from above\n",
    "\n",
    "    # channelmap file\n",
    "    @property\n",
    "    def channelmap_file_suffix(self) -> str:\n",
    "        return '.imro'\n",
    "    def load_from_file(self, file: Path) -> M: ...\n",
    "    def save_to_file(self, chmap: M, file: Path): ...\n",
    "\n",
    "    # electrode policy\n",
    "    def electrode_to_numpy(self, s: list[E]) -> NDArray[np.int_]: ...\n",
    "    def electrode_from_numpy(self, s: list[E], a: NDArray[np.int_]) -> list[E]: ...\n",
    "    \n",
    "    ... # skip below"
   ]
  },
  {
   "cell_type": "markdown",
   "id": "3470a176-54cf-4e43-9f20-42324340c948",
   "metadata": {},
   "source": [
    "#### Channelmap editing"
   ]
  },
  {
   "cell_type": "code",
   "execution_count": null,
   "id": "5d4501f5-063b-49b0-89b4-ae8f63158c85",
   "metadata": {},
   "outputs": [],
   "source": [
    "class NpxProbeDesp:\n",
    "    ... # continue from above\n",
    "\n",
    "    def new_channelmap(self, chmap: int | M) -> M: ...\n",
    "    def copy_channelmap(self, chmap: M) -> M: ...\n",
    "    def channelmap_desp(self, chmap: M | None) -> str: ...\n",
    "    def all_electrodes(self, chmap: int | M) -> list[E]: ...\n",
    "    def all_channels(self, chmap: M, s: Iterable[E] = None) -> list[E]: ...\n",
    "    def add_electrode(self, chmap: M, e: E, *, overwrite=False): ...\n",
    "    def del_electrode(self, chmap: M, e: E): ...\n",
    "\n",
    "    # not abstract methods\n",
    "\n",
    "    def get_electrode(self, s: Iterable[E], e: Hashable) -> E | None: ...\n",
    "    def copy_electrode(self, s: Sequence[E]) -> list[E]: ...\n",
    "    \n",
    "    ... # skip below"
   ]
  },
  {
   "cell_type": "markdown",
   "id": "e2d6e459-43c8-4e46-ad2a-807f50f82ddd",
   "metadata": {},
   "source": [
    "#### Probe restriction rules\n",
    "\n",
    "Probe restriction rules are defined in the following two methods. \n",
    "\n",
    "**Note**: These two methods should be pure methods that do not contain side effects. \n",
    "For example, `probe_rule` doesn't give different results for the same electrodes `e1`, `e2` inputs.\n",
    "However, if a probe restriction is context-depend, which means the electrode selecting order makes the side effect of `probe_rule`,\n",
    "there are some ways to do it:\n",
    "\n",
    "1. record the electrode selecting order in `M`, then `probe_rule` becomes a pure method that its return depends on the `M`. (ignore what `probe_rule`'s document said about `M`)\n",
    "2. write other methods to support `select_electrodes` correctly."
   ]
  },
  {
   "cell_type": "code",
   "execution_count": null,
   "id": "fdde27f0-e569-45a9-8e79-2d8e7aa11758",
   "metadata": {},
   "outputs": [],
   "source": [
    "class NpxProbeDesp:\n",
    "    ... # continue from above\n",
    "\n",
    "    def is_valid(self, chmap: M) -> bool: ...\n",
    "    def probe_rule(self, chmap: M, e1: E, e2: E) -> bool: ...\n",
    "\n",
    "    # not abstract methods\n",
    "\n",
    "    def invalid_electrodes(self, chmap: M, e: E | Iterable[E], s: Iterable[E]) -> list[E]: ...\n",
    "    \n",
    "    ... # skip below"
   ]
  },
  {
   "cell_type": "markdown",
   "id": "92d7d995-f84c-4323-b587-1c04cc185d6e",
   "metadata": {},
   "source": [
    "#### Electrode selection\n",
    "\n",
    "**Note**: we keep `kwargs` in the `select_electrodes` signature to provide a way to give extra parameters during electrode selection. \n",
    "It can be given from the GUI via `ProbeView.selecting_parameters` attribute (or `ChannelMapEditorApp.probe_view.selecting_parameters`)."
   ]
  },
  {
   "cell_type": "code",
   "execution_count": null,
   "id": "f050d4c1-e6eb-4219-a542-972f1343b66f",
   "metadata": {},
   "outputs": [],
   "source": [
    "class NpxProbeDesp:\n",
    "    ... # continue from above\n",
    "\n",
    "    def select_electrodes(self, chmap: M, s: list[E], **kwargs) -> M: ...\n",
    "    \n",
    "    ... # skip below"
   ]
  }
 ],
 "metadata": {
  "kernelspec": {
   "display_name": "Python 3 (ipykernel)",
   "language": "python",
   "name": "python3"
  },
  "language_info": {
   "codemirror_mode": {
    "name": "ipython",
    "version": 3
   },
   "file_extension": ".py",
   "mimetype": "text/x-python",
   "name": "python",
   "nbconvert_exporter": "python",
   "pygments_lexer": "ipython3",
   "version": "3.10.13"
  }
 },
 "nbformat": 4,
 "nbformat_minor": 5
}
