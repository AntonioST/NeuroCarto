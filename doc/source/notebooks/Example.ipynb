{
 "cells": [
  {
   "cell_type": "markdown",
   "id": "77b3226f",
   "metadata": {},
   "source": [
    "# Example of using library code\n",
    "\n",
    "So far, we only provide channelmap editing for the Neuropixels probe family, and only the 4-shank Neuropixels probe is tested, so the following example codes use the 4-shank Neuropixels probe as the targeting probe."
   ]
  },
  {
   "cell_type": "markdown",
   "id": "d3f35f70",
   "metadata": {},
   "source": [
    "## Basic"
   ]
  },
  {
   "cell_type": "code",
   "execution_count": 4,
   "id": "52efba29",
   "metadata": {},
   "outputs": [],
   "source": [
    "import numpy as np\n",
    "\n",
    "from chmap.probe_npx import *"
   ]
  },
  {
   "cell_type": "markdown",
   "id": "17d2228a",
   "metadata": {},
   "source": [
    "### Create an empty channelmap"
   ]
  },
  {
   "cell_type": "code",
   "execution_count": null,
   "id": "65fa672d",
   "metadata": {},
   "outputs": [
    {
     "data": {
      "text/plain": [
       "ChannelMap[4,2,640,384,0]"
      ]
     },
     "execution_count": null,
     "metadata": {},
     "output_type": "execute_result"
    }
   ],
   "source": [
    "s = ChannelMap(24)\n",
    "s"
   ]
  },
  {
   "cell_type": "markdown",
   "id": "2c547cd9",
   "metadata": {},
   "source": [
    "The above output printed the information of channelmap `s`, in the format `ChannelMap[S,C,R,H,E]`, where `S` is the number of total shanks, `C` is the number of total columns in a shank, `R` is the number of total rows in a shank, `H` is the number of total channels, and `E` is the number of selected electrodes.\n",
    "\n",
    "For a valid channelmap, `H` and `E` should be equal."
   ]
  },
  {
   "cell_type": "markdown",
   "id": "54e08ea1",
   "metadata": {},
   "source": [
    "### Load/Save a channelmap"
   ]
  },
  {
   "cell_type": "markdown",
   "id": "d20f22b2",
   "metadata": {},
   "source": [
    "`*.imro` (**im**ec **r**ead-**o**ut file) is the format of the Neuropixels channelmap used by \n",
    "[SpikeGLX](https://billkarsh.github.io/SpikeGLX/). \n",
    "[detail](https://billkarsh.github.io/SpikeGLX/help/imroTables/)"
   ]
  },
  {
   "cell_type": "code",
   "execution_count": null,
   "id": "6f9e1dcc",
   "metadata": {},
   "outputs": [],
   "source": [
    "s.save_imro('channelmap.imro')"
   ]
  },
  {
   "cell_type": "markdown",
   "id": "7f6914d6",
   "metadata": {},
   "source": [
    "We support read channelmap from different file format."
   ]
  },
  {
   "cell_type": "code",
   "execution_count": null,
   "id": "6ef54597",
   "metadata": {},
   "outputs": [],
   "source": [
    "# npx24_single_shank(0).save_imro('channelmap.imro')\n",
    "s = ChannelMap.from_imro('channelmap.imro')"
   ]
  },
  {
   "cell_type": "code",
   "execution_count": null,
   "id": "c49592c4",
   "metadata": {},
   "outputs": [],
   "source": [
    "_ = ChannelMap.from_meta('channelmap.meta') # from meta file from Spike outputs\n",
    "_ = ChannelMap.parse('(24,384)(...)') # from raw imro table format"
   ]
  },
  {
   "cell_type": "markdown",
   "id": "47b8da33",
   "metadata": {},
   "source": [
    "We support other output formats. The following code requires to install extra library (as optional dependency)."
   ]
  },
  {
   "cell_type": "code",
   "execution_count": null,
   "id": "3bf988e2",
   "metadata": {},
   "outputs": [
    {
     "data": {
      "text/plain": [
       "Probe - IMEC - Neuropixels 2.0 - Four Shank - Prototype - 384ch - 1shanks"
      ]
     },
     "execution_count": null,
     "metadata": {},
     "output_type": "execute_result"
    }
   ],
   "source": [
    "# probeinterface\n",
    "p = s.to_probe() # type: Probe\n",
    "s = ChannelMap.from_probe(p)\n",
    "p"
   ]
  },
  {
   "cell_type": "markdown",
   "id": "7019a395",
   "metadata": {},
   "source": [
    "Or other channelmap data output formats."
   ]
  },
  {
   "cell_type": "code",
   "execution_count": null,
   "id": "63d3249c",
   "metadata": {},
   "outputs": [
    {
     "data": {
      "text/html": [
       "<div>\n",
       "<style scoped>\n",
       "    .dataframe tbody tr th:only-of-type {\n",
       "        vertical-align: middle;\n",
       "    }\n",
       "\n",
       "    .dataframe tbody tr th {\n",
       "        vertical-align: top;\n",
       "    }\n",
       "\n",
       "    .dataframe thead th {\n",
       "        text-align: right;\n",
       "    }\n",
       "</style>\n",
       "<table border=\"1\" class=\"dataframe\">\n",
       "  <thead>\n",
       "    <tr style=\"text-align: right;\">\n",
       "      <th></th>\n",
       "      <th>shank</th>\n",
       "      <th>column</th>\n",
       "      <th>row</th>\n",
       "      <th>in_used</th>\n",
       "      <th>x</th>\n",
       "      <th>y</th>\n",
       "    </tr>\n",
       "    <tr>\n",
       "      <th>channel</th>\n",
       "      <th></th>\n",
       "      <th></th>\n",
       "      <th></th>\n",
       "      <th></th>\n",
       "      <th></th>\n",
       "      <th></th>\n",
       "    </tr>\n",
       "  </thead>\n",
       "  <tbody>\n",
       "    <tr>\n",
       "      <th>0</th>\n",
       "      <td>0</td>\n",
       "      <td>0</td>\n",
       "      <td>0</td>\n",
       "      <td>True</td>\n",
       "      <td>0</td>\n",
       "      <td>0</td>\n",
       "    </tr>\n",
       "    <tr>\n",
       "      <th>1</th>\n",
       "      <td>0</td>\n",
       "      <td>1</td>\n",
       "      <td>0</td>\n",
       "      <td>True</td>\n",
       "      <td>32</td>\n",
       "      <td>0</td>\n",
       "    </tr>\n",
       "    <tr>\n",
       "      <th>2</th>\n",
       "      <td>0</td>\n",
       "      <td>0</td>\n",
       "      <td>1</td>\n",
       "      <td>True</td>\n",
       "      <td>0</td>\n",
       "      <td>15</td>\n",
       "    </tr>\n",
       "    <tr>\n",
       "      <th>3</th>\n",
       "      <td>0</td>\n",
       "      <td>1</td>\n",
       "      <td>1</td>\n",
       "      <td>True</td>\n",
       "      <td>32</td>\n",
       "      <td>15</td>\n",
       "    </tr>\n",
       "    <tr>\n",
       "      <th>4</th>\n",
       "      <td>0</td>\n",
       "      <td>0</td>\n",
       "      <td>2</td>\n",
       "      <td>True</td>\n",
       "      <td>0</td>\n",
       "      <td>30</td>\n",
       "    </tr>\n",
       "    <tr>\n",
       "      <th>...</th>\n",
       "      <td>...</td>\n",
       "      <td>...</td>\n",
       "      <td>...</td>\n",
       "      <td>...</td>\n",
       "      <td>...</td>\n",
       "      <td>...</td>\n",
       "    </tr>\n",
       "    <tr>\n",
       "      <th>379</th>\n",
       "      <td>0</td>\n",
       "      <td>1</td>\n",
       "      <td>141</td>\n",
       "      <td>True</td>\n",
       "      <td>32</td>\n",
       "      <td>2115</td>\n",
       "    </tr>\n",
       "    <tr>\n",
       "      <th>380</th>\n",
       "      <td>0</td>\n",
       "      <td>0</td>\n",
       "      <td>142</td>\n",
       "      <td>True</td>\n",
       "      <td>0</td>\n",
       "      <td>2130</td>\n",
       "    </tr>\n",
       "    <tr>\n",
       "      <th>381</th>\n",
       "      <td>0</td>\n",
       "      <td>1</td>\n",
       "      <td>142</td>\n",
       "      <td>True</td>\n",
       "      <td>32</td>\n",
       "      <td>2130</td>\n",
       "    </tr>\n",
       "    <tr>\n",
       "      <th>382</th>\n",
       "      <td>0</td>\n",
       "      <td>0</td>\n",
       "      <td>143</td>\n",
       "      <td>True</td>\n",
       "      <td>0</td>\n",
       "      <td>2145</td>\n",
       "    </tr>\n",
       "    <tr>\n",
       "      <th>383</th>\n",
       "      <td>0</td>\n",
       "      <td>1</td>\n",
       "      <td>143</td>\n",
       "      <td>True</td>\n",
       "      <td>32</td>\n",
       "      <td>2145</td>\n",
       "    </tr>\n",
       "  </tbody>\n",
       "</table>\n",
       "<p>384 rows × 6 columns</p>\n",
       "</div>"
      ],
      "text/plain": [
       "         shank  column  row  in_used   x     y\n",
       "channel                                       \n",
       "0            0       0    0     True   0     0\n",
       "1            0       1    0     True  32     0\n",
       "2            0       0    1     True   0    15\n",
       "3            0       1    1     True  32    15\n",
       "4            0       0    2     True   0    30\n",
       "...        ...     ...  ...      ...  ..   ...\n",
       "379          0       1  141     True  32  2115\n",
       "380          0       0  142     True   0  2130\n",
       "381          0       1  142     True  32  2130\n",
       "382          0       0  143     True   0  2145\n",
       "383          0       1  143     True  32  2145\n",
       "\n",
       "[384 rows x 6 columns]"
      ]
     },
     "execution_count": null,
     "metadata": {},
     "output_type": "execute_result"
    }
   ],
   "source": [
    "# pandas\n",
    "s.to_pandas() # type: pd.Dataframe\n",
    "# empty channels use -1"
   ]
  },
  {
   "cell_type": "code",
   "execution_count": null,
   "id": "46840bc7",
   "metadata": {},
   "outputs": [
    {
     "data": {
      "text/html": [
       "<div><style>\n",
       ".dataframe > thead > tr > th,\n",
       ".dataframe > tbody > tr > td {\n",
       "  text-align: right;\n",
       "}\n",
       "</style>\n",
       "<small>shape: (384, 7)</small><table border=\"1\" class=\"dataframe\"><thead><tr><th>channel</th><th>shank</th><th>column</th><th>row</th><th>in_used</th><th>x</th><th>y</th></tr><tr><td>i64</td><td>i64</td><td>i64</td><td>i64</td><td>bool</td><td>i64</td><td>i64</td></tr></thead><tbody><tr><td>0</td><td>0</td><td>0</td><td>0</td><td>true</td><td>0</td><td>0</td></tr><tr><td>1</td><td>0</td><td>1</td><td>0</td><td>true</td><td>32</td><td>0</td></tr><tr><td>2</td><td>0</td><td>0</td><td>1</td><td>true</td><td>0</td><td>15</td></tr><tr><td>3</td><td>0</td><td>1</td><td>1</td><td>true</td><td>32</td><td>15</td></tr><tr><td>4</td><td>0</td><td>0</td><td>2</td><td>true</td><td>0</td><td>30</td></tr><tr><td>5</td><td>0</td><td>1</td><td>2</td><td>true</td><td>32</td><td>30</td></tr><tr><td>6</td><td>0</td><td>0</td><td>3</td><td>true</td><td>0</td><td>45</td></tr><tr><td>7</td><td>0</td><td>1</td><td>3</td><td>true</td><td>32</td><td>45</td></tr><tr><td>8</td><td>0</td><td>0</td><td>4</td><td>true</td><td>0</td><td>60</td></tr><tr><td>9</td><td>0</td><td>1</td><td>4</td><td>true</td><td>32</td><td>60</td></tr><tr><td>10</td><td>0</td><td>0</td><td>5</td><td>true</td><td>0</td><td>75</td></tr><tr><td>11</td><td>0</td><td>1</td><td>5</td><td>true</td><td>32</td><td>75</td></tr><tr><td>&hellip;</td><td>&hellip;</td><td>&hellip;</td><td>&hellip;</td><td>&hellip;</td><td>&hellip;</td><td>&hellip;</td></tr><tr><td>372</td><td>0</td><td>0</td><td>138</td><td>true</td><td>0</td><td>2070</td></tr><tr><td>373</td><td>0</td><td>1</td><td>138</td><td>true</td><td>32</td><td>2070</td></tr><tr><td>374</td><td>0</td><td>0</td><td>139</td><td>true</td><td>0</td><td>2085</td></tr><tr><td>375</td><td>0</td><td>1</td><td>139</td><td>true</td><td>32</td><td>2085</td></tr><tr><td>376</td><td>0</td><td>0</td><td>140</td><td>true</td><td>0</td><td>2100</td></tr><tr><td>377</td><td>0</td><td>1</td><td>140</td><td>true</td><td>32</td><td>2100</td></tr><tr><td>378</td><td>0</td><td>0</td><td>141</td><td>true</td><td>0</td><td>2115</td></tr><tr><td>379</td><td>0</td><td>1</td><td>141</td><td>true</td><td>32</td><td>2115</td></tr><tr><td>380</td><td>0</td><td>0</td><td>142</td><td>true</td><td>0</td><td>2130</td></tr><tr><td>381</td><td>0</td><td>1</td><td>142</td><td>true</td><td>32</td><td>2130</td></tr><tr><td>382</td><td>0</td><td>0</td><td>143</td><td>true</td><td>0</td><td>2145</td></tr><tr><td>383</td><td>0</td><td>1</td><td>143</td><td>true</td><td>32</td><td>2145</td></tr></tbody></table></div>"
      ],
      "text/plain": [
       "shape: (384, 7)\n",
       "┌─────────┬───────┬────────┬─────┬─────────┬─────┬──────┐\n",
       "│ channel ┆ shank ┆ column ┆ row ┆ in_used ┆ x   ┆ y    │\n",
       "│ ---     ┆ ---   ┆ ---    ┆ --- ┆ ---     ┆ --- ┆ ---  │\n",
       "│ i64     ┆ i64   ┆ i64    ┆ i64 ┆ bool    ┆ i64 ┆ i64  │\n",
       "╞═════════╪═══════╪════════╪═════╪═════════╪═════╪══════╡\n",
       "│ 0       ┆ 0     ┆ 0      ┆ 0   ┆ true    ┆ 0   ┆ 0    │\n",
       "│ 1       ┆ 0     ┆ 1      ┆ 0   ┆ true    ┆ 32  ┆ 0    │\n",
       "│ 2       ┆ 0     ┆ 0      ┆ 1   ┆ true    ┆ 0   ┆ 15   │\n",
       "│ 3       ┆ 0     ┆ 1      ┆ 1   ┆ true    ┆ 32  ┆ 15   │\n",
       "│ …       ┆ …     ┆ …      ┆ …   ┆ …       ┆ …   ┆ …    │\n",
       "│ 380     ┆ 0     ┆ 0      ┆ 142 ┆ true    ┆ 0   ┆ 2130 │\n",
       "│ 381     ┆ 0     ┆ 1      ┆ 142 ┆ true    ┆ 32  ┆ 2130 │\n",
       "│ 382     ┆ 0     ┆ 0      ┆ 143 ┆ true    ┆ 0   ┆ 2145 │\n",
       "│ 383     ┆ 0     ┆ 1      ┆ 143 ┆ true    ┆ 32  ┆ 2145 │\n",
       "└─────────┴───────┴────────┴─────┴─────────┴─────┴──────┘"
      ]
     },
     "execution_count": null,
     "metadata": {},
     "output_type": "execute_result"
    }
   ],
   "source": [
    "# polars\n",
    "s.to_polars() # type: pl.DataFrame\n",
    "# empty channels use null"
   ]
  },
  {
   "cell_type": "markdown",
   "id": "b854b274",
   "metadata": {},
   "source": [
    "### Select electrodes"
   ]
  },
  {
   "cell_type": "markdown",
   "id": "1e83c325",
   "metadata": {},
   "source": [
    "Select an electrode as a readout channel"
   ]
  },
  {
   "cell_type": "code",
   "execution_count": null,
   "id": "e534bea6",
   "metadata": {},
   "outputs": [
    {
     "data": {
      "text/plain": [
       "Electrode[0,0,0]"
      ]
     },
     "execution_count": null,
     "metadata": {},
     "output_type": "execute_result"
    }
   ],
   "source": [
    "s = ChannelMap(24)\n",
    "e = s.add_electrode((0, 0, 0)) # select an electrode at shank 0, column 0 and row 9\n",
    "e"
   ]
  },
  {
   "cell_type": "markdown",
   "id": "31781d3f",
   "metadata": {},
   "source": [
    "The above output printed the information of an electrode in format `Electrode[S,C,R]`, where `S` is shank index, `C` in column index, and `R` is row index."
   ]
  },
  {
   "cell_type": "markdown",
   "id": "fd84208f",
   "metadata": {},
   "source": [
    "If a channel has been used, then you cannot select coorespond electrodes. A `ChannelHasUsedError` will be raised."
   ]
  },
  {
   "cell_type": "code",
   "execution_count": null,
   "id": "feb1d8d3",
   "metadata": {},
   "outputs": [
    {
     "name": "stdout",
     "output_type": "stream",
     "text": [
      "ChannelHasUsedError('Electrode[0,0,0]')\n",
      "Electrode[0,0,0]\n"
     ]
    }
   ],
   "source": [
    "s = ChannelMap.from_imro('channelmap.imro')\n",
    "\n",
    "try:\n",
    "    s.add_electrode((0, 0, 0))\n",
    "except ChannelHasUsedError as x:\n",
    "    print(repr(x))\n",
    "    print(x.electrode)"
   ]
  },
  {
   "cell_type": "markdown",
   "id": "f9bc803e",
   "metadata": {},
   "source": [
    "To ignore the selected electrode, you can use the `exist_ok` keyword in the `add_electrode` method."
   ]
  },
  {
   "cell_type": "code",
   "execution_count": null,
   "id": "d5968bd4",
   "metadata": {},
   "outputs": [
    {
     "name": "stdout",
     "output_type": "stream",
     "text": [
      "Electrode[0,0,0]\n"
     ]
    }
   ],
   "source": [
    "s = ChannelMap.from_imro('channelmap.imro')\n",
    "e = s.add_electrode((0, 0, 0), exist_ok=True)\n",
    "print(e)"
   ]
  },
  {
   "cell_type": "markdown",
   "id": "a0301114",
   "metadata": {},
   "source": [
    "It still raises a `ChannelHasUsedError` if the corresponding channel of a newly selected electrode is occupied. You can remove the previous one and re-select the new one."
   ]
  },
  {
   "cell_type": "code",
   "execution_count": null,
   "id": "97b3daa8",
   "metadata": {},
   "outputs": [
    {
     "name": "stdout",
     "output_type": "stream",
     "text": [
      "ChannelHasUsedError('Electrode[0,0,144]')\n",
      "Electrode[1,0,0]\n"
     ]
    }
   ],
   "source": [
    "s = ChannelMap.from_imro('channelmap.imro')\n",
    "e = None\n",
    "try:\n",
    "    s.add_electrode((1, 0, 0))\n",
    "except ChannelHasUsedError as x:\n",
    "    print(repr(x))\n",
    "    s.del_electrode(x.electrode)\n",
    "    e = s.add_electrode((1, 0, 0))\n",
    "print(e)"
   ]
  },
  {
   "cell_type": "markdown",
   "id": "800f590c",
   "metadata": {},
   "source": [
    "### Access electrodes from a channelmap"
   ]
  },
  {
   "cell_type": "markdown",
   "id": "263fec55",
   "metadata": {},
   "source": [
    "Access the selected electrode via its channel ID."
   ]
  },
  {
   "cell_type": "code",
   "execution_count": null,
   "id": "09ea135b",
   "metadata": {},
   "outputs": [
    {
     "name": "stdout",
     "output_type": "stream",
     "text": [
      "Electrode[0,0,0]\n",
      "[Electrode[0,0,0], Electrode[0,1,0], Electrode[0,0,1]]\n"
     ]
    }
   ],
   "source": [
    "s = ChannelMap.from_imro('channelmap.imro')\n",
    "print(s.channels[0])\n",
    "print(s.channels[0:3])"
   ]
  },
  {
   "cell_type": "markdown",
   "id": "8c6d0743",
   "metadata": {},
   "source": [
    "Access the selected electrodes via its position."
   ]
  },
  {
   "cell_type": "code",
   "execution_count": null,
   "id": "eecae6df",
   "metadata": {},
   "outputs": [
    {
     "name": "stdout",
     "output_type": "stream",
     "text": [
      "Electrode[0,0,0]\n",
      "[Electrode[0,0,0], Electrode[0,0,1], Electrode[0,0,2]]\n"
     ]
    }
   ],
   "source": [
    "print(s.electrodes[0, 0, 0]) # shank, column, row\n",
    "print(s.electrodes[0, 0, 0:3])"
   ]
  },
  {
   "cell_type": "markdown",
   "id": "777de13c",
   "metadata": {},
   "source": [
    "### Set electrode’s parameters"
   ]
  },
  {
   "cell_type": "code",
   "execution_count": null,
   "id": "4bc312be",
   "metadata": {},
   "outputs": [
    {
     "name": "stdout",
     "output_type": "stream",
     "text": [
      "True True\n",
      "False\n",
      "False\n"
     ]
    }
   ],
   "source": [
    "s = ChannelMap.from_imro('channelmap.imro')\n",
    "print(s.channels[0].in_used, s.channels[1].in_used)\n",
    "\n",
    "# one by one\n",
    "s.channels[0].in_used = False\n",
    "print(s.channels[0].in_used)\n",
    "\n",
    "# by a reference\n",
    "e = Electrode(0, 0, 0)\n",
    "e.in_used = False\n",
    "s.channels[:] = e # apply to all selected electrodes\n",
    "print(s.channels[1].in_used)"
   ]
  },
  {
   "cell_type": "markdown",
   "id": "f9a12353",
   "metadata": {},
   "source": [
    "### Electrode positions"
   ]
  },
  {
   "cell_type": "code",
   "execution_count": null,
   "id": "485fc746",
   "metadata": {},
   "outputs": [
    {
     "name": "stdout",
     "output_type": "stream",
     "text": [
      "(384, 2)\n"
     ]
    },
    {
     "data": {
      "text/plain": [
       "array([[ 0,  0],\n",
       "       [32,  0],\n",
       "       [ 0, 15],\n",
       "       [32, 15],\n",
       "       [ 0, 30],\n",
       "       [32, 30],\n",
       "       [ 0, 45],\n",
       "       [32, 45],\n",
       "       [ 0, 60],\n",
       "       [32, 60]])"
      ]
     },
     "execution_count": null,
     "metadata": {},
     "output_type": "execute_result"
    }
   ],
   "source": [
    "s = ChannelMap.from_imro('channelmap.imro')\n",
    "p = s.channel_pos # a (C, 2) position (um) array\n",
    "print(p.shape)\n",
    "p[:10, :]"
   ]
  },
  {
   "cell_type": "markdown",
   "id": "e9e7f290",
   "metadata": {},
   "source": [
    "## Plotting"
   ]
  },
  {
   "cell_type": "code",
   "execution_count": 18,
   "id": "5a547d95",
   "metadata": {},
   "outputs": [],
   "source": [
    "import matplotlib\n",
    "import matplotlib.pyplot as plt\n",
    "from chmap.probe_npx import plot\n",
    "\n",
    "%matplotlib inline\n",
    "rc = matplotlib.rc_params_from_file('channelmap.matplotlibrc', fail_on_error=True, use_default_template=True)"
   ]
  },
  {
   "cell_type": "markdown",
   "id": "db997d00",
   "metadata": {},
   "source": [
    "plot a channelmap."
   ]
  },
  {
   "cell_type": "code",
   "execution_count": 21,
   "id": "37e5b750",
   "metadata": {},
   "outputs": [
    {
     "data": {
      "image/png": "[encoded data removed]",
      "text/plain": [
       "<Figure size 500x1000 with 1 Axes>"
      ]
     },
     "metadata": {},
     "output_type": "display_data"
    }
   ],
   "source": [
    "s = ChannelMap.from_imro('channelmap.imro')\n",
    "\n",
    "with plt.rc_context(rc):\n",
    "    fg, ax = plt.subplots()\n",
    "    plot.plot_channelmap_block(ax, s, height=6, color='g', shank_width_scale=2)\n",
    "    plot.plot_probe_shape(ax, s, height=6, color='k', label_axis=True, shank_width_scale=2)\n",
    "\n",
    "plt.show()"
   ]
  },
  {
   "cell_type": "markdown",
   "id": "df7af0d2",
   "metadata": {},
   "source": [
    "plot a channelmap in other style."
   ]
  },
  {
   "cell_type": "code",
   "execution_count": null,
   "id": "8c328bbc",
   "metadata": {},
   "outputs": [
    {
     "data": {
      "image/png": "[encoded data removed]",
      "text/plain": [
       "<Figure size 500x1000 with 1 Axes>"
      ]
     },
     "metadata": {},
     "output_type": "display_data"
    }
   ],
   "source": [
    "s = ChannelMap.from_imro('channelmap.imro')\n",
    "\n",
    "with plt.rc_context(rc):\n",
    "    fg, ax = plt.subplots()\n",
    "\n",
    "    plot.plot_probe_shape(ax, s, height=6, color='gray', label_axis=True, shank_width_scale=2)\n",
    "    plot.plot_channelmap_grid(ax, s, height=6, color='g', lw=4, shank_width_scale=2)\n",
    "\n",
    "\n",
    "plt.show()"
   ]
  },
  {
   "cell_type": "markdown",
   "id": "d2ace938",
   "metadata": {},
   "source": [
    "## Generate a Channelmap"
   ]
  },
  {
   "cell_type": "markdown",
   "id": "3e9b760f",
   "metadata": {},
   "source": [
    "### Typical channelmap"
   ]
  },
  {
   "cell_type": "code",
   "execution_count": null,
   "id": "58e3524b",
   "metadata": {},
   "outputs": [
    {
     "name": "stdout",
     "output_type": "stream",
     "text": [
      "190▕█▏▕ ▏▕ ▏▕ ▏190▕ ▏▕ ▏▕ ▏▕ ▏\n",
      "188▕█▏▕ ▏▕ ▏▕ ▏188▕ ▏▕ ▏▕ ▏▕ ▏\n",
      "186▕█▏▕ ▏▕ ▏▕ ▏186▕ ▏▕ ▏▕ ▏▕ ▏\n",
      "184▕█▏▕ ▏▕ ▏▕ ▏184▕ ▏▕ ▏▕ ▏▕ ▏\n",
      "182▕█▏▕ ▏▕ ▏▕ ▏182▕ ▏▕ ▏▕ ▏▕ ▏\n",
      "180▕█▏▕ ▏▕ ▏▕ ▏180▕ ▏▕ ▏▕ ▏▕ ▏\n",
      "178▕█▏▕ ▏▕ ▏▕ ▏178▕ ▏▕ ▏▕ ▏▕ ▏\n",
      "176▕█▏▕ ▏▕ ▏▕ ▏176▕ ▏▕ ▏▕ ▏▕ ▏\n",
      "174▕█▏▕ ▏▕ ▏▕ ▏174▕ ▏▕ ▏▕ ▏▕ ▏\n",
      "172▕█▏▕ ▏▕ ▏▕ ▏172▕ ▏▕ ▏▕ ▏▕ ▏\n",
      "170▕█▏▕ ▏▕ ▏▕ ▏170▕ ▏▕ ▏▕ ▏▕ ▏\n",
      "168▕█▏▕ ▏▕ ▏▕ ▏168▕ ▏▕ ▏▕ ▏▕ ▏\n",
      "166▕█▏▕ ▏▕ ▏▕ ▏166▕ ▏▕ ▏▕ ▏▕ ▏\n",
      "164▕█▏▕ ▏▕ ▏▕ ▏164▕ ▏▕ ▏▕ ▏▕ ▏\n",
      "162▕█▏▕ ▏▕ ▏▕ ▏162▕ ▏▕ ▏▕ ▏▕ ▏\n",
      "160▕█▏▕ ▏▕ ▏▕ ▏160▕ ▏▕ ▏▕ ▏▕ ▏\n",
      "158▕█▏▕ ▏▕ ▏▕ ▏158▕ ▏▕ ▏▕ ▏▕ ▏\n",
      "156▕█▏▕ ▏▕ ▏▕ ▏156▕ ▏▕ ▏▕ ▏▕ ▏\n",
      "154▕█▏▕ ▏▕ ▏▕ ▏154▕ ▏▕ ▏▕ ▏▕ ▏\n",
      "152▕█▏▕ ▏▕ ▏▕ ▏152▕ ▏▕ ▏▕ ▏▕ ▏\n",
      "150▕█▏▕ ▏▕ ▏▕ ▏150▕ ▏▕ ▏▕ ▏▕ ▏\n",
      "148▕█▏▕ ▏▕ ▏▕ ▏148▕ ▏▕ ▏▕ ▏▕ ▏\n",
      "146▕█▏▕ ▏▕ ▏▕ ▏146▕ ▏▕ ▏▕ ▏▕ ▏\n",
      "144▕█▏▕ ▏▕ ▏▕ ▏144▕ ▏▕ ▏▕ ▏▕ ▏\n",
      "142▕█▏▕ ▏▕ ▏▕ ▏142▕ ▏▕ ▏▕ ▏▕ ▏\n",
      "140▕█▏▕ ▏▕ ▏▕ ▏140▕ ▏▕ ▏▕ ▏▕ ▏\n",
      "138▕█▏▕ ▏▕ ▏▕ ▏138▕ ▏▕ ▏▕ ▏▕ ▏\n",
      "136▕█▏▕ ▏▕ ▏▕ ▏136▕ ▏▕ ▏▕ ▏▕ ▏\n",
      "134▕█▏▕ ▏▕ ▏▕ ▏134▕ ▏▕ ▏▕ ▏▕ ▏\n",
      "132▕█▏▕ ▏▕ ▏▕ ▏132▕ ▏▕ ▏▕ ▏▕ ▏\n",
      "130▕█▏▕ ▏▕ ▏▕ ▏130▕ ▏▕ ▏▕ ▏▕ ▏\n",
      "128▕█▏▕ ▏▕ ▏▕ ▏128▕ ▏▕ ▏▕ ▏▕ ▏\n",
      "126▕█▏▕ ▏▕ ▏▕ ▏126▕ ▏▕ ▏▕ ▏▕ ▏\n",
      "124▕█▏▕ ▏▕ ▏▕ ▏124▕ ▏▕ ▏▕ ▏▕ ▏\n",
      "122▕█▏▕ ▏▕ ▏▕ ▏122▕ ▏▕ ▏▕ ▏▕ ▏\n",
      "120▕█▏▕ ▏▕ ▏▕ ▏120▕ ▏▕ ▏▕ ▏▕ ▏\n",
      "118▕█▏▕ ▏▕ ▏▕ ▏118▕ ▏▕ ▏▕ ▏▕ ▏\n",
      "116▕█▏▕ ▏▕ ▏▕ ▏116▕ ▏▕ ▏▕ ▏▕ ▏\n",
      "114▕█▏▕ ▏▕ ▏▕ ▏114▕ ▏▕ ▏▕ ▏▕ ▏\n",
      "112▕█▏▕ ▏▕ ▏▕ ▏112▕ ▏▕ ▏▕ ▏▕ ▏\n",
      "110▕█▏▕ ▏▕ ▏▕ ▏110▕ ▏▕ ▏▕ ▏▕ ▏\n",
      "108▕█▏▕ ▏▕ ▏▕ ▏108▕ ▏▕ ▏▕ ▏▕ ▏\n",
      "106▕█▏▕ ▏▕ ▏▕ ▏106▕ ▏▕ ▏▕ ▏▕ ▏\n",
      "104▕█▏▕ ▏▕ ▏▕ ▏104▕ ▏▕ ▏▕ ▏▕ ▏\n",
      "102▕█▏▕ ▏▕ ▏▕ ▏102▕ ▏▕ ▏▕ ▏▕ ▏\n",
      "100▕█▏▕ ▏▕ ▏▕ ▏100▕ ▏▕ ▏▕ ▏▕ ▏\n",
      " 98▕█▏▕ ▏▕ ▏▕ ▏ 98▕ ▏▕ ▏▕ ▏▕ ▏\n",
      " 96▕█▏▕ ▏▕ ▏▕ ▏ 96▕ ▏▕ ▏▕ ▏▕ ▏\n",
      " 94▕█▏▕ ▏▕ ▏▕ ▏ 94▕ ▏▕ ▏▕ ▏▕ ▏\n",
      " 92▕█▏▕ ▏▕ ▏▕ ▏ 92▕ ▏▕ ▏▕ ▏▕ ▏\n",
      " 90▕█▏▕ ▏▕ ▏▕ ▏ 90▕ ▏▕ ▏▕ ▏▕ ▏\n",
      " 88▕█▏▕ ▏▕ ▏▕ ▏ 88▕ ▏▕ ▏▕ ▏▕ ▏\n",
      " 86▕█▏▕ ▏▕ ▏▕ ▏ 86▕ ▏▕ ▏▕ ▏▕ ▏\n",
      " 84▕█▏▕ ▏▕ ▏▕ ▏ 84▕ ▏▕ ▏▕ ▏▕ ▏\n",
      " 82▕█▏▕ ▏▕ ▏▕ ▏ 82▕ ▏▕ ▏▕ ▏▕ ▏\n",
      " 80▕█▏▕ ▏▕ ▏▕ ▏ 80▕ ▏▕ ▏▕ ▏▕ ▏\n",
      " 78▕█▏▕ ▏▕ ▏▕ ▏ 78▕ ▏▕ ▏▕ ▏▕ ▏\n",
      " 76▕█▏▕ ▏▕ ▏▕ ▏ 76▕ ▏▕ ▏▕ ▏▕ ▏\n",
      " 74▕█▏▕ ▏▕ ▏▕ ▏ 74▕ ▏▕ ▏▕ ▏▕ ▏\n",
      " 72▕█▏▕ ▏▕ ▏▕ ▏ 72▕ ▏▕ ▏▕ ▏▕ ▏\n",
      " 70▕█▏▕ ▏▕ ▏▕ ▏ 70▕ ▏▕ ▏▕ ▏▕ ▏\n",
      " 68▕█▏▕ ▏▕ ▏▕ ▏ 68▕ ▏▕ ▏▕ ▏▕ ▏\n",
      " 66▕█▏▕ ▏▕ ▏▕ ▏ 66▕ ▏▕ ▏▕ ▏▕ ▏\n",
      " 64▕█▏▕ ▏▕ ▏▕ ▏ 64▕ ▏▕ ▏▕ ▏▕ ▏\n",
      " 62▕█▏▕ ▏▕ ▏▕ ▏ 62▕ ▏▕ ▏▕ ▏▕ ▏\n",
      " 60▕█▏▕ ▏▕ ▏▕ ▏ 60▕ ▏▕ ▏▕ ▏▕ ▏\n",
      " 58▕█▏▕ ▏▕ ▏▕ ▏ 58▕ ▏▕ ▏▕ ▏▕ ▏\n",
      " 56▕█▏▕ ▏▕ ▏▕ ▏ 56▕ ▏▕ ▏▕ ▏▕ ▏\n",
      " 54▕█▏▕ ▏▕ ▏▕ ▏ 54▕ ▏▕ ▏▕ ▏▕ ▏\n",
      " 52▕█▏▕ ▏▕ ▏▕ ▏ 52▕ ▏▕ ▏▕ ▏▕ ▏\n",
      " 50▕█▏▕ ▏▕ ▏▕ ▏ 50▕ ▏▕ ▏▕ ▏▕ ▏\n",
      " 48▕█▏▕ ▏▕ ▏▕ ▏ 48▕ ▏▕ ▏▕ ▏▕ ▏\n",
      " 46▕█▏▕ ▏▕ ▏▕ ▏ 46▕█▏▕█▏▕█▏▕█▏\n",
      " 44▕█▏▕ ▏▕ ▏▕ ▏ 44▕█▏▕█▏▕█▏▕█▏\n",
      " 42▕█▏▕ ▏▕ ▏▕ ▏ 42▕█▏▕█▏▕█▏▕█▏\n",
      " 40▕█▏▕ ▏▕ ▏▕ ▏ 40▕█▏▕█▏▕█▏▕█▏\n",
      " 38▕█▏▕ ▏▕ ▏▕ ▏ 38▕█▏▕█▏▕█▏▕█▏\n",
      " 36▕█▏▕ ▏▕ ▏▕ ▏ 36▕█▏▕█▏▕█▏▕█▏\n",
      " 34▕█▏▕ ▏▕ ▏▕ ▏ 34▕█▏▕█▏▕█▏▕█▏\n",
      " 32▕█▏▕ ▏▕ ▏▕ ▏ 32▕█▏▕█▏▕█▏▕█▏\n",
      " 30▕█▏▕ ▏▕ ▏▕ ▏ 30▕█▏▕█▏▕█▏▕█▏\n",
      " 28▕█▏▕ ▏▕ ▏▕ ▏ 28▕█▏▕█▏▕█▏▕█▏\n",
      " 26▕█▏▕ ▏▕ ▏▕ ▏ 26▕█▏▕█▏▕█▏▕█▏\n",
      " 24▕█▏▕ ▏▕ ▏▕ ▏ 24▕█▏▕█▏▕█▏▕█▏\n",
      " 22▕█▏▕ ▏▕ ▏▕ ▏ 22▕█▏▕█▏▕█▏▕█▏\n",
      " 20▕█▏▕ ▏▕ ▏▕ ▏ 20▕█▏▕█▏▕█▏▕█▏\n",
      " 18▕█▏▕ ▏▕ ▏▕ ▏ 18▕█▏▕█▏▕█▏▕█▏\n",
      " 16▕█▏▕ ▏▕ ▏▕ ▏ 16▕█▏▕█▏▕█▏▕█▏\n",
      " 14▕█▏▕ ▏▕ ▏▕ ▏ 14▕█▏▕█▏▕█▏▕█▏\n",
      " 12▕█▏▕ ▏▕ ▏▕ ▏ 12▕█▏▕█▏▕█▏▕█▏\n",
      " 10▕█▏▕ ▏▕ ▏▕ ▏ 10▕█▏▕█▏▕█▏▕█▏\n",
      "  8▕█▏▕ ▏▕ ▏▕ ▏  8▕█▏▕█▏▕█▏▕█▏\n",
      "  6▕█▏▕ ▏▕ ▏▕ ▏  6▕█▏▕█▏▕█▏▕█▏\n",
      "  4▕█▏▕ ▏▕ ▏▕ ▏  4▕█▏▕█▏▕█▏▕█▏\n",
      "  2▕█▏▕ ▏▕ ▏▕ ▏  2▕█▏▕█▏▕█▏▕█▏\n",
      "  0▕█▏▕ ▏▕ ▏▕ ▏  0▕█▏▕█▏▕█▏▕█▏\n",
      "    ╹  ╹  ╹  ╹     ╹  ╹  ╹  ╹ \n",
      "\n"
     ]
    }
   ],
   "source": [
    "print(print_probe([\n",
    "    npx24_single_shank(0), \n",
    "    npx24_stripe(0)\n",
    "], truncate='top'))"
   ]
  },
  {
   "cell_type": "markdown",
   "id": "cdc6c758",
   "metadata": {},
   "source": [
    "### Uniform channelmaps\n",
    "\n",
    "All selected electrodes are distributed uniformly in a particular density."
   ]
  },
  {
   "cell_type": "code",
   "execution_count": null,
   "id": "81b8b8b3",
   "metadata": {},
   "outputs": [
    {
     "name": "stdout",
     "output_type": "stream",
     "text": [
      "638▕ ▏▕ ▏▕ ▏▕ ▏638▕ ▏▕ ▏▕ ▏▕ ▏638▕▘▏▕ ▏▕ ▏▕ ▏638▕ ▏▕ ▏▕ ▏▕ ▏638▕ ▏▕ ▏▕ ▏▕ ▏638▕ ▏▕ ▏▕ ▏▕ ▏\n",
      "636▕ ▏▕ ▏▕ ▏▕ ▏636▕ ▏▕ ▏▕ ▏▕ ▏636▕▝▏▕ ▏▕ ▏▕ ▏636▕ ▏▕ ▏▕ ▏▕ ▏636▕ ▏▕ ▏▕ ▏▕ ▏636▕ ▏▕ ▏▕ ▏▕ ▏\n",
      "634▕ ▏▕ ▏▕ ▏▕ ▏634▕ ▏▕ ▏▕ ▏▕ ▏634▕▘▏▕ ▏▕ ▏▕ ▏634▕ ▏▕ ▏▕ ▏▕ ▏634▕ ▏▕ ▏▕ ▏▕ ▏634▕ ▏▕ ▏▕ ▏▕ ▏\n",
      "632▕ ▏▕ ▏▕ ▏▕ ▏632▕ ▏▕ ▏▕ ▏▕ ▏632▕▝▏▕ ▏▕ ▏▕ ▏632▕ ▏▕ ▏▕ ▏▕ ▏632▕ ▏▕ ▏▕ ▏▕ ▏632▕ ▏▕ ▏▕ ▏▕ ▏\n",
      "630▕ ▏▕ ▏▕ ▏▕ ▏630▕ ▏▕ ▏▕ ▏▕ ▏630▕▘▏▕ ▏▕ ▏▕ ▏630▕ ▏▕ ▏▕ ▏▕ ▏630▕ ▏▕ ▏▕ ▏▕ ▏630▕ ▏▕ ▏▕ ▏▕ ▏\n",
      "628▕ ▏▕ ▏▕ ▏▕ ▏628▕ ▏▕ ▏▕ ▏▕ ▏628▕▝▏▕ ▏▕ ▏▕ ▏628▕ ▏▕ ▏▕ ▏▕ ▏628▕ ▏▕ ▏▕ ▏▕ ▏628▕ ▏▕ ▏▕ ▏▕ ▏\n",
      "626▕ ▏▕ ▏▕ ▏▕ ▏626▕ ▏▕ ▏▕ ▏▕ ▏626▕▘▏▕ ▏▕ ▏▕ ▏626▕ ▏▕ ▏▕ ▏▕ ▏626▕ ▏▕ ▏▕ ▏▕ ▏626▕ ▏▕ ▏▕ ▏▕ ▏\n",
      "624▕ ▏▕ ▏▕ ▏▕ ▏624▕ ▏▕ ▏▕ ▏▕ ▏624▕▝▏▕ ▏▕ ▏▕ ▏624▕ ▏▕ ▏▕ ▏▕ ▏624▕ ▏▕ ▏▕ ▏▕ ▏624▕ ▏▕ ▏▕ ▏▕ ▏\n",
      "622▕ ▏▕ ▏▕ ▏▕ ▏622▕ ▏▕ ▏▕ ▏▕ ▏622▕▘▏▕ ▏▕ ▏▕ ▏622▕ ▏▕ ▏▕ ▏▕ ▏622▕ ▏▕ ▏▕ ▏▕ ▏622▕ ▏▕ ▏▕ ▏▕ ▏\n",
      "620▕ ▏▕ ▏▕ ▏▕ ▏620▕ ▏▕ ▏▕ ▏▕ ▏620▕▝▏▕ ▏▕ ▏▕ ▏620▕ ▏▕ ▏▕ ▏▕ ▏620▕ ▏▕ ▏▕ ▏▕ ▏620▕ ▏▕ ▏▕ ▏▕ ▏\n",
      "618▕ ▏▕ ▏▕ ▏▕ ▏618▕ ▏▕ ▏▕ ▏▕ ▏618▕▘▏▕ ▏▕ ▏▕ ▏618▕ ▏▕ ▏▕ ▏▕ ▏618▕ ▏▕ ▏▕ ▏▕ ▏618▕ ▏▕ ▏▕ ▏▕ ▏\n",
      "616▕ ▏▕ ▏▕ ▏▕ ▏616▕ ▏▕ ▏▕ ▏▕ ▏616▕▝▏▕ ▏▕ ▏▕ ▏616▕ ▏▕ ▏▕ ▏▕ ▏616▕ ▏▕ ▏▕ ▏▕ ▏616▕ ▏▕ ▏▕ ▏▕ ▏\n",
      "614▕ ▏▕ ▏▕ ▏▕ ▏614▕ ▏▕ ▏▕ ▏▕ ▏614▕▘▏▕ ▏▕ ▏▕ ▏614▕ ▏▕ ▏▕ ▏▕ ▏614▕ ▏▕ ▏▕ ▏▕ ▏614▕ ▏▕ ▏▕ ▏▕ ▏\n",
      "612▕ ▏▕ ▏▕ ▏▕ ▏612▕ ▏▕ ▏▕ ▏▕ ▏612▕▝▏▕ ▏▕ ▏▕ ▏612▕ ▏▕ ▏▕ ▏▕ ▏612▕ ▏▕ ▏▕ ▏▕ ▏612▕ ▏▕ ▏▕ ▏▕ ▏\n",
      "610▕ ▏▕ ▏▕ ▏▕ ▏610▕ ▏▕ ▏▕ ▏▕ ▏610▕▘▏▕ ▏▕ ▏▕ ▏610▕ ▏▕ ▏▕ ▏▕ ▏610▕ ▏▕ ▏▕ ▏▕ ▏610▕ ▏▕ ▏▕ ▏▕ ▏\n",
      "608▕ ▏▕ ▏▕ ▏▕ ▏608▕ ▏▕ ▏▕ ▏▕ ▏608▕▝▏▕ ▏▕ ▏▕ ▏608▕ ▏▕ ▏▕ ▏▕ ▏608▕ ▏▕ ▏▕ ▏▕ ▏608▕ ▏▕ ▏▕ ▏▕ ▏\n",
      "606▕ ▏▕ ▏▕ ▏▕ ▏606▕ ▏▕ ▏▕ ▏▕ ▏606▕▘▏▕ ▏▕ ▏▕ ▏606▕ ▏▕ ▏▕ ▏▕ ▏606▕ ▏▕ ▏▕ ▏▕ ▏606▕ ▏▕ ▏▕ ▏▕ ▏\n",
      "604▕ ▏▕ ▏▕ ▏▕ ▏604▕ ▏▕ ▏▕ ▏▕ ▏604▕▝▏▕ ▏▕ ▏▕ ▏604▕ ▏▕ ▏▕ ▏▕ ▏604▕ ▏▕ ▏▕ ▏▕ ▏604▕ ▏▕ ▏▕ ▏▕ ▏\n",
      "602▕ ▏▕ ▏▕ ▏▕ ▏602▕ ▏▕ ▏▕ ▏▕ ▏602▕▘▏▕ ▏▕ ▏▕ ▏602▕ ▏▕ ▏▕ ▏▕ ▏602▕ ▏▕ ▏▕ ▏▕ ▏602▕ ▏▕ ▏▕ ▏▕ ▏\n",
      "600▕ ▏▕ ▏▕ ▏▕ ▏600▕ ▏▕ ▏▕ ▏▕ ▏600▕▝▏▕ ▏▕ ▏▕ ▏600▕ ▏▕ ▏▕ ▏▕ ▏600▕ ▏▕ ▏▕ ▏▕ ▏600▕ ▏▕ ▏▕ ▏▕ ▏\n",
      "598▕ ▏▕ ▏▕ ▏▕ ▏598▕ ▏▕ ▏▕ ▏▕ ▏598▕▘▏▕ ▏▕ ▏▕ ▏598▕ ▏▕ ▏▕ ▏▕ ▏598▕ ▏▕ ▏▕ ▏▕ ▏598▕ ▏▕ ▏▕ ▏▕ ▏\n",
      "596▕ ▏▕ ▏▕ ▏▕ ▏596▕ ▏▕ ▏▕ ▏▕ ▏596▕▝▏▕ ▏▕ ▏▕ ▏596▕ ▏▕ ▏▕ ▏▕ ▏596▕ ▏▕ ▏▕ ▏▕ ▏596▕ ▏▕ ▏▕ ▏▕ ▏\n",
      "594▕ ▏▕ ▏▕ ▏▕ ▏594▕ ▏▕ ▏▕ ▏▕ ▏594▕▘▏▕ ▏▕ ▏▕ ▏594▕ ▏▕ ▏▕ ▏▕ ▏594▕ ▏▕ ▏▕ ▏▕ ▏594▕ ▏▕ ▏▕ ▏▕ ▏\n",
      "592▕ ▏▕ ▏▕ ▏▕ ▏592▕ ▏▕ ▏▕ ▏▕ ▏592▕▝▏▕ ▏▕ ▏▕ ▏592▕ ▏▕ ▏▕ ▏▕ ▏592▕ ▏▕ ▏▕ ▏▕ ▏592▕ ▏▕ ▏▕ ▏▕ ▏\n",
      "590▕ ▏▕ ▏▕ ▏▕ ▏590▕ ▏▕ ▏▕ ▏▕ ▏590▕▘▏▕ ▏▕ ▏▕ ▏590▕ ▏▕ ▏▕ ▏▕ ▏590▕ ▏▕ ▏▕ ▏▕ ▏590▕ ▏▕ ▏▕ ▏▕ ▏\n",
      "588▕ ▏▕ ▏▕ ▏▕ ▏588▕ ▏▕ ▏▕ ▏▕ ▏588▕▝▏▕ ▏▕ ▏▕ ▏588▕ ▏▕ ▏▕ ▏▕ ▏588▕ ▏▕ ▏▕ ▏▕ ▏588▕ ▏▕ ▏▕ ▏▕ ▏\n",
      "586▕ ▏▕ ▏▕ ▏▕ ▏586▕ ▏▕ ▏▕ ▏▕ ▏586▕▘▏▕ ▏▕ ▏▕ ▏586▕ ▏▕ ▏▕ ▏▕ ▏586▕ ▏▕ ▏▕ ▏▕ ▏586▕ ▏▕ ▏▕ ▏▕ ▏\n",
      "584▕ ▏▕ ▏▕ ▏▕ ▏584▕ ▏▕ ▏▕ ▏▕ ▏584▕▝▏▕ ▏▕ ▏▕ ▏584▕ ▏▕ ▏▕ ▏▕ ▏584▕ ▏▕ ▏▕ ▏▕ ▏584▕ ▏▕ ▏▕ ▏▕ ▏\n",
      "582▕ ▏▕ ▏▕ ▏▕ ▏582▕ ▏▕ ▏▕ ▏▕ ▏582▕▘▏▕ ▏▕ ▏▕ ▏582▕ ▏▕ ▏▕ ▏▕ ▏582▕ ▏▕ ▏▕ ▏▕ ▏582▕ ▏▕ ▏▕ ▏▕ ▏\n",
      "580▕ ▏▕ ▏▕ ▏▕ ▏580▕ ▏▕ ▏▕ ▏▕ ▏580▕▝▏▕ ▏▕ ▏▕ ▏580▕ ▏▕ ▏▕ ▏▕ ▏580▕ ▏▕ ▏▕ ▏▕ ▏580▕ ▏▕ ▏▕ ▏▕ ▏\n",
      "578▕ ▏▕ ▏▕ ▏▕ ▏578▕ ▏▕ ▏▕ ▏▕ ▏578▕▘▏▕ ▏▕ ▏▕ ▏578▕ ▏▕ ▏▕ ▏▕ ▏578▕ ▏▕ ▏▕ ▏▕ ▏578▕ ▏▕ ▏▕ ▏▕ ▏\n",
      "576▕ ▏▕ ▏▕ ▏▕ ▏576▕ ▏▕ ▏▕ ▏▕ ▏576▕▝▏▕ ▏▕ ▏▕ ▏576▕ ▏▕ ▏▕ ▏▕ ▏576▕ ▏▕ ▏▕ ▏▕ ▏576▕ ▏▕ ▏▕ ▏▕ ▏\n",
      "574▕ ▏▕ ▏▕ ▏▕ ▏574▕ ▏▕ ▏▕ ▏▕ ▏574▕▝▏▕ ▏▕ ▏▕ ▏574▕ ▏▕ ▏▕ ▏▕ ▏574▕ ▏▕ ▏▕ ▏▕ ▏574▕ ▏▕ ▏▕ ▏▕ ▏\n",
      "572▕ ▏▕ ▏▕ ▏▕ ▏572▕ ▏▕ ▏▕ ▏▕ ▏572▕▘▏▕ ▏▕ ▏▕ ▏572▕ ▏▕ ▏▕ ▏▕ ▏572▕ ▏▕ ▏▕ ▏▕ ▏572▕ ▏▕ ▏▕ ▏▕ ▏\n",
      "570▕ ▏▕ ▏▕ ▏▕ ▏570▕ ▏▕ ▏▕ ▏▕ ▏570▕▝▏▕ ▏▕ ▏▕ ▏570▕ ▏▕ ▏▕ ▏▕ ▏570▕ ▏▕ ▏▕ ▏▕ ▏570▕ ▏▕ ▏▕ ▏▕ ▏\n",
      "568▕ ▏▕ ▏▕ ▏▕ ▏568▕ ▏▕ ▏▕ ▏▕ ▏568▕▘▏▕ ▏▕ ▏▕ ▏568▕ ▏▕ ▏▕ ▏▕ ▏568▕ ▏▕ ▏▕ ▏▕ ▏568▕ ▏▕ ▏▕ ▏▕ ▏\n",
      "566▕ ▏▕ ▏▕ ▏▕ ▏566▕ ▏▕ ▏▕ ▏▕ ▏566▕▝▏▕ ▏▕ ▏▕ ▏566▕ ▏▕ ▏▕ ▏▕ ▏566▕ ▏▕ ▏▕ ▏▕ ▏566▕ ▏▕ ▏▕ ▏▕ ▏\n",
      "564▕ ▏▕ ▏▕ ▏▕ ▏564▕ ▏▕ ▏▕ ▏▕ ▏564▕▘▏▕ ▏▕ ▏▕ ▏564▕ ▏▕ ▏▕ ▏▕ ▏564▕ ▏▕ ▏▕ ▏▕ ▏564▕ ▏▕ ▏▕ ▏▕ ▏\n",
      "562▕ ▏▕ ▏▕ ▏▕ ▏562▕ ▏▕ ▏▕ ▏▕ ▏562▕▝▏▕ ▏▕ ▏▕ ▏562▕ ▏▕ ▏▕ ▏▕ ▏562▕ ▏▕ ▏▕ ▏▕ ▏562▕ ▏▕ ▏▕ ▏▕ ▏\n",
      "560▕ ▏▕ ▏▕ ▏▕ ▏560▕ ▏▕ ▏▕ ▏▕ ▏560▕▘▏▕ ▏▕ ▏▕ ▏560▕ ▏▕ ▏▕ ▏▕ ▏560▕ ▏▕ ▏▕ ▏▕ ▏560▕ ▏▕ ▏▕ ▏▕ ▏\n",
      "558▕ ▏▕ ▏▕ ▏▕ ▏558▕ ▏▕ ▏▕ ▏▕ ▏558▕▝▏▕ ▏▕ ▏▕ ▏558▕ ▏▕ ▏▕ ▏▕ ▏558▕ ▏▕ ▏▕ ▏▕ ▏558▕ ▏▕ ▏▕ ▏▕ ▏\n",
      "556▕ ▏▕ ▏▕ ▏▕ ▏556▕ ▏▕ ▏▕ ▏▕ ▏556▕▘▏▕ ▏▕ ▏▕ ▏556▕ ▏▕ ▏▕ ▏▕ ▏556▕ ▏▕ ▏▕ ▏▕ ▏556▕ ▏▕ ▏▕ ▏▕ ▏\n",
      "554▕ ▏▕ ▏▕ ▏▕ ▏554▕ ▏▕ ▏▕ ▏▕ ▏554▕▝▏▕ ▏▕ ▏▕ ▏554▕ ▏▕ ▏▕ ▏▕ ▏554▕ ▏▕ ▏▕ ▏▕ ▏554▕ ▏▕ ▏▕ ▏▕ ▏\n",
      "552▕ ▏▕ ▏▕ ▏▕ ▏552▕ ▏▕ ▏▕ ▏▕ ▏552▕▘▏▕ ▏▕ ▏▕ ▏552▕ ▏▕ ▏▕ ▏▕ ▏552▕ ▏▕ ▏▕ ▏▕ ▏552▕ ▏▕ ▏▕ ▏▕ ▏\n",
      "550▕ ▏▕ ▏▕ ▏▕ ▏550▕ ▏▕ ▏▕ ▏▕ ▏550▕▝▏▕ ▏▕ ▏▕ ▏550▕ ▏▕ ▏▕ ▏▕ ▏550▕ ▏▕ ▏▕ ▏▕ ▏550▕ ▏▕ ▏▕ ▏▕ ▏\n",
      "548▕ ▏▕ ▏▕ ▏▕ ▏548▕ ▏▕ ▏▕ ▏▕ ▏548▕▘▏▕ ▏▕ ▏▕ ▏548▕ ▏▕ ▏▕ ▏▕ ▏548▕ ▏▕ ▏▕ ▏▕ ▏548▕ ▏▕ ▏▕ ▏▕ ▏\n",
      "546▕ ▏▕ ▏▕ ▏▕ ▏546▕ ▏▕ ▏▕ ▏▕ ▏546▕▝▏▕ ▏▕ ▏▕ ▏546▕ ▏▕ ▏▕ ▏▕ ▏546▕ ▏▕ ▏▕ ▏▕ ▏546▕ ▏▕ ▏▕ ▏▕ ▏\n",
      "544▕ ▏▕ ▏▕ ▏▕ ▏544▕ ▏▕ ▏▕ ▏▕ ▏544▕▘▏▕ ▏▕ ▏▕ ▏544▕ ▏▕ ▏▕ ▏▕ ▏544▕ ▏▕ ▏▕ ▏▕ ▏544▕ ▏▕ ▏▕ ▏▕ ▏\n",
      "542▕ ▏▕ ▏▕ ▏▕ ▏542▕ ▏▕ ▏▕ ▏▕ ▏542▕▝▏▕ ▏▕ ▏▕ ▏542▕ ▏▕ ▏▕ ▏▕ ▏542▕ ▏▕ ▏▕ ▏▕ ▏542▕ ▏▕ ▏▕ ▏▕ ▏\n",
      "540▕ ▏▕ ▏▕ ▏▕ ▏540▕ ▏▕ ▏▕ ▏▕ ▏540▕▘▏▕ ▏▕ ▏▕ ▏540▕ ▏▕ ▏▕ ▏▕ ▏540▕ ▏▕ ▏▕ ▏▕ ▏540▕ ▏▕ ▏▕ ▏▕ ▏\n",
      "538▕ ▏▕ ▏▕ ▏▕ ▏538▕ ▏▕ ▏▕ ▏▕ ▏538▕▝▏▕ ▏▕ ▏▕ ▏538▕ ▏▕ ▏▕ ▏▕ ▏538▕ ▏▕ ▏▕ ▏▕ ▏538▕ ▏▕ ▏▕ ▏▕ ▏\n",
      "536▕ ▏▕ ▏▕ ▏▕ ▏536▕ ▏▕ ▏▕ ▏▕ ▏536▕▘▏▕ ▏▕ ▏▕ ▏536▕ ▏▕ ▏▕ ▏▕ ▏536▕ ▏▕ ▏▕ ▏▕ ▏536▕ ▏▕ ▏▕ ▏▕ ▏\n",
      "534▕ ▏▕ ▏▕ ▏▕ ▏534▕ ▏▕ ▏▕ ▏▕ ▏534▕▝▏▕ ▏▕ ▏▕ ▏534▕ ▏▕ ▏▕ ▏▕ ▏534▕ ▏▕ ▏▕ ▏▕ ▏534▕ ▏▕ ▏▕ ▏▕ ▏\n",
      "532▕ ▏▕ ▏▕ ▏▕ ▏532▕ ▏▕ ▏▕ ▏▕ ▏532▕▘▏▕ ▏▕ ▏▕ ▏532▕ ▏▕ ▏▕ ▏▕ ▏532▕ ▏▕ ▏▕ ▏▕ ▏532▕ ▏▕ ▏▕ ▏▕ ▏\n",
      "530▕ ▏▕ ▏▕ ▏▕ ▏530▕ ▏▕ ▏▕ ▏▕ ▏530▕▝▏▕ ▏▕ ▏▕ ▏530▕ ▏▕ ▏▕ ▏▕ ▏530▕ ▏▕ ▏▕ ▏▕ ▏530▕ ▏▕ ▏▕ ▏▕ ▏\n",
      "528▕ ▏▕ ▏▕ ▏▕ ▏528▕ ▏▕ ▏▕ ▏▕ ▏528▕▘▏▕ ▏▕ ▏▕ ▏528▕ ▏▕ ▏▕ ▏▕ ▏528▕ ▏▕ ▏▕ ▏▕ ▏528▕ ▏▕ ▏▕ ▏▕ ▏\n",
      "526▕ ▏▕ ▏▕ ▏▕ ▏526▕ ▏▕ ▏▕ ▏▕ ▏526▕▝▏▕ ▏▕ ▏▕ ▏526▕ ▏▕ ▏▕ ▏▕ ▏526▕ ▏▕ ▏▕ ▏▕ ▏526▕ ▏▕ ▏▕ ▏▕ ▏\n",
      "524▕ ▏▕ ▏▕ ▏▕ ▏524▕ ▏▕ ▏▕ ▏▕ ▏524▕▘▏▕ ▏▕ ▏▕ ▏524▕ ▏▕ ▏▕ ▏▕ ▏524▕ ▏▕ ▏▕ ▏▕ ▏524▕ ▏▕ ▏▕ ▏▕ ▏\n",
      "522▕ ▏▕ ▏▕ ▏▕ ▏522▕ ▏▕ ▏▕ ▏▕ ▏522▕▝▏▕ ▏▕ ▏▕ ▏522▕ ▏▕ ▏▕ ▏▕ ▏522▕ ▏▕ ▏▕ ▏▕ ▏522▕ ▏▕ ▏▕ ▏▕ ▏\n",
      "520▕ ▏▕ ▏▕ ▏▕ ▏520▕ ▏▕ ▏▕ ▏▕ ▏520▕▘▏▕ ▏▕ ▏▕ ▏520▕ ▏▕ ▏▕ ▏▕ ▏520▕ ▏▕ ▏▕ ▏▕ ▏520▕ ▏▕ ▏▕ ▏▕ ▏\n",
      "518▕ ▏▕ ▏▕ ▏▕ ▏518▕ ▏▕ ▏▕ ▏▕ ▏518▕▝▏▕ ▏▕ ▏▕ ▏518▕ ▏▕ ▏▕ ▏▕ ▏518▕ ▏▕ ▏▕ ▏▕ ▏518▕ ▏▕ ▏▕ ▏▕ ▏\n",
      "516▕ ▏▕ ▏▕ ▏▕ ▏516▕ ▏▕ ▏▕ ▏▕ ▏516▕▘▏▕ ▏▕ ▏▕ ▏516▕ ▏▕ ▏▕ ▏▕ ▏516▕ ▏▕ ▏▕ ▏▕ ▏516▕ ▏▕ ▏▕ ▏▕ ▏\n",
      "514▕ ▏▕ ▏▕ ▏▕ ▏514▕ ▏▕ ▏▕ ▏▕ ▏514▕▝▏▕ ▏▕ ▏▕ ▏514▕ ▏▕ ▏▕ ▏▕ ▏514▕ ▏▕ ▏▕ ▏▕ ▏514▕ ▏▕ ▏▕ ▏▕ ▏\n",
      "512▕ ▏▕ ▏▕ ▏▕ ▏512▕ ▏▕ ▏▕ ▏▕ ▏512▕▘▏▕ ▏▕ ▏▕ ▏512▕ ▏▕ ▏▕ ▏▕ ▏512▕ ▏▕ ▏▕ ▏▕ ▏512▕ ▏▕ ▏▕ ▏▕ ▏\n",
      "510▕ ▏▕ ▏▕ ▏▕ ▏510▕ ▏▕ ▏▕ ▏▕ ▏510▕▝▏▕ ▏▕ ▏▕ ▏510▕ ▏▕ ▏▕ ▏▕ ▏510▕ ▏▕ ▏▕ ▏▕ ▏510▕ ▏▕ ▏▕ ▏▕ ▏\n",
      "508▕ ▏▕ ▏▕ ▏▕ ▏508▕ ▏▕ ▏▕ ▏▕ ▏508▕▘▏▕ ▏▕ ▏▕ ▏508▕ ▏▕ ▏▕ ▏▕ ▏508▕ ▏▕ ▏▕ ▏▕ ▏508▕ ▏▕ ▏▕ ▏▕ ▏\n",
      "506▕ ▏▕ ▏▕ ▏▕ ▏506▕ ▏▕ ▏▕ ▏▕ ▏506▕▝▏▕ ▏▕ ▏▕ ▏506▕ ▏▕ ▏▕ ▏▕ ▏506▕ ▏▕ ▏▕ ▏▕ ▏506▕ ▏▕ ▏▕ ▏▕ ▏\n",
      "504▕ ▏▕ ▏▕ ▏▕ ▏504▕ ▏▕ ▏▕ ▏▕ ▏504▕▘▏▕ ▏▕ ▏▕ ▏504▕ ▏▕ ▏▕ ▏▕ ▏504▕ ▏▕ ▏▕ ▏▕ ▏504▕ ▏▕ ▏▕ ▏▕ ▏\n",
      "502▕ ▏▕ ▏▕ ▏▕ ▏502▕ ▏▕ ▏▕ ▏▕ ▏502▕▝▏▕ ▏▕ ▏▕ ▏502▕ ▏▕ ▏▕ ▏▕ ▏502▕ ▏▕ ▏▕ ▏▕ ▏502▕ ▏▕ ▏▕ ▏▕ ▏\n",
      "500▕ ▏▕ ▏▕ ▏▕ ▏500▕ ▏▕ ▏▕ ▏▕ ▏500▕▘▏▕ ▏▕ ▏▕ ▏500▕ ▏▕ ▏▕ ▏▕ ▏500▕ ▏▕ ▏▕ ▏▕ ▏500▕ ▏▕ ▏▕ ▏▕ ▏\n",
      "498▕ ▏▕ ▏▕ ▏▕ ▏498▕ ▏▕ ▏▕ ▏▕ ▏498▕▝▏▕ ▏▕ ▏▕ ▏498▕ ▏▕ ▏▕ ▏▕ ▏498▕ ▏▕ ▏▕ ▏▕ ▏498▕ ▏▕ ▏▕ ▏▕ ▏\n",
      "496▕ ▏▕ ▏▕ ▏▕ ▏496▕ ▏▕ ▏▕ ▏▕ ▏496▕▘▏▕ ▏▕ ▏▕ ▏496▕ ▏▕ ▏▕ ▏▕ ▏496▕ ▏▕ ▏▕ ▏▕ ▏496▕ ▏▕ ▏▕ ▏▕ ▏\n",
      "494▕ ▏▕ ▏▕ ▏▕ ▏494▕ ▏▕ ▏▕ ▏▕ ▏494▕▝▏▕ ▏▕ ▏▕ ▏494▕ ▏▕ ▏▕ ▏▕ ▏494▕ ▏▕ ▏▕ ▏▕ ▏494▕ ▏▕ ▏▕ ▏▕ ▏\n",
      "492▕ ▏▕ ▏▕ ▏▕ ▏492▕ ▏▕ ▏▕ ▏▕ ▏492▕▘▏▕ ▏▕ ▏▕ ▏492▕ ▏▕ ▏▕ ▏▕ ▏492▕ ▏▕ ▏▕ ▏▕ ▏492▕ ▏▕ ▏▕ ▏▕ ▏\n",
      "490▕ ▏▕ ▏▕ ▏▕ ▏490▕ ▏▕ ▏▕ ▏▕ ▏490▕▝▏▕ ▏▕ ▏▕ ▏490▕ ▏▕ ▏▕ ▏▕ ▏490▕ ▏▕ ▏▕ ▏▕ ▏490▕ ▏▕ ▏▕ ▏▕ ▏\n",
      "488▕ ▏▕ ▏▕ ▏▕ ▏488▕ ▏▕ ▏▕ ▏▕ ▏488▕▘▏▕ ▏▕ ▏▕ ▏488▕ ▏▕ ▏▕ ▏▕ ▏488▕ ▏▕ ▏▕ ▏▕ ▏488▕ ▏▕ ▏▕ ▏▕ ▏\n",
      "486▕ ▏▕ ▏▕ ▏▕ ▏486▕ ▏▕ ▏▕ ▏▕ ▏486▕▝▏▕ ▏▕ ▏▕ ▏486▕ ▏▕ ▏▕ ▏▕ ▏486▕ ▏▕ ▏▕ ▏▕ ▏486▕ ▏▕ ▏▕ ▏▕ ▏\n",
      "484▕ ▏▕ ▏▕ ▏▕ ▏484▕ ▏▕ ▏▕ ▏▕ ▏484▕▘▏▕ ▏▕ ▏▕ ▏484▕ ▏▕ ▏▕ ▏▕ ▏484▕ ▏▕ ▏▕ ▏▕ ▏484▕ ▏▕ ▏▕ ▏▕ ▏\n",
      "482▕ ▏▕ ▏▕ ▏▕ ▏482▕ ▏▕ ▏▕ ▏▕ ▏482▕▝▏▕ ▏▕ ▏▕ ▏482▕ ▏▕ ▏▕ ▏▕ ▏482▕ ▏▕ ▏▕ ▏▕ ▏482▕ ▏▕ ▏▕ ▏▕ ▏\n",
      "480▕ ▏▕ ▏▕ ▏▕ ▏480▕ ▏▕ ▏▕ ▏▕ ▏480▕▘▏▕ ▏▕ ▏▕ ▏480▕ ▏▕ ▏▕ ▏▕ ▏480▕ ▏▕ ▏▕ ▏▕ ▏480▕ ▏▕ ▏▕ ▏▕ ▏\n",
      "478▕ ▏▕ ▏▕ ▏▕ ▏478▕ ▏▕ ▏▕ ▏▕ ▏478▕▝▏▕ ▏▕ ▏▕ ▏478▕ ▏▕ ▏▕ ▏▕ ▏478▕ ▏▕ ▏▕ ▏▕ ▏478▕ ▏▕ ▏▕ ▏▕ ▏\n",
      "476▕ ▏▕ ▏▕ ▏▕ ▏476▕ ▏▕ ▏▕ ▏▕ ▏476▕▘▏▕ ▏▕ ▏▕ ▏476▕ ▏▕ ▏▕ ▏▕ ▏476▕ ▏▕ ▏▕ ▏▕ ▏476▕ ▏▕ ▏▕ ▏▕ ▏\n",
      "474▕ ▏▕ ▏▕ ▏▕ ▏474▕ ▏▕ ▏▕ ▏▕ ▏474▕▝▏▕ ▏▕ ▏▕ ▏474▕ ▏▕ ▏▕ ▏▕ ▏474▕ ▏▕ ▏▕ ▏▕ ▏474▕ ▏▕ ▏▕ ▏▕ ▏\n",
      "472▕ ▏▕ ▏▕ ▏▕ ▏472▕ ▏▕ ▏▕ ▏▕ ▏472▕▘▏▕ ▏▕ ▏▕ ▏472▕ ▏▕ ▏▕ ▏▕ ▏472▕ ▏▕ ▏▕ ▏▕ ▏472▕ ▏▕ ▏▕ ▏▕ ▏\n",
      "470▕ ▏▕ ▏▕ ▏▕ ▏470▕ ▏▕ ▏▕ ▏▕ ▏470▕▝▏▕ ▏▕ ▏▕ ▏470▕ ▏▕ ▏▕ ▏▕ ▏470▕ ▏▕ ▏▕ ▏▕ ▏470▕ ▏▕ ▏▕ ▏▕ ▏\n",
      "468▕ ▏▕ ▏▕ ▏▕ ▏468▕ ▏▕ ▏▕ ▏▕ ▏468▕▘▏▕ ▏▕ ▏▕ ▏468▕ ▏▕ ▏▕ ▏▕ ▏468▕ ▏▕ ▏▕ ▏▕ ▏468▕ ▏▕ ▏▕ ▏▕ ▏\n",
      "466▕ ▏▕ ▏▕ ▏▕ ▏466▕ ▏▕ ▏▕ ▏▕ ▏466▕▝▏▕ ▏▕ ▏▕ ▏466▕ ▏▕ ▏▕ ▏▕ ▏466▕ ▏▕ ▏▕ ▏▕ ▏466▕ ▏▕ ▏▕ ▏▕ ▏\n",
      "464▕ ▏▕ ▏▕ ▏▕ ▏464▕ ▏▕ ▏▕ ▏▕ ▏464▕▘▏▕ ▏▕ ▏▕ ▏464▕ ▏▕ ▏▕ ▏▕ ▏464▕ ▏▕ ▏▕ ▏▕ ▏464▕ ▏▕ ▏▕ ▏▕ ▏\n",
      "462▕ ▏▕ ▏▕ ▏▕ ▏462▕ ▏▕ ▏▕ ▏▕ ▏462▕▝▏▕ ▏▕ ▏▕ ▏462▕ ▏▕ ▏▕ ▏▕ ▏462▕ ▏▕ ▏▕ ▏▕ ▏462▕ ▏▕ ▏▕ ▏▕ ▏\n",
      "460▕ ▏▕ ▏▕ ▏▕ ▏460▕ ▏▕ ▏▕ ▏▕ ▏460▕▘▏▕ ▏▕ ▏▕ ▏460▕ ▏▕ ▏▕ ▏▕ ▏460▕ ▏▕ ▏▕ ▏▕ ▏460▕ ▏▕ ▏▕ ▏▕ ▏\n",
      "458▕ ▏▕ ▏▕ ▏▕ ▏458▕ ▏▕ ▏▕ ▏▕ ▏458▕▝▏▕ ▏▕ ▏▕ ▏458▕ ▏▕ ▏▕ ▏▕ ▏458▕ ▏▕ ▏▕ ▏▕ ▏458▕ ▏▕ ▏▕ ▏▕ ▏\n",
      "456▕ ▏▕ ▏▕ ▏▕ ▏456▕ ▏▕ ▏▕ ▏▕ ▏456▕▘▏▕ ▏▕ ▏▕ ▏456▕ ▏▕ ▏▕ ▏▕ ▏456▕ ▏▕ ▏▕ ▏▕ ▏456▕ ▏▕ ▏▕ ▏▕ ▏\n",
      "454▕ ▏▕ ▏▕ ▏▕ ▏454▕ ▏▕ ▏▕ ▏▕ ▏454▕▝▏▕ ▏▕ ▏▕ ▏454▕ ▏▕ ▏▕ ▏▕ ▏454▕ ▏▕ ▏▕ ▏▕ ▏454▕ ▏▕ ▏▕ ▏▕ ▏\n",
      "452▕ ▏▕ ▏▕ ▏▕ ▏452▕ ▏▕ ▏▕ ▏▕ ▏452▕▘▏▕ ▏▕ ▏▕ ▏452▕ ▏▕ ▏▕ ▏▕ ▏452▕ ▏▕ ▏▕ ▏▕ ▏452▕ ▏▕ ▏▕ ▏▕ ▏\n",
      "450▕ ▏▕ ▏▕ ▏▕ ▏450▕ ▏▕ ▏▕ ▏▕ ▏450▕▝▏▕ ▏▕ ▏▕ ▏450▕ ▏▕ ▏▕ ▏▕ ▏450▕ ▏▕ ▏▕ ▏▕ ▏450▕ ▏▕ ▏▕ ▏▕ ▏\n",
      "448▕ ▏▕ ▏▕ ▏▕ ▏448▕ ▏▕ ▏▕ ▏▕ ▏448▕▘▏▕ ▏▕ ▏▕ ▏448▕ ▏▕ ▏▕ ▏▕ ▏448▕ ▏▕ ▏▕ ▏▕ ▏448▕ ▏▕ ▏▕ ▏▕ ▏\n",
      "446▕ ▏▕ ▏▕ ▏▕ ▏446▕ ▏▕ ▏▕ ▏▕ ▏446▕▝▏▕ ▏▕ ▏▕ ▏446▕ ▏▕ ▏▕ ▏▕ ▏446▕ ▏▕ ▏▕ ▏▕ ▏446▕ ▏▕ ▏▕ ▏▕ ▏\n",
      "444▕ ▏▕ ▏▕ ▏▕ ▏444▕ ▏▕ ▏▕ ▏▕ ▏444▕▘▏▕ ▏▕ ▏▕ ▏444▕ ▏▕ ▏▕ ▏▕ ▏444▕ ▏▕ ▏▕ ▏▕ ▏444▕ ▏▕ ▏▕ ▏▕ ▏\n",
      "442▕ ▏▕ ▏▕ ▏▕ ▏442▕ ▏▕ ▏▕ ▏▕ ▏442▕▝▏▕ ▏▕ ▏▕ ▏442▕ ▏▕ ▏▕ ▏▕ ▏442▕ ▏▕ ▏▕ ▏▕ ▏442▕ ▏▕ ▏▕ ▏▕ ▏\n",
      "440▕ ▏▕ ▏▕ ▏▕ ▏440▕ ▏▕ ▏▕ ▏▕ ▏440▕▘▏▕ ▏▕ ▏▕ ▏440▕ ▏▕ ▏▕ ▏▕ ▏440▕ ▏▕ ▏▕ ▏▕ ▏440▕ ▏▕ ▏▕ ▏▕ ▏\n",
      "438▕ ▏▕ ▏▕ ▏▕ ▏438▕ ▏▕ ▏▕ ▏▕ ▏438▕▝▏▕ ▏▕ ▏▕ ▏438▕ ▏▕ ▏▕ ▏▕ ▏438▕ ▏▕ ▏▕ ▏▕ ▏438▕ ▏▕ ▏▕ ▏▕ ▏\n",
      "436▕ ▏▕ ▏▕ ▏▕ ▏436▕ ▏▕ ▏▕ ▏▕ ▏436▕▘▏▕ ▏▕ ▏▕ ▏436▕ ▏▕ ▏▕ ▏▕ ▏436▕ ▏▕ ▏▕ ▏▕ ▏436▕ ▏▕ ▏▕ ▏▕ ▏\n",
      "434▕ ▏▕ ▏▕ ▏▕ ▏434▕ ▏▕ ▏▕ ▏▕ ▏434▕▝▏▕ ▏▕ ▏▕ ▏434▕ ▏▕ ▏▕ ▏▕ ▏434▕ ▏▕ ▏▕ ▏▕ ▏434▕ ▏▕ ▏▕ ▏▕ ▏\n",
      "432▕ ▏▕ ▏▕ ▏▕ ▏432▕ ▏▕ ▏▕ ▏▕ ▏432▕▘▏▕ ▏▕ ▏▕ ▏432▕ ▏▕ ▏▕ ▏▕ ▏432▕ ▏▕ ▏▕ ▏▕ ▏432▕ ▏▕ ▏▕ ▏▕ ▏\n",
      "430▕ ▏▕ ▏▕ ▏▕ ▏430▕ ▏▕ ▏▕ ▏▕ ▏430▕▝▏▕ ▏▕ ▏▕ ▏430▕ ▏▕ ▏▕ ▏▕ ▏430▕ ▏▕ ▏▕ ▏▕ ▏430▕ ▏▕ ▏▕ ▏▕ ▏\n",
      "428▕ ▏▕ ▏▕ ▏▕ ▏428▕ ▏▕ ▏▕ ▏▕ ▏428▕▘▏▕ ▏▕ ▏▕ ▏428▕ ▏▕ ▏▕ ▏▕ ▏428▕ ▏▕ ▏▕ ▏▕ ▏428▕ ▏▕ ▏▕ ▏▕ ▏\n",
      "426▕ ▏▕ ▏▕ ▏▕ ▏426▕ ▏▕ ▏▕ ▏▕ ▏426▕▝▏▕ ▏▕ ▏▕ ▏426▕ ▏▕ ▏▕ ▏▕ ▏426▕ ▏▕ ▏▕ ▏▕ ▏426▕ ▏▕ ▏▕ ▏▕ ▏\n",
      "424▕ ▏▕ ▏▕ ▏▕ ▏424▕ ▏▕ ▏▕ ▏▕ ▏424▕▘▏▕ ▏▕ ▏▕ ▏424▕ ▏▕ ▏▕ ▏▕ ▏424▕ ▏▕ ▏▕ ▏▕ ▏424▕ ▏▕ ▏▕ ▏▕ ▏\n",
      "422▕ ▏▕ ▏▕ ▏▕ ▏422▕ ▏▕ ▏▕ ▏▕ ▏422▕▝▏▕ ▏▕ ▏▕ ▏422▕ ▏▕ ▏▕ ▏▕ ▏422▕ ▏▕ ▏▕ ▏▕ ▏422▕ ▏▕ ▏▕ ▏▕ ▏\n",
      "420▕ ▏▕ ▏▕ ▏▕ ▏420▕ ▏▕ ▏▕ ▏▕ ▏420▕▘▏▕ ▏▕ ▏▕ ▏420▕ ▏▕ ▏▕ ▏▕ ▏420▕ ▏▕ ▏▕ ▏▕ ▏420▕ ▏▕ ▏▕ ▏▕ ▏\n",
      "418▕ ▏▕ ▏▕ ▏▕ ▏418▕ ▏▕ ▏▕ ▏▕ ▏418▕▝▏▕ ▏▕ ▏▕ ▏418▕ ▏▕ ▏▕ ▏▕ ▏418▕ ▏▕ ▏▕ ▏▕ ▏418▕ ▏▕ ▏▕ ▏▕ ▏\n",
      "416▕ ▏▕ ▏▕ ▏▕ ▏416▕ ▏▕ ▏▕ ▏▕ ▏416▕▘▏▕ ▏▕ ▏▕ ▏416▕ ▏▕ ▏▕ ▏▕ ▏416▕ ▏▕ ▏▕ ▏▕ ▏416▕ ▏▕ ▏▕ ▏▕ ▏\n",
      "414▕ ▏▕ ▏▕ ▏▕ ▏414▕ ▏▕ ▏▕ ▏▕ ▏414▕▝▏▕ ▏▕ ▏▕ ▏414▕ ▏▕ ▏▕ ▏▕ ▏414▕ ▏▕ ▏▕ ▏▕ ▏414▕ ▏▕ ▏▕ ▏▕ ▏\n",
      "412▕ ▏▕ ▏▕ ▏▕ ▏412▕ ▏▕ ▏▕ ▏▕ ▏412▕▘▏▕ ▏▕ ▏▕ ▏412▕ ▏▕ ▏▕ ▏▕ ▏412▕ ▏▕ ▏▕ ▏▕ ▏412▕ ▏▕ ▏▕ ▏▕ ▏\n",
      "410▕ ▏▕ ▏▕ ▏▕ ▏410▕ ▏▕ ▏▕ ▏▕ ▏410▕▝▏▕ ▏▕ ▏▕ ▏410▕ ▏▕ ▏▕ ▏▕ ▏410▕ ▏▕ ▏▕ ▏▕ ▏410▕ ▏▕ ▏▕ ▏▕ ▏\n",
      "408▕ ▏▕ ▏▕ ▏▕ ▏408▕ ▏▕ ▏▕ ▏▕ ▏408▕▘▏▕ ▏▕ ▏▕ ▏408▕ ▏▕ ▏▕ ▏▕ ▏408▕ ▏▕ ▏▕ ▏▕ ▏408▕ ▏▕ ▏▕ ▏▕ ▏\n",
      "406▕ ▏▕ ▏▕ ▏▕ ▏406▕ ▏▕ ▏▕ ▏▕ ▏406▕▝▏▕ ▏▕ ▏▕ ▏406▕ ▏▕ ▏▕ ▏▕ ▏406▕ ▏▕ ▏▕ ▏▕ ▏406▕ ▏▕ ▏▕ ▏▕ ▏\n",
      "404▕ ▏▕ ▏▕ ▏▕ ▏404▕ ▏▕ ▏▕ ▏▕ ▏404▕▘▏▕ ▏▕ ▏▕ ▏404▕ ▏▕ ▏▕ ▏▕ ▏404▕ ▏▕ ▏▕ ▏▕ ▏404▕ ▏▕ ▏▕ ▏▕ ▏\n",
      "402▕ ▏▕ ▏▕ ▏▕ ▏402▕ ▏▕ ▏▕ ▏▕ ▏402▕▝▏▕ ▏▕ ▏▕ ▏402▕ ▏▕ ▏▕ ▏▕ ▏402▕ ▏▕ ▏▕ ▏▕ ▏402▕ ▏▕ ▏▕ ▏▕ ▏\n",
      "400▕ ▏▕ ▏▕ ▏▕ ▏400▕ ▏▕ ▏▕ ▏▕ ▏400▕▘▏▕ ▏▕ ▏▕ ▏400▕ ▏▕ ▏▕ ▏▕ ▏400▕ ▏▕ ▏▕ ▏▕ ▏400▕ ▏▕ ▏▕ ▏▕ ▏\n",
      "398▕ ▏▕ ▏▕ ▏▕ ▏398▕ ▏▕ ▏▕ ▏▕ ▏398▕▝▏▕ ▏▕ ▏▕ ▏398▕ ▏▕ ▏▕ ▏▕ ▏398▕ ▏▕ ▏▕ ▏▕ ▏398▕ ▏▕ ▏▕ ▏▕ ▏\n",
      "396▕ ▏▕ ▏▕ ▏▕ ▏396▕ ▏▕ ▏▕ ▏▕ ▏396▕▘▏▕ ▏▕ ▏▕ ▏396▕ ▏▕ ▏▕ ▏▕ ▏396▕ ▏▕ ▏▕ ▏▕ ▏396▕ ▏▕ ▏▕ ▏▕ ▏\n",
      "394▕ ▏▕ ▏▕ ▏▕ ▏394▕ ▏▕ ▏▕ ▏▕ ▏394▕▝▏▕ ▏▕ ▏▕ ▏394▕ ▏▕ ▏▕ ▏▕ ▏394▕ ▏▕ ▏▕ ▏▕ ▏394▕ ▏▕ ▏▕ ▏▕ ▏\n",
      "392▕ ▏▕ ▏▕ ▏▕ ▏392▕ ▏▕ ▏▕ ▏▕ ▏392▕▘▏▕ ▏▕ ▏▕ ▏392▕ ▏▕ ▏▕ ▏▕ ▏392▕ ▏▕ ▏▕ ▏▕ ▏392▕ ▏▕ ▏▕ ▏▕ ▏\n",
      "390▕ ▏▕ ▏▕ ▏▕ ▏390▕ ▏▕ ▏▕ ▏▕ ▏390▕▝▏▕ ▏▕ ▏▕ ▏390▕ ▏▕ ▏▕ ▏▕ ▏390▕ ▏▕ ▏▕ ▏▕ ▏390▕ ▏▕ ▏▕ ▏▕ ▏\n",
      "388▕ ▏▕ ▏▕ ▏▕ ▏388▕ ▏▕ ▏▕ ▏▕ ▏388▕▘▏▕ ▏▕ ▏▕ ▏388▕ ▏▕ ▏▕ ▏▕ ▏388▕ ▏▕ ▏▕ ▏▕ ▏388▕ ▏▕ ▏▕ ▏▕ ▏\n",
      "386▕ ▏▕ ▏▕ ▏▕ ▏386▕ ▏▕ ▏▕ ▏▕ ▏386▕▝▏▕ ▏▕ ▏▕ ▏386▕ ▏▕ ▏▕ ▏▕ ▏386▕ ▏▕ ▏▕ ▏▕ ▏386▕ ▏▕ ▏▕ ▏▕ ▏\n",
      "384▕ ▏▕ ▏▕ ▏▕ ▏384▕ ▏▕ ▏▕ ▏▕ ▏384▕▘▏▕ ▏▕ ▏▕ ▏384▕ ▏▕ ▏▕ ▏▕ ▏384▕ ▏▕ ▏▕ ▏▕ ▏384▕ ▏▕ ▏▕ ▏▕ ▏\n",
      "382▕▚▏▕ ▏▕ ▏▕ ▏382▕ ▏▕ ▏▕ ▏▕ ▏382▕▖▏▕ ▏▕ ▏▕ ▏382▕▖▏▕ ▏▕▝▏▕ ▏382▕ ▏▕ ▏▕ ▏▕ ▏382▕ ▏▕ ▏▕▖▏▕▘▏\n",
      "380▕▚▏▕ ▏▕ ▏▕ ▏380▕ ▏▕ ▏▕ ▏▕ ▏380▕▗▏▕ ▏▕ ▏▕ ▏380▕▗▏▕ ▏▕▘▏▕ ▏380▕ ▏▕ ▏▕ ▏▕ ▏380▕▖▏▕▘▏▕ ▏▕ ▏\n",
      "378▕▚▏▕ ▏▕ ▏▕ ▏378▕ ▏▕ ▏▕ ▏▕ ▏378▕▖▏▕ ▏▕ ▏▕ ▏378▕▖▏▕ ▏▕▝▏▕ ▏378▕ ▏▕ ▏▕ ▏▕ ▏378▕ ▏▕ ▏▕▗▏▕▝▏\n",
      "376▕▚▏▕ ▏▕ ▏▕ ▏376▕ ▏▕ ▏▕ ▏▕ ▏376▕▗▏▕ ▏▕ ▏▕ ▏376▕▗▏▕ ▏▕▘▏▕ ▏376▕ ▏▕ ▏▕ ▏▕ ▏376▕▗▏▕▝▏▕ ▏▕ ▏\n",
      "374▕▚▏▕ ▏▕ ▏▕ ▏374▕ ▏▕ ▏▕ ▏▕ ▏374▕▖▏▕ ▏▕ ▏▕ ▏374▕▖▏▕ ▏▕▝▏▕ ▏374▕ ▏▕ ▏▕ ▏▕ ▏374▕ ▏▕ ▏▕▖▏▕▘▏\n",
      "372▕▚▏▕ ▏▕ ▏▕ ▏372▕ ▏▕ ▏▕ ▏▕ ▏372▕▗▏▕ ▏▕ ▏▕ ▏372▕▗▏▕ ▏▕▘▏▕ ▏372▕ ▏▕ ▏▕ ▏▕ ▏372▕▖▏▕▘▏▕ ▏▕ ▏\n",
      "370▕▚▏▕ ▏▕ ▏▕ ▏370▕ ▏▕ ▏▕ ▏▕ ▏370▕▖▏▕ ▏▕ ▏▕ ▏370▕▖▏▕ ▏▕▝▏▕ ▏370▕ ▏▕ ▏▕ ▏▕ ▏370▕ ▏▕ ▏▕▗▏▕▝▏\n",
      "368▕▚▏▕ ▏▕ ▏▕ ▏368▕ ▏▕ ▏▕ ▏▕ ▏368▕▗▏▕ ▏▕ ▏▕ ▏368▕▗▏▕ ▏▕▘▏▕ ▏368▕ ▏▕ ▏▕ ▏▕ ▏368▕▗▏▕▝▏▕ ▏▕ ▏\n",
      "366▕▚▏▕ ▏▕ ▏▕ ▏366▕ ▏▕ ▏▕ ▏▕ ▏366▕▖▏▕ ▏▕ ▏▕ ▏366▕▖▏▕ ▏▕▝▏▕ ▏366▕ ▏▕ ▏▕ ▏▕ ▏366▕ ▏▕ ▏▕▖▏▕▘▏\n",
      "364▕▚▏▕ ▏▕ ▏▕ ▏364▕ ▏▕ ▏▕ ▏▕ ▏364▕▗▏▕ ▏▕ ▏▕ ▏364▕▗▏▕ ▏▕▘▏▕ ▏364▕ ▏▕ ▏▕ ▏▕ ▏364▕▖▏▕▘▏▕ ▏▕ ▏\n",
      "362▕▚▏▕ ▏▕ ▏▕ ▏362▕ ▏▕ ▏▕ ▏▕ ▏362▕▖▏▕ ▏▕ ▏▕ ▏362▕▖▏▕ ▏▕▝▏▕ ▏362▕ ▏▕ ▏▕ ▏▕ ▏362▕ ▏▕ ▏▕▗▏▕▝▏\n",
      "360▕▚▏▕ ▏▕ ▏▕ ▏360▕ ▏▕ ▏▕ ▏▕ ▏360▕▗▏▕ ▏▕ ▏▕ ▏360▕▗▏▕ ▏▕▘▏▕ ▏360▕ ▏▕ ▏▕ ▏▕ ▏360▕▗▏▕▝▏▕ ▏▕ ▏\n",
      "358▕▚▏▕ ▏▕ ▏▕ ▏358▕ ▏▕ ▏▕ ▏▕ ▏358▕▖▏▕ ▏▕ ▏▕ ▏358▕▖▏▕ ▏▕▝▏▕ ▏358▕ ▏▕ ▏▕ ▏▕ ▏358▕ ▏▕ ▏▕▖▏▕▘▏\n",
      "356▕▚▏▕ ▏▕ ▏▕ ▏356▕ ▏▕ ▏▕ ▏▕ ▏356▕▗▏▕ ▏▕ ▏▕ ▏356▕▗▏▕ ▏▕▘▏▕ ▏356▕ ▏▕ ▏▕ ▏▕ ▏356▕▖▏▕▘▏▕ ▏▕ ▏\n",
      "354▕▚▏▕ ▏▕ ▏▕ ▏354▕ ▏▕ ▏▕ ▏▕ ▏354▕▖▏▕ ▏▕ ▏▕ ▏354▕▖▏▕ ▏▕▝▏▕ ▏354▕ ▏▕ ▏▕ ▏▕ ▏354▕ ▏▕ ▏▕▗▏▕▝▏\n",
      "352▕▚▏▕ ▏▕ ▏▕ ▏352▕ ▏▕ ▏▕ ▏▕ ▏352▕▗▏▕ ▏▕ ▏▕ ▏352▕▗▏▕ ▏▕▘▏▕ ▏352▕ ▏▕ ▏▕ ▏▕ ▏352▕▗▏▕▝▏▕ ▏▕ ▏\n",
      "350▕▚▏▕ ▏▕ ▏▕ ▏350▕ ▏▕ ▏▕ ▏▕ ▏350▕▖▏▕ ▏▕ ▏▕ ▏350▕▖▏▕ ▏▕▝▏▕ ▏350▕ ▏▕ ▏▕ ▏▕ ▏350▕ ▏▕ ▏▕▖▏▕▘▏\n",
      "348▕▚▏▕ ▏▕ ▏▕ ▏348▕ ▏▕ ▏▕ ▏▕ ▏348▕▗▏▕ ▏▕ ▏▕ ▏348▕▗▏▕ ▏▕▘▏▕ ▏348▕ ▏▕ ▏▕ ▏▕ ▏348▕▖▏▕▘▏▕ ▏▕ ▏\n",
      "346▕▚▏▕ ▏▕ ▏▕ ▏346▕ ▏▕ ▏▕ ▏▕ ▏346▕▖▏▕ ▏▕ ▏▕ ▏346▕▖▏▕ ▏▕▝▏▕ ▏346▕ ▏▕ ▏▕ ▏▕ ▏346▕ ▏▕ ▏▕▗▏▕▝▏\n",
      "344▕▚▏▕ ▏▕ ▏▕ ▏344▕ ▏▕ ▏▕ ▏▕ ▏344▕▗▏▕ ▏▕ ▏▕ ▏344▕▗▏▕ ▏▕▘▏▕ ▏344▕ ▏▕ ▏▕ ▏▕ ▏344▕▗▏▕▝▏▕ ▏▕ ▏\n",
      "342▕▚▏▕ ▏▕ ▏▕ ▏342▕ ▏▕ ▏▕ ▏▕ ▏342▕▖▏▕ ▏▕ ▏▕ ▏342▕▖▏▕ ▏▕▝▏▕ ▏342▕ ▏▕ ▏▕ ▏▕ ▏342▕ ▏▕ ▏▕▖▏▕▘▏\n",
      "340▕▚▏▕ ▏▕ ▏▕ ▏340▕ ▏▕ ▏▕ ▏▕ ▏340▕▗▏▕ ▏▕ ▏▕ ▏340▕▗▏▕ ▏▕▘▏▕ ▏340▕ ▏▕ ▏▕ ▏▕ ▏340▕▖▏▕▘▏▕ ▏▕ ▏\n",
      "338▕▚▏▕ ▏▕ ▏▕ ▏338▕ ▏▕ ▏▕ ▏▕ ▏338▕▖▏▕ ▏▕ ▏▕ ▏338▕▖▏▕ ▏▕▝▏▕ ▏338▕ ▏▕ ▏▕ ▏▕ ▏338▕ ▏▕ ▏▕▗▏▕▝▏\n",
      "336▕▚▏▕ ▏▕ ▏▕ ▏336▕ ▏▕ ▏▕ ▏▕ ▏336▕▗▏▕ ▏▕ ▏▕ ▏336▕▗▏▕ ▏▕▘▏▕ ▏336▕ ▏▕ ▏▕ ▏▕ ▏336▕▗▏▕▝▏▕ ▏▕ ▏\n",
      "334▕▚▏▕ ▏▕ ▏▕ ▏334▕ ▏▕ ▏▕ ▏▕ ▏334▕▖▏▕ ▏▕ ▏▕ ▏334▕▖▏▕ ▏▕▝▏▕ ▏334▕ ▏▕ ▏▕ ▏▕ ▏334▕ ▏▕ ▏▕▖▏▕▘▏\n",
      "332▕▚▏▕ ▏▕ ▏▕ ▏332▕ ▏▕ ▏▕ ▏▕ ▏332▕▗▏▕ ▏▕ ▏▕ ▏332▕▗▏▕ ▏▕▘▏▕ ▏332▕ ▏▕ ▏▕ ▏▕ ▏332▕▖▏▕▘▏▕ ▏▕ ▏\n",
      "330▕▚▏▕ ▏▕ ▏▕ ▏330▕ ▏▕ ▏▕ ▏▕ ▏330▕▖▏▕ ▏▕ ▏▕ ▏330▕▖▏▕ ▏▕▝▏▕ ▏330▕ ▏▕ ▏▕ ▏▕ ▏330▕ ▏▕ ▏▕▗▏▕▝▏\n",
      "328▕▚▏▕ ▏▕ ▏▕ ▏328▕ ▏▕ ▏▕ ▏▕ ▏328▕▗▏▕ ▏▕ ▏▕ ▏328▕▗▏▕ ▏▕▘▏▕ ▏328▕ ▏▕ ▏▕ ▏▕ ▏328▕▗▏▕▝▏▕ ▏▕ ▏\n",
      "326▕▚▏▕ ▏▕ ▏▕ ▏326▕ ▏▕ ▏▕ ▏▕ ▏326▕▖▏▕ ▏▕ ▏▕ ▏326▕▖▏▕ ▏▕▝▏▕ ▏326▕ ▏▕ ▏▕ ▏▕ ▏326▕ ▏▕ ▏▕▖▏▕▘▏\n",
      "324▕▚▏▕ ▏▕ ▏▕ ▏324▕ ▏▕ ▏▕ ▏▕ ▏324▕▗▏▕ ▏▕ ▏▕ ▏324▕▗▏▕ ▏▕▘▏▕ ▏324▕ ▏▕ ▏▕ ▏▕ ▏324▕▖▏▕▘▏▕ ▏▕ ▏\n",
      "322▕▚▏▕ ▏▕ ▏▕ ▏322▕ ▏▕ ▏▕ ▏▕ ▏322▕▖▏▕ ▏▕ ▏▕ ▏322▕▖▏▕ ▏▕▝▏▕ ▏322▕ ▏▕ ▏▕ ▏▕ ▏322▕ ▏▕ ▏▕▗▏▕▝▏\n",
      "320▕▚▏▕ ▏▕ ▏▕ ▏320▕ ▏▕ ▏▕ ▏▕ ▏320▕▗▏▕ ▏▕ ▏▕ ▏320▕▗▏▕ ▏▕▘▏▕ ▏320▕ ▏▕ ▏▕ ▏▕ ▏320▕▗▏▕▝▏▕ ▏▕ ▏\n",
      "318▕▚▏▕ ▏▕ ▏▕ ▏318▕ ▏▕ ▏▕ ▏▕ ▏318▕▖▏▕ ▏▕ ▏▕ ▏318▕▖▏▕ ▏▕▝▏▕ ▏318▕ ▏▕ ▏▕ ▏▕ ▏318▕ ▏▕ ▏▕▖▏▕▘▏\n",
      "316▕▚▏▕ ▏▕ ▏▕ ▏316▕ ▏▕ ▏▕ ▏▕ ▏316▕▗▏▕ ▏▕ ▏▕ ▏316▕▗▏▕ ▏▕▘▏▕ ▏316▕ ▏▕ ▏▕ ▏▕ ▏316▕▖▏▕▘▏▕ ▏▕ ▏\n",
      "314▕▚▏▕ ▏▕ ▏▕ ▏314▕ ▏▕ ▏▕ ▏▕ ▏314▕▖▏▕ ▏▕ ▏▕ ▏314▕▖▏▕ ▏▕▝▏▕ ▏314▕ ▏▕ ▏▕ ▏▕ ▏314▕ ▏▕ ▏▕▗▏▕▝▏\n",
      "312▕▚▏▕ ▏▕ ▏▕ ▏312▕ ▏▕ ▏▕ ▏▕ ▏312▕▗▏▕ ▏▕ ▏▕ ▏312▕▗▏▕ ▏▕▘▏▕ ▏312▕ ▏▕ ▏▕ ▏▕ ▏312▕▗▏▕▝▏▕ ▏▕ ▏\n",
      "310▕▚▏▕ ▏▕ ▏▕ ▏310▕ ▏▕ ▏▕ ▏▕ ▏310▕▖▏▕ ▏▕ ▏▕ ▏310▕▖▏▕ ▏▕▝▏▕ ▏310▕ ▏▕ ▏▕ ▏▕ ▏310▕ ▏▕ ▏▕▖▏▕▘▏\n",
      "308▕▚▏▕ ▏▕ ▏▕ ▏308▕ ▏▕ ▏▕ ▏▕ ▏308▕▗▏▕ ▏▕ ▏▕ ▏308▕▗▏▕ ▏▕▘▏▕ ▏308▕ ▏▕ ▏▕ ▏▕ ▏308▕▖▏▕▘▏▕ ▏▕ ▏\n",
      "306▕▚▏▕ ▏▕ ▏▕ ▏306▕ ▏▕ ▏▕ ▏▕ ▏306▕▖▏▕ ▏▕ ▏▕ ▏306▕▖▏▕ ▏▕▝▏▕ ▏306▕ ▏▕ ▏▕ ▏▕ ▏306▕ ▏▕ ▏▕▗▏▕▝▏\n",
      "304▕▚▏▕ ▏▕ ▏▕ ▏304▕ ▏▕ ▏▕ ▏▕ ▏304▕▗▏▕ ▏▕ ▏▕ ▏304▕▗▏▕ ▏▕▘▏▕ ▏304▕ ▏▕ ▏▕ ▏▕ ▏304▕▗▏▕▝▏▕ ▏▕ ▏\n",
      "302▕▚▏▕ ▏▕ ▏▕ ▏302▕ ▏▕ ▏▕ ▏▕ ▏302▕▖▏▕ ▏▕ ▏▕ ▏302▕▖▏▕ ▏▕▝▏▕ ▏302▕ ▏▕ ▏▕ ▏▕ ▏302▕ ▏▕ ▏▕▖▏▕▘▏\n",
      "300▕▚▏▕ ▏▕ ▏▕ ▏300▕ ▏▕ ▏▕ ▏▕ ▏300▕▗▏▕ ▏▕ ▏▕ ▏300▕▗▏▕ ▏▕▘▏▕ ▏300▕ ▏▕ ▏▕ ▏▕ ▏300▕▖▏▕▘▏▕ ▏▕ ▏\n",
      "298▕▚▏▕ ▏▕ ▏▕ ▏298▕ ▏▕ ▏▕ ▏▕ ▏298▕▖▏▕ ▏▕ ▏▕ ▏298▕▖▏▕ ▏▕▝▏▕ ▏298▕ ▏▕ ▏▕ ▏▕ ▏298▕ ▏▕ ▏▕▗▏▕▝▏\n",
      "296▕▚▏▕ ▏▕ ▏▕ ▏296▕ ▏▕ ▏▕ ▏▕ ▏296▕▗▏▕ ▏▕ ▏▕ ▏296▕▗▏▕ ▏▕▘▏▕ ▏296▕ ▏▕ ▏▕ ▏▕ ▏296▕▗▏▕▝▏▕ ▏▕ ▏\n",
      "294▕▚▏▕ ▏▕ ▏▕ ▏294▕ ▏▕ ▏▕ ▏▕ ▏294▕▖▏▕ ▏▕ ▏▕ ▏294▕▖▏▕ ▏▕▝▏▕ ▏294▕ ▏▕ ▏▕ ▏▕ ▏294▕ ▏▕ ▏▕▖▏▕▘▏\n",
      "292▕▚▏▕ ▏▕ ▏▕ ▏292▕ ▏▕ ▏▕ ▏▕ ▏292▕▗▏▕ ▏▕ ▏▕ ▏292▕▗▏▕ ▏▕▘▏▕ ▏292▕ ▏▕ ▏▕ ▏▕ ▏292▕▖▏▕▘▏▕ ▏▕ ▏\n",
      "290▕▚▏▕ ▏▕ ▏▕ ▏290▕ ▏▕ ▏▕ ▏▕ ▏290▕▖▏▕ ▏▕ ▏▕ ▏290▕▖▏▕ ▏▕▝▏▕ ▏290▕ ▏▕ ▏▕ ▏▕ ▏290▕ ▏▕ ▏▕▗▏▕▝▏\n",
      "288▕▚▏▕ ▏▕ ▏▕ ▏288▕ ▏▕ ▏▕ ▏▕ ▏288▕▗▏▕ ▏▕ ▏▕ ▏288▕▗▏▕ ▏▕▘▏▕ ▏288▕ ▏▕ ▏▕ ▏▕ ▏288▕▗▏▕▝▏▕ ▏▕ ▏\n",
      "286▕▚▏▕ ▏▕ ▏▕ ▏286▕ ▏▕ ▏▕ ▏▕ ▏286▕▖▏▕ ▏▕ ▏▕ ▏286▕▖▏▕ ▏▕▝▏▕ ▏286▕ ▏▕ ▏▕ ▏▕ ▏286▕ ▏▕ ▏▕▖▏▕▘▏\n",
      "284▕▚▏▕ ▏▕ ▏▕ ▏284▕ ▏▕ ▏▕ ▏▕ ▏284▕▗▏▕ ▏▕ ▏▕ ▏284▕▗▏▕ ▏▕▘▏▕ ▏284▕ ▏▕ ▏▕ ▏▕ ▏284▕▖▏▕▘▏▕ ▏▕ ▏\n",
      "282▕▚▏▕ ▏▕ ▏▕ ▏282▕ ▏▕ ▏▕ ▏▕ ▏282▕▖▏▕ ▏▕ ▏▕ ▏282▕▖▏▕ ▏▕▝▏▕ ▏282▕ ▏▕ ▏▕ ▏▕ ▏282▕ ▏▕ ▏▕▗▏▕▝▏\n",
      "280▕▚▏▕ ▏▕ ▏▕ ▏280▕ ▏▕ ▏▕ ▏▕ ▏280▕▗▏▕ ▏▕ ▏▕ ▏280▕▗▏▕ ▏▕▘▏▕ ▏280▕ ▏▕ ▏▕ ▏▕ ▏280▕▗▏▕▝▏▕ ▏▕ ▏\n",
      "278▕▚▏▕ ▏▕ ▏▕ ▏278▕ ▏▕ ▏▕ ▏▕ ▏278▕▖▏▕ ▏▕ ▏▕ ▏278▕▖▏▕ ▏▕▝▏▕ ▏278▕ ▏▕ ▏▕ ▏▕ ▏278▕ ▏▕ ▏▕▖▏▕▘▏\n",
      "276▕▚▏▕ ▏▕ ▏▕ ▏276▕ ▏▕ ▏▕ ▏▕ ▏276▕▗▏▕ ▏▕ ▏▕ ▏276▕▗▏▕ ▏▕▘▏▕ ▏276▕ ▏▕ ▏▕ ▏▕ ▏276▕▖▏▕▘▏▕ ▏▕ ▏\n",
      "274▕▚▏▕ ▏▕ ▏▕ ▏274▕ ▏▕ ▏▕ ▏▕ ▏274▕▖▏▕ ▏▕ ▏▕ ▏274▕▖▏▕ ▏▕▝▏▕ ▏274▕ ▏▕ ▏▕ ▏▕ ▏274▕ ▏▕ ▏▕▗▏▕▝▏\n",
      "272▕▚▏▕ ▏▕ ▏▕ ▏272▕ ▏▕ ▏▕ ▏▕ ▏272▕▗▏▕ ▏▕ ▏▕ ▏272▕▗▏▕ ▏▕▘▏▕ ▏272▕ ▏▕ ▏▕ ▏▕ ▏272▕▗▏▕▝▏▕ ▏▕ ▏\n",
      "270▕▚▏▕ ▏▕ ▏▕ ▏270▕ ▏▕ ▏▕ ▏▕ ▏270▕▖▏▕ ▏▕ ▏▕ ▏270▕▖▏▕ ▏▕▝▏▕ ▏270▕ ▏▕ ▏▕ ▏▕ ▏270▕ ▏▕ ▏▕▖▏▕▘▏\n",
      "268▕▚▏▕ ▏▕ ▏▕ ▏268▕ ▏▕ ▏▕ ▏▕ ▏268▕▗▏▕ ▏▕ ▏▕ ▏268▕▗▏▕ ▏▕▘▏▕ ▏268▕ ▏▕ ▏▕ ▏▕ ▏268▕▖▏▕▘▏▕ ▏▕ ▏\n",
      "266▕▚▏▕ ▏▕ ▏▕ ▏266▕ ▏▕ ▏▕ ▏▕ ▏266▕▖▏▕ ▏▕ ▏▕ ▏266▕▖▏▕ ▏▕▝▏▕ ▏266▕ ▏▕ ▏▕ ▏▕ ▏266▕ ▏▕ ▏▕▗▏▕▝▏\n",
      "264▕▚▏▕ ▏▕ ▏▕ ▏264▕ ▏▕ ▏▕ ▏▕ ▏264▕▗▏▕ ▏▕ ▏▕ ▏264▕▗▏▕ ▏▕▘▏▕ ▏264▕ ▏▕ ▏▕ ▏▕ ▏264▕▗▏▕▝▏▕ ▏▕ ▏\n",
      "262▕▚▏▕ ▏▕ ▏▕ ▏262▕ ▏▕ ▏▕ ▏▕ ▏262▕▖▏▕ ▏▕ ▏▕ ▏262▕▖▏▕ ▏▕▝▏▕ ▏262▕ ▏▕ ▏▕ ▏▕ ▏262▕ ▏▕ ▏▕▖▏▕▘▏\n",
      "260▕▚▏▕ ▏▕ ▏▕ ▏260▕ ▏▕ ▏▕ ▏▕ ▏260▕▗▏▕ ▏▕ ▏▕ ▏260▕▗▏▕ ▏▕▘▏▕ ▏260▕ ▏▕ ▏▕ ▏▕ ▏260▕▖▏▕▘▏▕ ▏▕ ▏\n",
      "258▕▚▏▕ ▏▕ ▏▕ ▏258▕ ▏▕ ▏▕ ▏▕ ▏258▕▖▏▕ ▏▕ ▏▕ ▏258▕▖▏▕ ▏▕▝▏▕ ▏258▕ ▏▕ ▏▕ ▏▕ ▏258▕ ▏▕ ▏▕▗▏▕▝▏\n",
      "256▕▚▏▕ ▏▕ ▏▕ ▏256▕ ▏▕ ▏▕ ▏▕ ▏256▕▗▏▕ ▏▕ ▏▕ ▏256▕▗▏▕ ▏▕▘▏▕ ▏256▕ ▏▕ ▏▕ ▏▕ ▏256▕▗▏▕▝▏▕ ▏▕ ▏\n",
      "254▕▚▏▕ ▏▕ ▏▕ ▏254▕ ▏▕ ▏▕ ▏▕ ▏254▕▖▏▕ ▏▕ ▏▕ ▏254▕▖▏▕ ▏▕▝▏▕ ▏254▕ ▏▕ ▏▕ ▏▕ ▏254▕ ▏▕ ▏▕▖▏▕▘▏\n",
      "252▕▚▏▕ ▏▕ ▏▕ ▏252▕ ▏▕ ▏▕ ▏▕ ▏252▕▗▏▕ ▏▕ ▏▕ ▏252▕▗▏▕ ▏▕▘▏▕ ▏252▕ ▏▕ ▏▕ ▏▕ ▏252▕▖▏▕▘▏▕ ▏▕ ▏\n",
      "250▕▚▏▕ ▏▕ ▏▕ ▏250▕ ▏▕ ▏▕ ▏▕ ▏250▕▖▏▕ ▏▕ ▏▕ ▏250▕▖▏▕ ▏▕▝▏▕ ▏250▕ ▏▕ ▏▕ ▏▕ ▏250▕ ▏▕ ▏▕▗▏▕▝▏\n",
      "248▕▚▏▕ ▏▕ ▏▕ ▏248▕ ▏▕ ▏▕ ▏▕ ▏248▕▗▏▕ ▏▕ ▏▕ ▏248▕▗▏▕ ▏▕▘▏▕ ▏248▕ ▏▕ ▏▕ ▏▕ ▏248▕▗▏▕▝▏▕ ▏▕ ▏\n",
      "246▕▚▏▕ ▏▕ ▏▕ ▏246▕ ▏▕ ▏▕ ▏▕ ▏246▕▖▏▕ ▏▕ ▏▕ ▏246▕▖▏▕ ▏▕▝▏▕ ▏246▕ ▏▕ ▏▕ ▏▕ ▏246▕ ▏▕ ▏▕▖▏▕▘▏\n",
      "244▕▚▏▕ ▏▕ ▏▕ ▏244▕ ▏▕ ▏▕ ▏▕ ▏244▕▗▏▕ ▏▕ ▏▕ ▏244▕▗▏▕ ▏▕▘▏▕ ▏244▕ ▏▕ ▏▕ ▏▕ ▏244▕▖▏▕▘▏▕ ▏▕ ▏\n",
      "242▕▚▏▕ ▏▕ ▏▕ ▏242▕ ▏▕ ▏▕ ▏▕ ▏242▕▖▏▕ ▏▕ ▏▕ ▏242▕▖▏▕ ▏▕▝▏▕ ▏242▕ ▏▕ ▏▕ ▏▕ ▏242▕ ▏▕ ▏▕▗▏▕▝▏\n",
      "240▕▚▏▕ ▏▕ ▏▕ ▏240▕ ▏▕ ▏▕ ▏▕ ▏240▕▗▏▕ ▏▕ ▏▕ ▏240▕▗▏▕ ▏▕▘▏▕ ▏240▕ ▏▕ ▏▕ ▏▕ ▏240▕▗▏▕▝▏▕ ▏▕ ▏\n",
      "238▕▚▏▕ ▏▕ ▏▕ ▏238▕ ▏▕ ▏▕ ▏▕ ▏238▕▖▏▕ ▏▕ ▏▕ ▏238▕▖▏▕ ▏▕▝▏▕ ▏238▕ ▏▕ ▏▕ ▏▕ ▏238▕ ▏▕ ▏▕▖▏▕▘▏\n",
      "236▕▚▏▕ ▏▕ ▏▕ ▏236▕ ▏▕ ▏▕ ▏▕ ▏236▕▗▏▕ ▏▕ ▏▕ ▏236▕▗▏▕ ▏▕▘▏▕ ▏236▕ ▏▕ ▏▕ ▏▕ ▏236▕▖▏▕▘▏▕ ▏▕ ▏\n",
      "234▕▚▏▕ ▏▕ ▏▕ ▏234▕ ▏▕ ▏▕ ▏▕ ▏234▕▖▏▕ ▏▕ ▏▕ ▏234▕▖▏▕ ▏▕▝▏▕ ▏234▕ ▏▕ ▏▕ ▏▕ ▏234▕ ▏▕ ▏▕▗▏▕▝▏\n",
      "232▕▚▏▕ ▏▕ ▏▕ ▏232▕ ▏▕ ▏▕ ▏▕ ▏232▕▗▏▕ ▏▕ ▏▕ ▏232▕▗▏▕ ▏▕▘▏▕ ▏232▕ ▏▕ ▏▕ ▏▕ ▏232▕▗▏▕▝▏▕ ▏▕ ▏\n",
      "230▕▚▏▕ ▏▕ ▏▕ ▏230▕ ▏▕ ▏▕ ▏▕ ▏230▕▖▏▕ ▏▕ ▏▕ ▏230▕▖▏▕ ▏▕▝▏▕ ▏230▕ ▏▕ ▏▕ ▏▕ ▏230▕ ▏▕ ▏▕▖▏▕▘▏\n",
      "228▕▚▏▕ ▏▕ ▏▕ ▏228▕ ▏▕ ▏▕ ▏▕ ▏228▕▗▏▕ ▏▕ ▏▕ ▏228▕▗▏▕ ▏▕▘▏▕ ▏228▕ ▏▕ ▏▕ ▏▕ ▏228▕▖▏▕▘▏▕ ▏▕ ▏\n",
      "226▕▚▏▕ ▏▕ ▏▕ ▏226▕ ▏▕ ▏▕ ▏▕ ▏226▕▖▏▕ ▏▕ ▏▕ ▏226▕▖▏▕ ▏▕▝▏▕ ▏226▕ ▏▕ ▏▕ ▏▕ ▏226▕ ▏▕ ▏▕▗▏▕▝▏\n",
      "224▕▚▏▕ ▏▕ ▏▕ ▏224▕ ▏▕ ▏▕ ▏▕ ▏224▕▗▏▕ ▏▕ ▏▕ ▏224▕▗▏▕ ▏▕▘▏▕ ▏224▕ ▏▕ ▏▕ ▏▕ ▏224▕▗▏▕▝▏▕ ▏▕ ▏\n",
      "222▕▚▏▕ ▏▕ ▏▕ ▏222▕ ▏▕ ▏▕ ▏▕ ▏222▕▖▏▕ ▏▕ ▏▕ ▏222▕▖▏▕ ▏▕▝▏▕ ▏222▕ ▏▕ ▏▕ ▏▕ ▏222▕ ▏▕ ▏▕▖▏▕▘▏\n",
      "220▕▚▏▕ ▏▕ ▏▕ ▏220▕ ▏▕ ▏▕ ▏▕ ▏220▕▗▏▕ ▏▕ ▏▕ ▏220▕▗▏▕ ▏▕▘▏▕ ▏220▕ ▏▕ ▏▕ ▏▕ ▏220▕▖▏▕▘▏▕ ▏▕ ▏\n",
      "218▕▚▏▕ ▏▕ ▏▕ ▏218▕ ▏▕ ▏▕ ▏▕ ▏218▕▖▏▕ ▏▕ ▏▕ ▏218▕▖▏▕ ▏▕▝▏▕ ▏218▕ ▏▕ ▏▕ ▏▕ ▏218▕ ▏▕ ▏▕▗▏▕▝▏\n",
      "216▕▚▏▕ ▏▕ ▏▕ ▏216▕ ▏▕ ▏▕ ▏▕ ▏216▕▗▏▕ ▏▕ ▏▕ ▏216▕▗▏▕ ▏▕▘▏▕ ▏216▕ ▏▕ ▏▕ ▏▕ ▏216▕▗▏▕▝▏▕ ▏▕ ▏\n",
      "214▕▚▏▕ ▏▕ ▏▕ ▏214▕ ▏▕ ▏▕ ▏▕ ▏214▕▖▏▕ ▏▕ ▏▕ ▏214▕▖▏▕ ▏▕▝▏▕ ▏214▕ ▏▕ ▏▕ ▏▕ ▏214▕ ▏▕ ▏▕▖▏▕▘▏\n",
      "212▕▚▏▕ ▏▕ ▏▕ ▏212▕ ▏▕ ▏▕ ▏▕ ▏212▕▗▏▕ ▏▕ ▏▕ ▏212▕▗▏▕ ▏▕▘▏▕ ▏212▕ ▏▕ ▏▕ ▏▕ ▏212▕▖▏▕▘▏▕ ▏▕ ▏\n",
      "210▕▚▏▕ ▏▕ ▏▕ ▏210▕ ▏▕ ▏▕ ▏▕ ▏210▕▖▏▕ ▏▕ ▏▕ ▏210▕▖▏▕ ▏▕▝▏▕ ▏210▕ ▏▕ ▏▕ ▏▕ ▏210▕ ▏▕ ▏▕▗▏▕▝▏\n",
      "208▕▚▏▕ ▏▕ ▏▕ ▏208▕ ▏▕ ▏▕ ▏▕ ▏208▕▗▏▕ ▏▕ ▏▕ ▏208▕▗▏▕ ▏▕▘▏▕ ▏208▕ ▏▕ ▏▕ ▏▕ ▏208▕▗▏▕▝▏▕ ▏▕ ▏\n",
      "206▕▚▏▕ ▏▕ ▏▕ ▏206▕ ▏▕ ▏▕ ▏▕ ▏206▕▖▏▕ ▏▕ ▏▕ ▏206▕▖▏▕ ▏▕▝▏▕ ▏206▕ ▏▕ ▏▕ ▏▕ ▏206▕ ▏▕ ▏▕▖▏▕▘▏\n",
      "204▕▚▏▕ ▏▕ ▏▕ ▏204▕ ▏▕ ▏▕ ▏▕ ▏204▕▗▏▕ ▏▕ ▏▕ ▏204▕▗▏▕ ▏▕▘▏▕ ▏204▕ ▏▕ ▏▕ ▏▕ ▏204▕▖▏▕▘▏▕ ▏▕ ▏\n",
      "202▕▚▏▕ ▏▕ ▏▕ ▏202▕ ▏▕ ▏▕ ▏▕ ▏202▕▖▏▕ ▏▕ ▏▕ ▏202▕▖▏▕ ▏▕▝▏▕ ▏202▕ ▏▕ ▏▕ ▏▕ ▏202▕ ▏▕ ▏▕▗▏▕▝▏\n",
      "200▕▚▏▕ ▏▕ ▏▕ ▏200▕ ▏▕ ▏▕ ▏▕ ▏200▕▗▏▕ ▏▕ ▏▕ ▏200▕▗▏▕ ▏▕▘▏▕ ▏200▕ ▏▕ ▏▕ ▏▕ ▏200▕▗▏▕▝▏▕ ▏▕ ▏\n",
      "198▕▚▏▕ ▏▕ ▏▕ ▏198▕ ▏▕ ▏▕ ▏▕ ▏198▕▖▏▕ ▏▕ ▏▕ ▏198▕▖▏▕ ▏▕▝▏▕ ▏198▕ ▏▕ ▏▕ ▏▕ ▏198▕ ▏▕ ▏▕▖▏▕▘▏\n",
      "196▕▚▏▕ ▏▕ ▏▕ ▏196▕ ▏▕ ▏▕ ▏▕ ▏196▕▗▏▕ ▏▕ ▏▕ ▏196▕▗▏▕ ▏▕▘▏▕ ▏196▕ ▏▕ ▏▕ ▏▕ ▏196▕▖▏▕▘▏▕ ▏▕ ▏\n",
      "194▕▚▏▕ ▏▕ ▏▕ ▏194▕ ▏▕ ▏▕ ▏▕ ▏194▕▖▏▕ ▏▕ ▏▕ ▏194▕▖▏▕ ▏▕▝▏▕ ▏194▕ ▏▕ ▏▕ ▏▕ ▏194▕ ▏▕ ▏▕▗▏▕▝▏\n",
      "192▕▚▏▕ ▏▕ ▏▕ ▏192▕ ▏▕ ▏▕ ▏▕ ▏192▕▗▏▕ ▏▕ ▏▕ ▏192▕▗▏▕ ▏▕▘▏▕ ▏192▕ ▏▕ ▏▕ ▏▕ ▏192▕▗▏▕▝▏▕ ▏▕ ▏\n",
      "190▕▞▏▕ ▏▕ ▏▕ ▏190▕▞▏▕▚▏▕ ▏▕ ▏190▕▗▏▕ ▏▕ ▏▕ ▏190▕▗▏▕ ▏▕▘▏▕ ▏190▕▗▏▕▖▏▕▝▏▕▘▏190▕ ▏▕ ▏▕▗▏▕▝▏\n",
      "188▕▞▏▕ ▏▕ ▏▕ ▏188▕▞▏▕▚▏▕ ▏▕ ▏188▕▖▏▕ ▏▕ ▏▕ ▏188▕▖▏▕ ▏▕▝▏▕ ▏188▕▖▏▕▗▏▕▘▏▕▝▏188▕▗▏▕▝▏▕ ▏▕ ▏\n",
      "186▕▞▏▕ ▏▕ ▏▕ ▏186▕▞▏▕▚▏▕ ▏▕ ▏186▕▗▏▕ ▏▕ ▏▕ ▏186▕▗▏▕ ▏▕▘▏▕ ▏186▕▗▏▕▖▏▕▝▏▕▘▏186▕ ▏▕ ▏▕▖▏▕▘▏\n",
      "184▕▞▏▕ ▏▕ ▏▕ ▏184▕▞▏▕▚▏▕ ▏▕ ▏184▕▖▏▕ ▏▕ ▏▕ ▏184▕▖▏▕ ▏▕▝▏▕ ▏184▕▖▏▕▗▏▕▘▏▕▝▏184▕▖▏▕▘▏▕ ▏▕ ▏\n",
      "182▕▞▏▕ ▏▕ ▏▕ ▏182▕▞▏▕▚▏▕ ▏▕ ▏182▕▗▏▕ ▏▕ ▏▕ ▏182▕▗▏▕ ▏▕▘▏▕ ▏182▕▗▏▕▖▏▕▝▏▕▘▏182▕ ▏▕ ▏▕▗▏▕▝▏\n",
      "180▕▞▏▕ ▏▕ ▏▕ ▏180▕▞▏▕▚▏▕ ▏▕ ▏180▕▖▏▕ ▏▕ ▏▕ ▏180▕▖▏▕ ▏▕▝▏▕ ▏180▕▖▏▕▗▏▕▘▏▕▝▏180▕▗▏▕▝▏▕ ▏▕ ▏\n",
      "178▕▞▏▕ ▏▕ ▏▕ ▏178▕▞▏▕▚▏▕ ▏▕ ▏178▕▗▏▕ ▏▕ ▏▕ ▏178▕▗▏▕ ▏▕▘▏▕ ▏178▕▗▏▕▖▏▕▝▏▕▘▏178▕ ▏▕ ▏▕▖▏▕▘▏\n",
      "176▕▞▏▕ ▏▕ ▏▕ ▏176▕▞▏▕▚▏▕ ▏▕ ▏176▕▖▏▕ ▏▕ ▏▕ ▏176▕▖▏▕ ▏▕▝▏▕ ▏176▕▖▏▕▗▏▕▘▏▕▝▏176▕▖▏▕▘▏▕ ▏▕ ▏\n",
      "174▕▞▏▕ ▏▕ ▏▕ ▏174▕▞▏▕▚▏▕ ▏▕ ▏174▕▗▏▕ ▏▕ ▏▕ ▏174▕▗▏▕ ▏▕▘▏▕ ▏174▕▗▏▕▖▏▕▝▏▕▘▏174▕ ▏▕ ▏▕▗▏▕▝▏\n",
      "172▕▞▏▕ ▏▕ ▏▕ ▏172▕▞▏▕▚▏▕ ▏▕ ▏172▕▖▏▕ ▏▕ ▏▕ ▏172▕▖▏▕ ▏▕▝▏▕ ▏172▕▖▏▕▗▏▕▘▏▕▝▏172▕▗▏▕▝▏▕ ▏▕ ▏\n",
      "170▕▞▏▕ ▏▕ ▏▕ ▏170▕▞▏▕▚▏▕ ▏▕ ▏170▕▗▏▕ ▏▕ ▏▕ ▏170▕▗▏▕ ▏▕▘▏▕ ▏170▕▗▏▕▖▏▕▝▏▕▘▏170▕ ▏▕ ▏▕▖▏▕▘▏\n",
      "168▕▞▏▕ ▏▕ ▏▕ ▏168▕▞▏▕▚▏▕ ▏▕ ▏168▕▖▏▕ ▏▕ ▏▕ ▏168▕▖▏▕ ▏▕▝▏▕ ▏168▕▖▏▕▗▏▕▘▏▕▝▏168▕▖▏▕▘▏▕ ▏▕ ▏\n",
      "166▕▞▏▕ ▏▕ ▏▕ ▏166▕▞▏▕▚▏▕ ▏▕ ▏166▕▗▏▕ ▏▕ ▏▕ ▏166▕▗▏▕ ▏▕▘▏▕ ▏166▕▗▏▕▖▏▕▝▏▕▘▏166▕ ▏▕ ▏▕▗▏▕▝▏\n",
      "164▕▞▏▕ ▏▕ ▏▕ ▏164▕▞▏▕▚▏▕ ▏▕ ▏164▕▖▏▕ ▏▕ ▏▕ ▏164▕▖▏▕ ▏▕▝▏▕ ▏164▕▖▏▕▗▏▕▘▏▕▝▏164▕▗▏▕▝▏▕ ▏▕ ▏\n",
      "162▕▞▏▕ ▏▕ ▏▕ ▏162▕▞▏▕▚▏▕ ▏▕ ▏162▕▗▏▕ ▏▕ ▏▕ ▏162▕▗▏▕ ▏▕▘▏▕ ▏162▕▗▏▕▖▏▕▝▏▕▘▏162▕ ▏▕ ▏▕▖▏▕▘▏\n",
      "160▕▞▏▕ ▏▕ ▏▕ ▏160▕▞▏▕▚▏▕ ▏▕ ▏160▕▖▏▕ ▏▕ ▏▕ ▏160▕▖▏▕ ▏▕▝▏▕ ▏160▕▖▏▕▗▏▕▘▏▕▝▏160▕▖▏▕▘▏▕ ▏▕ ▏\n",
      "158▕▞▏▕ ▏▕ ▏▕ ▏158▕▞▏▕▚▏▕ ▏▕ ▏158▕▗▏▕ ▏▕ ▏▕ ▏158▕▗▏▕ ▏▕▘▏▕ ▏158▕▗▏▕▖▏▕▝▏▕▘▏158▕ ▏▕ ▏▕▗▏▕▝▏\n",
      "156▕▞▏▕ ▏▕ ▏▕ ▏156▕▞▏▕▚▏▕ ▏▕ ▏156▕▖▏▕ ▏▕ ▏▕ ▏156▕▖▏▕ ▏▕▝▏▕ ▏156▕▖▏▕▗▏▕▘▏▕▝▏156▕▗▏▕▝▏▕ ▏▕ ▏\n",
      "154▕▞▏▕ ▏▕ ▏▕ ▏154▕▞▏▕▚▏▕ ▏▕ ▏154▕▗▏▕ ▏▕ ▏▕ ▏154▕▗▏▕ ▏▕▘▏▕ ▏154▕▗▏▕▖▏▕▝▏▕▘▏154▕ ▏▕ ▏▕▖▏▕▘▏\n",
      "152▕▞▏▕ ▏▕ ▏▕ ▏152▕▞▏▕▚▏▕ ▏▕ ▏152▕▖▏▕ ▏▕ ▏▕ ▏152▕▖▏▕ ▏▕▝▏▕ ▏152▕▖▏▕▗▏▕▘▏▕▝▏152▕▖▏▕▘▏▕ ▏▕ ▏\n",
      "150▕▞▏▕ ▏▕ ▏▕ ▏150▕▞▏▕▚▏▕ ▏▕ ▏150▕▗▏▕ ▏▕ ▏▕ ▏150▕▗▏▕ ▏▕▘▏▕ ▏150▕▗▏▕▖▏▕▝▏▕▘▏150▕ ▏▕ ▏▕▗▏▕▝▏\n",
      "148▕▞▏▕ ▏▕ ▏▕ ▏148▕▞▏▕▚▏▕ ▏▕ ▏148▕▖▏▕ ▏▕ ▏▕ ▏148▕▖▏▕ ▏▕▝▏▕ ▏148▕▖▏▕▗▏▕▘▏▕▝▏148▕▗▏▕▝▏▕ ▏▕ ▏\n",
      "146▕▞▏▕ ▏▕ ▏▕ ▏146▕▞▏▕▚▏▕ ▏▕ ▏146▕▗▏▕ ▏▕ ▏▕ ▏146▕▗▏▕ ▏▕▘▏▕ ▏146▕▗▏▕▖▏▕▝▏▕▘▏146▕ ▏▕ ▏▕▖▏▕▘▏\n",
      "144▕▞▏▕ ▏▕ ▏▕ ▏144▕▞▏▕▚▏▕ ▏▕ ▏144▕▖▏▕ ▏▕ ▏▕ ▏144▕▖▏▕ ▏▕▝▏▕ ▏144▕▖▏▕▗▏▕▘▏▕▝▏144▕▖▏▕▘▏▕ ▏▕ ▏\n",
      "142▕▞▏▕ ▏▕ ▏▕ ▏142▕▞▏▕▚▏▕ ▏▕ ▏142▕▗▏▕ ▏▕ ▏▕ ▏142▕▗▏▕ ▏▕▘▏▕ ▏142▕▗▏▕▖▏▕▝▏▕▘▏142▕ ▏▕ ▏▕▗▏▕▝▏\n",
      "140▕▞▏▕ ▏▕ ▏▕ ▏140▕▞▏▕▚▏▕ ▏▕ ▏140▕▖▏▕ ▏▕ ▏▕ ▏140▕▖▏▕ ▏▕▝▏▕ ▏140▕▖▏▕▗▏▕▘▏▕▝▏140▕▗▏▕▝▏▕ ▏▕ ▏\n",
      "138▕▞▏▕ ▏▕ ▏▕ ▏138▕▞▏▕▚▏▕ ▏▕ ▏138▕▗▏▕ ▏▕ ▏▕ ▏138▕▗▏▕ ▏▕▘▏▕ ▏138▕▗▏▕▖▏▕▝▏▕▘▏138▕ ▏▕ ▏▕▖▏▕▘▏\n",
      "136▕▞▏▕ ▏▕ ▏▕ ▏136▕▞▏▕▚▏▕ ▏▕ ▏136▕▖▏▕ ▏▕ ▏▕ ▏136▕▖▏▕ ▏▕▝▏▕ ▏136▕▖▏▕▗▏▕▘▏▕▝▏136▕▖▏▕▘▏▕ ▏▕ ▏\n",
      "134▕▞▏▕ ▏▕ ▏▕ ▏134▕▞▏▕▚▏▕ ▏▕ ▏134▕▗▏▕ ▏▕ ▏▕ ▏134▕▗▏▕ ▏▕▘▏▕ ▏134▕▗▏▕▖▏▕▝▏▕▘▏134▕ ▏▕ ▏▕▗▏▕▝▏\n",
      "132▕▞▏▕ ▏▕ ▏▕ ▏132▕▞▏▕▚▏▕ ▏▕ ▏132▕▖▏▕ ▏▕ ▏▕ ▏132▕▖▏▕ ▏▕▝▏▕ ▏132▕▖▏▕▗▏▕▘▏▕▝▏132▕▗▏▕▝▏▕ ▏▕ ▏\n",
      "130▕▞▏▕ ▏▕ ▏▕ ▏130▕▞▏▕▚▏▕ ▏▕ ▏130▕▗▏▕ ▏▕ ▏▕ ▏130▕▗▏▕ ▏▕▘▏▕ ▏130▕▗▏▕▖▏▕▝▏▕▘▏130▕ ▏▕ ▏▕▖▏▕▘▏\n",
      "128▕▞▏▕ ▏▕ ▏▕ ▏128▕▞▏▕▚▏▕ ▏▕ ▏128▕▖▏▕ ▏▕ ▏▕ ▏128▕▖▏▕ ▏▕▝▏▕ ▏128▕▖▏▕▗▏▕▘▏▕▝▏128▕▖▏▕▘▏▕ ▏▕ ▏\n",
      "126▕▞▏▕ ▏▕ ▏▕ ▏126▕▞▏▕▚▏▕ ▏▕ ▏126▕▗▏▕ ▏▕ ▏▕ ▏126▕▗▏▕ ▏▕▘▏▕ ▏126▕▗▏▕▖▏▕▝▏▕▘▏126▕ ▏▕ ▏▕▗▏▕▝▏\n",
      "124▕▞▏▕ ▏▕ ▏▕ ▏124▕▞▏▕▚▏▕ ▏▕ ▏124▕▖▏▕ ▏▕ ▏▕ ▏124▕▖▏▕ ▏▕▝▏▕ ▏124▕▖▏▕▗▏▕▘▏▕▝▏124▕▗▏▕▝▏▕ ▏▕ ▏\n",
      "122▕▞▏▕ ▏▕ ▏▕ ▏122▕▞▏▕▚▏▕ ▏▕ ▏122▕▗▏▕ ▏▕ ▏▕ ▏122▕▗▏▕ ▏▕▘▏▕ ▏122▕▗▏▕▖▏▕▝▏▕▘▏122▕ ▏▕ ▏▕▖▏▕▘▏\n",
      "120▕▞▏▕ ▏▕ ▏▕ ▏120▕▞▏▕▚▏▕ ▏▕ ▏120▕▖▏▕ ▏▕ ▏▕ ▏120▕▖▏▕ ▏▕▝▏▕ ▏120▕▖▏▕▗▏▕▘▏▕▝▏120▕▖▏▕▘▏▕ ▏▕ ▏\n",
      "118▕▞▏▕ ▏▕ ▏▕ ▏118▕▞▏▕▚▏▕ ▏▕ ▏118▕▗▏▕ ▏▕ ▏▕ ▏118▕▗▏▕ ▏▕▘▏▕ ▏118▕▗▏▕▖▏▕▝▏▕▘▏118▕ ▏▕ ▏▕▗▏▕▝▏\n",
      "116▕▞▏▕ ▏▕ ▏▕ ▏116▕▞▏▕▚▏▕ ▏▕ ▏116▕▖▏▕ ▏▕ ▏▕ ▏116▕▖▏▕ ▏▕▝▏▕ ▏116▕▖▏▕▗▏▕▘▏▕▝▏116▕▗▏▕▝▏▕ ▏▕ ▏\n",
      "114▕▞▏▕ ▏▕ ▏▕ ▏114▕▞▏▕▚▏▕ ▏▕ ▏114▕▗▏▕ ▏▕ ▏▕ ▏114▕▗▏▕ ▏▕▘▏▕ ▏114▕▗▏▕▖▏▕▝▏▕▘▏114▕ ▏▕ ▏▕▖▏▕▘▏\n",
      "112▕▞▏▕ ▏▕ ▏▕ ▏112▕▞▏▕▚▏▕ ▏▕ ▏112▕▖▏▕ ▏▕ ▏▕ ▏112▕▖▏▕ ▏▕▝▏▕ ▏112▕▖▏▕▗▏▕▘▏▕▝▏112▕▖▏▕▘▏▕ ▏▕ ▏\n",
      "110▕▞▏▕ ▏▕ ▏▕ ▏110▕▞▏▕▚▏▕ ▏▕ ▏110▕▗▏▕ ▏▕ ▏▕ ▏110▕▗▏▕ ▏▕▘▏▕ ▏110▕▗▏▕▖▏▕▝▏▕▘▏110▕ ▏▕ ▏▕▗▏▕▝▏\n",
      "108▕▞▏▕ ▏▕ ▏▕ ▏108▕▞▏▕▚▏▕ ▏▕ ▏108▕▖▏▕ ▏▕ ▏▕ ▏108▕▖▏▕ ▏▕▝▏▕ ▏108▕▖▏▕▗▏▕▘▏▕▝▏108▕▗▏▕▝▏▕ ▏▕ ▏\n",
      "106▕▞▏▕ ▏▕ ▏▕ ▏106▕▞▏▕▚▏▕ ▏▕ ▏106▕▗▏▕ ▏▕ ▏▕ ▏106▕▗▏▕ ▏▕▘▏▕ ▏106▕▗▏▕▖▏▕▝▏▕▘▏106▕ ▏▕ ▏▕▖▏▕▘▏\n",
      "104▕▞▏▕ ▏▕ ▏▕ ▏104▕▞▏▕▚▏▕ ▏▕ ▏104▕▖▏▕ ▏▕ ▏▕ ▏104▕▖▏▕ ▏▕▝▏▕ ▏104▕▖▏▕▗▏▕▘▏▕▝▏104▕▖▏▕▘▏▕ ▏▕ ▏\n",
      "102▕▞▏▕ ▏▕ ▏▕ ▏102▕▞▏▕▚▏▕ ▏▕ ▏102▕▗▏▕ ▏▕ ▏▕ ▏102▕▗▏▕ ▏▕▘▏▕ ▏102▕▗▏▕▖▏▕▝▏▕▘▏102▕ ▏▕ ▏▕▗▏▕▝▏\n",
      "100▕▞▏▕ ▏▕ ▏▕ ▏100▕▞▏▕▚▏▕ ▏▕ ▏100▕▖▏▕ ▏▕ ▏▕ ▏100▕▖▏▕ ▏▕▝▏▕ ▏100▕▖▏▕▗▏▕▘▏▕▝▏100▕▗▏▕▝▏▕ ▏▕ ▏\n",
      " 98▕▞▏▕ ▏▕ ▏▕ ▏ 98▕▞▏▕▚▏▕ ▏▕ ▏ 98▕▗▏▕ ▏▕ ▏▕ ▏ 98▕▗▏▕ ▏▕▘▏▕ ▏ 98▕▗▏▕▖▏▕▝▏▕▘▏ 98▕ ▏▕ ▏▕▖▏▕▘▏\n",
      " 96▕▞▏▕ ▏▕ ▏▕ ▏ 96▕▞▏▕▚▏▕ ▏▕ ▏ 96▕▖▏▕ ▏▕ ▏▕ ▏ 96▕▖▏▕ ▏▕▝▏▕ ▏ 96▕▖▏▕▗▏▕▘▏▕▝▏ 96▕▖▏▕▘▏▕ ▏▕ ▏\n",
      " 94▕▞▏▕ ▏▕ ▏▕ ▏ 94▕▞▏▕▚▏▕ ▏▕ ▏ 94▕▗▏▕ ▏▕ ▏▕ ▏ 94▕▗▏▕ ▏▕▘▏▕ ▏ 94▕▗▏▕▖▏▕▝▏▕▘▏ 94▕ ▏▕ ▏▕▗▏▕▝▏\n",
      " 92▕▞▏▕ ▏▕ ▏▕ ▏ 92▕▞▏▕▚▏▕ ▏▕ ▏ 92▕▖▏▕ ▏▕ ▏▕ ▏ 92▕▖▏▕ ▏▕▝▏▕ ▏ 92▕▖▏▕▗▏▕▘▏▕▝▏ 92▕▗▏▕▝▏▕ ▏▕ ▏\n",
      " 90▕▞▏▕ ▏▕ ▏▕ ▏ 90▕▞▏▕▚▏▕ ▏▕ ▏ 90▕▗▏▕ ▏▕ ▏▕ ▏ 90▕▗▏▕ ▏▕▘▏▕ ▏ 90▕▗▏▕▖▏▕▝▏▕▘▏ 90▕ ▏▕ ▏▕▖▏▕▘▏\n",
      " 88▕▞▏▕ ▏▕ ▏▕ ▏ 88▕▞▏▕▚▏▕ ▏▕ ▏ 88▕▖▏▕ ▏▕ ▏▕ ▏ 88▕▖▏▕ ▏▕▝▏▕ ▏ 88▕▖▏▕▗▏▕▘▏▕▝▏ 88▕▖▏▕▘▏▕ ▏▕ ▏\n",
      " 86▕▞▏▕ ▏▕ ▏▕ ▏ 86▕▞▏▕▚▏▕ ▏▕ ▏ 86▕▗▏▕ ▏▕ ▏▕ ▏ 86▕▗▏▕ ▏▕▘▏▕ ▏ 86▕▗▏▕▖▏▕▝▏▕▘▏ 86▕ ▏▕ ▏▕▗▏▕▝▏\n",
      " 84▕▞▏▕ ▏▕ ▏▕ ▏ 84▕▞▏▕▚▏▕ ▏▕ ▏ 84▕▖▏▕ ▏▕ ▏▕ ▏ 84▕▖▏▕ ▏▕▝▏▕ ▏ 84▕▖▏▕▗▏▕▘▏▕▝▏ 84▕▗▏▕▝▏▕ ▏▕ ▏\n",
      " 82▕▞▏▕ ▏▕ ▏▕ ▏ 82▕▞▏▕▚▏▕ ▏▕ ▏ 82▕▗▏▕ ▏▕ ▏▕ ▏ 82▕▗▏▕ ▏▕▘▏▕ ▏ 82▕▗▏▕▖▏▕▝▏▕▘▏ 82▕ ▏▕ ▏▕▖▏▕▘▏\n",
      " 80▕▞▏▕ ▏▕ ▏▕ ▏ 80▕▞▏▕▚▏▕ ▏▕ ▏ 80▕▖▏▕ ▏▕ ▏▕ ▏ 80▕▖▏▕ ▏▕▝▏▕ ▏ 80▕▖▏▕▗▏▕▘▏▕▝▏ 80▕▖▏▕▘▏▕ ▏▕ ▏\n",
      " 78▕▞▏▕ ▏▕ ▏▕ ▏ 78▕▞▏▕▚▏▕ ▏▕ ▏ 78▕▗▏▕ ▏▕ ▏▕ ▏ 78▕▗▏▕ ▏▕▘▏▕ ▏ 78▕▗▏▕▖▏▕▝▏▕▘▏ 78▕ ▏▕ ▏▕▗▏▕▝▏\n",
      " 76▕▞▏▕ ▏▕ ▏▕ ▏ 76▕▞▏▕▚▏▕ ▏▕ ▏ 76▕▖▏▕ ▏▕ ▏▕ ▏ 76▕▖▏▕ ▏▕▝▏▕ ▏ 76▕▖▏▕▗▏▕▘▏▕▝▏ 76▕▗▏▕▝▏▕ ▏▕ ▏\n",
      " 74▕▞▏▕ ▏▕ ▏▕ ▏ 74▕▞▏▕▚▏▕ ▏▕ ▏ 74▕▗▏▕ ▏▕ ▏▕ ▏ 74▕▗▏▕ ▏▕▘▏▕ ▏ 74▕▗▏▕▖▏▕▝▏▕▘▏ 74▕ ▏▕ ▏▕▖▏▕▘▏\n",
      " 72▕▞▏▕ ▏▕ ▏▕ ▏ 72▕▞▏▕▚▏▕ ▏▕ ▏ 72▕▖▏▕ ▏▕ ▏▕ ▏ 72▕▖▏▕ ▏▕▝▏▕ ▏ 72▕▖▏▕▗▏▕▘▏▕▝▏ 72▕▖▏▕▘▏▕ ▏▕ ▏\n",
      " 70▕▞▏▕ ▏▕ ▏▕ ▏ 70▕▞▏▕▚▏▕ ▏▕ ▏ 70▕▗▏▕ ▏▕ ▏▕ ▏ 70▕▗▏▕ ▏▕▘▏▕ ▏ 70▕▗▏▕▖▏▕▝▏▕▘▏ 70▕ ▏▕ ▏▕▗▏▕▝▏\n",
      " 68▕▞▏▕ ▏▕ ▏▕ ▏ 68▕▞▏▕▚▏▕ ▏▕ ▏ 68▕▖▏▕ ▏▕ ▏▕ ▏ 68▕▖▏▕ ▏▕▝▏▕ ▏ 68▕▖▏▕▗▏▕▘▏▕▝▏ 68▕▗▏▕▝▏▕ ▏▕ ▏\n",
      " 66▕▞▏▕ ▏▕ ▏▕ ▏ 66▕▞▏▕▚▏▕ ▏▕ ▏ 66▕▗▏▕ ▏▕ ▏▕ ▏ 66▕▗▏▕ ▏▕▘▏▕ ▏ 66▕▗▏▕▖▏▕▝▏▕▘▏ 66▕ ▏▕ ▏▕▖▏▕▘▏\n",
      " 64▕▞▏▕ ▏▕ ▏▕ ▏ 64▕▞▏▕▚▏▕ ▏▕ ▏ 64▕▖▏▕ ▏▕ ▏▕ ▏ 64▕▖▏▕ ▏▕▝▏▕ ▏ 64▕▖▏▕▗▏▕▘▏▕▝▏ 64▕▖▏▕▘▏▕ ▏▕ ▏\n",
      " 62▕▞▏▕ ▏▕ ▏▕ ▏ 62▕▞▏▕▚▏▕ ▏▕ ▏ 62▕▗▏▕ ▏▕ ▏▕ ▏ 62▕▗▏▕ ▏▕▘▏▕ ▏ 62▕▗▏▕▖▏▕▝▏▕▘▏ 62▕ ▏▕ ▏▕▗▏▕▝▏\n",
      " 60▕▞▏▕ ▏▕ ▏▕ ▏ 60▕▞▏▕▚▏▕ ▏▕ ▏ 60▕▖▏▕ ▏▕ ▏▕ ▏ 60▕▖▏▕ ▏▕▝▏▕ ▏ 60▕▖▏▕▗▏▕▘▏▕▝▏ 60▕▗▏▕▝▏▕ ▏▕ ▏\n",
      " 58▕▞▏▕ ▏▕ ▏▕ ▏ 58▕▞▏▕▚▏▕ ▏▕ ▏ 58▕▗▏▕ ▏▕ ▏▕ ▏ 58▕▗▏▕ ▏▕▘▏▕ ▏ 58▕▗▏▕▖▏▕▝▏▕▘▏ 58▕ ▏▕ ▏▕▖▏▕▘▏\n",
      " 56▕▞▏▕ ▏▕ ▏▕ ▏ 56▕▞▏▕▚▏▕ ▏▕ ▏ 56▕▖▏▕ ▏▕ ▏▕ ▏ 56▕▖▏▕ ▏▕▝▏▕ ▏ 56▕▖▏▕▗▏▕▘▏▕▝▏ 56▕▖▏▕▘▏▕ ▏▕ ▏\n",
      " 54▕▞▏▕ ▏▕ ▏▕ ▏ 54▕▞▏▕▚▏▕ ▏▕ ▏ 54▕▗▏▕ ▏▕ ▏▕ ▏ 54▕▗▏▕ ▏▕▘▏▕ ▏ 54▕▗▏▕▖▏▕▝▏▕▘▏ 54▕ ▏▕ ▏▕▗▏▕▝▏\n",
      " 52▕▞▏▕ ▏▕ ▏▕ ▏ 52▕▞▏▕▚▏▕ ▏▕ ▏ 52▕▖▏▕ ▏▕ ▏▕ ▏ 52▕▖▏▕ ▏▕▝▏▕ ▏ 52▕▖▏▕▗▏▕▘▏▕▝▏ 52▕▗▏▕▝▏▕ ▏▕ ▏\n",
      " 50▕▞▏▕ ▏▕ ▏▕ ▏ 50▕▞▏▕▚▏▕ ▏▕ ▏ 50▕▗▏▕ ▏▕ ▏▕ ▏ 50▕▗▏▕ ▏▕▘▏▕ ▏ 50▕▗▏▕▖▏▕▝▏▕▘▏ 50▕ ▏▕ ▏▕▖▏▕▘▏\n",
      " 48▕▞▏▕ ▏▕ ▏▕ ▏ 48▕▞▏▕▚▏▕ ▏▕ ▏ 48▕▖▏▕ ▏▕ ▏▕ ▏ 48▕▖▏▕ ▏▕▝▏▕ ▏ 48▕▖▏▕▗▏▕▘▏▕▝▏ 48▕▖▏▕▘▏▕ ▏▕ ▏\n",
      " 46▕▞▏▕ ▏▕ ▏▕ ▏ 46▕▞▏▕▚▏▕ ▏▕ ▏ 46▕▗▏▕ ▏▕ ▏▕ ▏ 46▕▗▏▕ ▏▕▘▏▕ ▏ 46▕▗▏▕▖▏▕▝▏▕▘▏ 46▕ ▏▕ ▏▕▗▏▕▝▏\n",
      " 44▕▞▏▕ ▏▕ ▏▕ ▏ 44▕▞▏▕▚▏▕ ▏▕ ▏ 44▕▖▏▕ ▏▕ ▏▕ ▏ 44▕▖▏▕ ▏▕▝▏▕ ▏ 44▕▖▏▕▗▏▕▘▏▕▝▏ 44▕▗▏▕▝▏▕ ▏▕ ▏\n",
      " 42▕▞▏▕ ▏▕ ▏▕ ▏ 42▕▞▏▕▚▏▕ ▏▕ ▏ 42▕▗▏▕ ▏▕ ▏▕ ▏ 42▕▗▏▕ ▏▕▘▏▕ ▏ 42▕▗▏▕▖▏▕▝▏▕▘▏ 42▕ ▏▕ ▏▕▖▏▕▘▏\n",
      " 40▕▞▏▕ ▏▕ ▏▕ ▏ 40▕▞▏▕▚▏▕ ▏▕ ▏ 40▕▖▏▕ ▏▕ ▏▕ ▏ 40▕▖▏▕ ▏▕▝▏▕ ▏ 40▕▖▏▕▗▏▕▘▏▕▝▏ 40▕▖▏▕▘▏▕ ▏▕ ▏\n",
      " 38▕▞▏▕ ▏▕ ▏▕ ▏ 38▕▞▏▕▚▏▕ ▏▕ ▏ 38▕▗▏▕ ▏▕ ▏▕ ▏ 38▕▗▏▕ ▏▕▘▏▕ ▏ 38▕▗▏▕▖▏▕▝▏▕▘▏ 38▕ ▏▕ ▏▕▗▏▕▝▏\n",
      " 36▕▞▏▕ ▏▕ ▏▕ ▏ 36▕▞▏▕▚▏▕ ▏▕ ▏ 36▕▖▏▕ ▏▕ ▏▕ ▏ 36▕▖▏▕ ▏▕▝▏▕ ▏ 36▕▖▏▕▗▏▕▘▏▕▝▏ 36▕▗▏▕▝▏▕ ▏▕ ▏\n",
      " 34▕▞▏▕ ▏▕ ▏▕ ▏ 34▕▞▏▕▚▏▕ ▏▕ ▏ 34▕▗▏▕ ▏▕ ▏▕ ▏ 34▕▗▏▕ ▏▕▘▏▕ ▏ 34▕▗▏▕▖▏▕▝▏▕▘▏ 34▕ ▏▕ ▏▕▖▏▕▘▏\n",
      " 32▕▞▏▕ ▏▕ ▏▕ ▏ 32▕▞▏▕▚▏▕ ▏▕ ▏ 32▕▖▏▕ ▏▕ ▏▕ ▏ 32▕▖▏▕ ▏▕▝▏▕ ▏ 32▕▖▏▕▗▏▕▘▏▕▝▏ 32▕▖▏▕▘▏▕ ▏▕ ▏\n",
      " 30▕▞▏▕ ▏▕ ▏▕ ▏ 30▕▞▏▕▚▏▕ ▏▕ ▏ 30▕▗▏▕ ▏▕ ▏▕ ▏ 30▕▗▏▕ ▏▕▘▏▕ ▏ 30▕▗▏▕▖▏▕▝▏▕▘▏ 30▕ ▏▕ ▏▕▗▏▕▝▏\n",
      " 28▕▞▏▕ ▏▕ ▏▕ ▏ 28▕▞▏▕▚▏▕ ▏▕ ▏ 28▕▖▏▕ ▏▕ ▏▕ ▏ 28▕▖▏▕ ▏▕▝▏▕ ▏ 28▕▖▏▕▗▏▕▘▏▕▝▏ 28▕▗▏▕▝▏▕ ▏▕ ▏\n",
      " 26▕▞▏▕ ▏▕ ▏▕ ▏ 26▕▞▏▕▚▏▕ ▏▕ ▏ 26▕▗▏▕ ▏▕ ▏▕ ▏ 26▕▗▏▕ ▏▕▘▏▕ ▏ 26▕▗▏▕▖▏▕▝▏▕▘▏ 26▕ ▏▕ ▏▕▖▏▕▘▏\n",
      " 24▕▞▏▕ ▏▕ ▏▕ ▏ 24▕▞▏▕▚▏▕ ▏▕ ▏ 24▕▖▏▕ ▏▕ ▏▕ ▏ 24▕▖▏▕ ▏▕▝▏▕ ▏ 24▕▖▏▕▗▏▕▘▏▕▝▏ 24▕▖▏▕▘▏▕ ▏▕ ▏\n",
      " 22▕▞▏▕ ▏▕ ▏▕ ▏ 22▕▞▏▕▚▏▕ ▏▕ ▏ 22▕▗▏▕ ▏▕ ▏▕ ▏ 22▕▗▏▕ ▏▕▘▏▕ ▏ 22▕▗▏▕▖▏▕▝▏▕▘▏ 22▕ ▏▕ ▏▕▗▏▕▝▏\n",
      " 20▕▞▏▕ ▏▕ ▏▕ ▏ 20▕▞▏▕▚▏▕ ▏▕ ▏ 20▕▖▏▕ ▏▕ ▏▕ ▏ 20▕▖▏▕ ▏▕▝▏▕ ▏ 20▕▖▏▕▗▏▕▘▏▕▝▏ 20▕▗▏▕▝▏▕ ▏▕ ▏\n",
      " 18▕▞▏▕ ▏▕ ▏▕ ▏ 18▕▞▏▕▚▏▕ ▏▕ ▏ 18▕▗▏▕ ▏▕ ▏▕ ▏ 18▕▗▏▕ ▏▕▘▏▕ ▏ 18▕▗▏▕▖▏▕▝▏▕▘▏ 18▕ ▏▕ ▏▕▖▏▕▘▏\n",
      " 16▕▞▏▕ ▏▕ ▏▕ ▏ 16▕▞▏▕▚▏▕ ▏▕ ▏ 16▕▖▏▕ ▏▕ ▏▕ ▏ 16▕▖▏▕ ▏▕▝▏▕ ▏ 16▕▖▏▕▗▏▕▘▏▕▝▏ 16▕▖▏▕▘▏▕ ▏▕ ▏\n",
      " 14▕▞▏▕ ▏▕ ▏▕ ▏ 14▕▞▏▕▚▏▕ ▏▕ ▏ 14▕▗▏▕ ▏▕ ▏▕ ▏ 14▕▗▏▕ ▏▕▘▏▕ ▏ 14▕▗▏▕▖▏▕▝▏▕▘▏ 14▕ ▏▕ ▏▕▗▏▕▝▏\n",
      " 12▕▞▏▕ ▏▕ ▏▕ ▏ 12▕▞▏▕▚▏▕ ▏▕ ▏ 12▕▖▏▕ ▏▕ ▏▕ ▏ 12▕▖▏▕ ▏▕▝▏▕ ▏ 12▕▖▏▕▗▏▕▘▏▕▝▏ 12▕▗▏▕▝▏▕ ▏▕ ▏\n",
      " 10▕▞▏▕ ▏▕ ▏▕ ▏ 10▕▞▏▕▚▏▕ ▏▕ ▏ 10▕▗▏▕ ▏▕ ▏▕ ▏ 10▕▗▏▕ ▏▕▘▏▕ ▏ 10▕▗▏▕▖▏▕▝▏▕▘▏ 10▕ ▏▕ ▏▕▖▏▕▘▏\n",
      "  8▕▞▏▕ ▏▕ ▏▕ ▏  8▕▞▏▕▚▏▕ ▏▕ ▏  8▕▖▏▕ ▏▕ ▏▕ ▏  8▕▖▏▕ ▏▕▝▏▕ ▏  8▕▖▏▕▗▏▕▘▏▕▝▏  8▕▖▏▕▘▏▕ ▏▕ ▏\n",
      "  6▕▞▏▕ ▏▕ ▏▕ ▏  6▕▞▏▕▚▏▕ ▏▕ ▏  6▕▗▏▕ ▏▕ ▏▕ ▏  6▕▗▏▕ ▏▕▘▏▕ ▏  6▕▗▏▕▖▏▕▝▏▕▘▏  6▕ ▏▕ ▏▕▗▏▕▝▏\n",
      "  4▕▞▏▕ ▏▕ ▏▕ ▏  4▕▞▏▕▚▏▕ ▏▕ ▏  4▕▖▏▕ ▏▕ ▏▕ ▏  4▕▖▏▕ ▏▕▝▏▕ ▏  4▕▖▏▕▗▏▕▘▏▕▝▏  4▕▗▏▕▝▏▕ ▏▕ ▏\n",
      "  2▕▞▏▕ ▏▕ ▏▕ ▏  2▕▞▏▕▚▏▕ ▏▕ ▏  2▕▗▏▕ ▏▕ ▏▕ ▏  2▕▗▏▕ ▏▕▘▏▕ ▏  2▕▗▏▕▖▏▕▝▏▕▘▏  2▕ ▏▕ ▏▕▖▏▕▘▏\n",
      "  0▕▞▏▕ ▏▕ ▏▕ ▏  0▕▞▏▕▚▏▕ ▏▕ ▏  0▕▖▏▕ ▏▕ ▏▕ ▏  0▕▖▏▕ ▏▕▝▏▕ ▏  0▕▖▏▕▗▏▕▘▏▕▝▏  0▕▖▏▕▘▏▕ ▏▕ ▏\n",
      "    ╹  ╹  ╹  ╹     ╹  ╹  ╹  ╹     ╹  ╹  ╹  ╹     ╹  ╹  ╹  ╹     ╹  ╹  ╹  ╹     ╹  ╹  ╹  ╹ \n",
      "\n"
     ]
    }
   ],
   "source": [
    "print(print_probe([\n",
    "    # 1/2\n",
    "    npx24_half_density(shank=0),\n",
    "    npx24_half_density(shank=(0, 1)),\n",
    "    # 1/4\n",
    "    s := npx24_quarter_density(shank=0),\n",
    "    npx24_quarter_density(shank=(0, 2)),\n",
    "    npx24_quarter_density(None),\n",
    "    # 1/8\n",
    "    npx24_one_eighth_density()\n",
    "], truncate='top'))"
   ]
  },
  {
   "cell_type": "markdown",
   "id": "7223d021",
   "metadata": {},
   "source": [
    "Notice the the channelmap `s` is an incompleted channelmap, because its number of selected electrodes do not reach the number of required channels."
   ]
  },
  {
   "cell_type": "code",
   "execution_count": null,
   "id": "4997a071",
   "metadata": {},
   "outputs": [
    {
     "data": {
      "text/plain": [
       "ChannelMap[4,2,640,384,320]"
      ]
     },
     "execution_count": null,
     "metadata": {},
     "output_type": "execute_result"
    }
   ],
   "source": [
    "s"
   ]
  },
  {
   "cell_type": "markdown",
   "id": "b2594f46",
   "metadata": {},
   "source": [
    "## Electrode selection with a blueprint"
   ]
  },
  {
   "cell_type": "code",
   "execution_count": 1,
   "id": "31907721",
   "metadata": {},
   "outputs": [],
   "source": [
    "from chmap.probe_npx.desp import NpxProbeDesp"
   ]
  },
  {
   "cell_type": "code",
   "execution_count": 7,
   "id": "63d3a390",
   "metadata": {},
   "outputs": [],
   "source": [
    "D = NpxProbeDesp()\n",
    "C = ChannelMap.from_imro('Fig3_example.imro')\n",
    "Q = D.electrode_from_numpy(D.all_electrodes(C), np.load('Fig3_example.policy.npy'))"
   ]
  },
  {
   "cell_type": "markdown",
   "id": "8f4d00d4",
   "metadata": {},
   "source": [
    "A blueprint `Q` is a list of electrodes that also carried the selection policy. It is not easy to make a new blueprint from zero. It is more easy to make from the application. Here, we use built one to demonstrate `D` usage."
   ]
  },
  {
   "cell_type": "markdown",
   "id": "80f6932e",
   "metadata": {},
   "source": [
    "### Electrode selection"
   ]
  },
  {
   "cell_type": "code",
   "execution_count": 8,
   "id": "8c303bbc",
   "metadata": {},
   "outputs": [
    {
     "name": "stdout",
     "output_type": "stream",
     "text": [
      "334▕ ▏▕ ▏▕ ▏▕ ▏334▕ ▏▕ ▏▕ ▏▕▗▏\n",
      "332▕ ▏▕ ▏▕ ▏▕ ▏332▕ ▏▕ ▏▕ ▏▕▘▏\n",
      "330▕ ▏▕ ▏▕ ▏▕ ▏330▕ ▏▕ ▏▕ ▏▕▀▏\n",
      "328▕ ▏▕ ▏▕ ▏▕ ▏328▕ ▏▕ ▏▕ ▏▕▖▏\n",
      "326▕ ▏▕ ▏▕ ▏▕ ▏326▕ ▏▕ ▏▕ ▏▕▞▏\n",
      "324▕ ▏▕ ▏▕ ▏▕ ▏324▕ ▏▕ ▏▕ ▏▕ ▏\n",
      "322▕ ▏▕ ▏▕ ▏▕ ▏322▕ ▏▕ ▏▕ ▏▕ ▏\n",
      "320▕ ▏▕ ▏▕ ▏▕ ▏320▕ ▏▕ ▏▕ ▏▕▘▏\n",
      "318▕ ▏▕ ▏▕ ▏▕ ▏318▕ ▏▕ ▏▕ ▏▕▄▏\n",
      "316▕ ▏▕ ▏▕ ▏▕ ▏316▕ ▏▕ ▏▕ ▏▕ ▏\n",
      "314▕ ▏▕ ▏▕ ▏▕ ▏314▕ ▏▕ ▏▕ ▏▕▖▏\n",
      "312▕ ▏▕ ▏▕ ▏▕ ▏312▕ ▏▕ ▏▕ ▏▕ ▏\n",
      "310▕ ▏▕ ▏▕▄▏▕ ▏310▕ ▏▕ ▏▕▗▏▕▝▏\n",
      "308▕ ▏▕ ▏▕▐▏▕ ▏308▕ ▏▕ ▏▕▙▏▕ ▏\n",
      "306▕ ▏▕ ▏▕▌▏▕ ▏306▕ ▏▕ ▏▕ ▏▕ ▏\n",
      "304▕ ▏▕ ▏▕▗▏▕ ▏304▕ ▏▕ ▏▕ ▏▕ ▏\n",
      "302▕ ▏▕ ▏▕ ▏▕ ▏302▕ ▏▕ ▏▕▖▏▕ ▏\n",
      "300▕ ▏▕ ▏▕ ▏▕ ▏300▕ ▏▕ ▏▕▝▏▕▘▏\n",
      "298▕ ▏▕ ▏▕▗▏▕ ▏298▕ ▏▕ ▏▕▚▏▕ ▏\n",
      "296▕ ▏▕ ▏▕▖▏▕ ▏296▕ ▏▕ ▏▕ ▏▕ ▏\n",
      "294▕ ▏▕ ▏▕ ▏▕ ▏294▕ ▏▕ ▏▕ ▏▕ ▏\n",
      "292▕ ▏▕ ▏▕ ▏▕ ▏292▕ ▏▕ ▏▕ ▏▕ ▏\n",
      "290▕ ▏▕ ▏▕▖▏▕ ▏290▕ ▏▕ ▏▕ ▏▕ ▏\n",
      "288▕ ▏▕ ▏▕ ▏▕ ▏288▕ ▏▕ ▏▕▗▏▕ ▏\n",
      "286▕ ▏▕ ▏▕ ▏▕ ▏286▕ ▏▕ ▏▕ ▏▕ ▏\n",
      "284▕ ▏▕ ▏▕▖▏▕ ▏284▕ ▏▕ ▏▕ ▏▕ ▏\n",
      "282▕ ▏▕ ▏▕ ▏▕ ▏282▕ ▏▕ ▏▕ ▏▕ ▏\n",
      "280▕ ▏▕ ▏▕ ▏▕ ▏280▕ ▏▕ ▏▕ ▏▕ ▏\n",
      "278▕ ▏▕ ▏▕ ▏▕ ▏278▕ ▏▕ ▏▕ ▏▕ ▏\n",
      "276▕ ▏▕ ▏▕▖▏▕ ▏276▕ ▏▕ ▏▕ ▏▕ ▏\n",
      "274▕ ▏▕ ▏▕ ▏▕ ▏274▕ ▏▕ ▏▕▞▏▕ ▏\n",
      "272▕ ▏▕ ▏▕▖▏▕ ▏272▕ ▏▕ ▏▕ ▏▕ ▏\n",
      "270▕ ▏▕ ▏▕▖▏▕ ▏270▕ ▏▕ ▏▕ ▏▕ ▏\n",
      "268▕ ▏▕ ▏▕ ▏▕ ▏268▕ ▏▕ ▏▕▖▏▕ ▏\n",
      "266▕ ▏▕ ▏▕ ▏▕ ▏266▕ ▏▕ ▏▕ ▏▕ ▏\n",
      "264▕ ▏▕ ▏▕ ▏▕ ▏264▕ ▏▕ ▏▕▝▏▕ ▏\n",
      "262▕ ▏▕ ▏▕ ▏▕ ▏262▕ ▏▕ ▏▕ ▏▕ ▏\n",
      "260▕ ▏▕ ▏▕▝▏▕ ▏260▕ ▏▕ ▏▕▖▏▕ ▏\n",
      "258▕ ▏▕ ▏▕▖▏▕ ▏258▕ ▏▕ ▏▕▝▏▕▖▏\n",
      "256▕ ▏▕ ▏▕ ▏▕ ▏256▕ ▏▕ ▏▕▖▏▕▗▏\n",
      "254▕ ▏▕ ▏▕ ▏▕▗▏254▕ ▏▕ ▏▕▘▏▕ ▏\n",
      "252▕ ▏▕ ▏▕ ▏▕▗▏252▕ ▏▕ ▏▕▗▏▕ ▏\n",
      "250▕ ▏▕ ▏▕ ▏▕▖▏250▕ ▏▕ ▏▕▖▏▕▖▏\n",
      "248▕ ▏▕ ▏▕ ▏▕ ▏248▕ ▏▕ ▏▕ ▏▕ ▏\n",
      "246▕ ▏▕ ▏▕ ▏▕▖▏246▕ ▏▕ ▏▕ ▏▕▝▏\n",
      "244▕ ▏▕ ▏▕ ▏▕ ▏244▕ ▏▕ ▏▕ ▏▕▐▏\n",
      "242▕ ▏▕ ▏▕ ▏▕ ▏242▕ ▏▕ ▏▕ ▏▕ ▏\n",
      "240▕ ▏▕ ▏▕ ▏▕ ▏240▕ ▏▕ ▏▕ ▏▕▘▏\n",
      "238▕ ▏▕ ▏▕▘▏▕ ▏238▕ ▏▕ ▏▕ ▏▕ ▏\n",
      "236▕ ▏▕ ▏▕▘▏▕▛▏236▕ ▏▕ ▏▕▚▏▕ ▏\n",
      "234▕ ▏▕ ▏▕ ▏▕▗▏234▕ ▏▕ ▏▕▗▏▕▗▏\n",
      "232▕ ▏▕ ▏▕ ▏▕▝▏232▕ ▏▕ ▏▕▗▏▕▛▏\n",
      "230▕ ▏▕ ▏▕▘▏▕▚▏230▕ ▏▕ ▏▕▘▏▕ ▏\n",
      "228▕ ▏▕ ▏▕▗▏▕ ▏228▕ ▏▕ ▏▕▗▏▕▖▏\n",
      "226▕ ▏▕ ▏▕ ▏▕ ▏226▕ ▏▕ ▏▕▘▏▕▖▏\n",
      "224▕ ▏▕ ▏▕ ▏▕▞▏224▕ ▏▕ ▏▕▞▏▕ ▏\n",
      "222▕ ▏▕ ▏▕ ▏▕ ▏222▕ ▏▕ ▏▕▖▏▕ ▏\n",
      "220▕ ▏▕ ▏▕ ▏▕▘▏220▕ ▏▕ ▏▕ ▏▕▌▏\n",
      "218▕ ▏▕ ▏▕ ▏▕ ▏218▕ ▏▕ ▏▕▞▏▕▖▏\n",
      "216▕ ▏▕ ▏▕ ▏▕ ▏216▕ ▏▕ ▏▕▗▏▕ ▏\n",
      "214▕ ▏▕ ▏▕ ▏▕▗▏214▕ ▏▕ ▏▕▖▏▕▝▏\n",
      "212▕ ▏▕ ▏▕ ▏▕▀▏212▕ ▏▕ ▏▕▞▏▕▌▏\n",
      "210▕ ▏▕ ▏▕▗▏▕▗▏210▕ ▏▕ ▏▕ ▏▕▗▏\n",
      "208▕ ▏▕ ▏▕▗▏▕▛▏208▕ ▏▕ ▏▕▝▏▕▞▏\n",
      "206▕ ▏▕ ▏▕ ▏▕ ▏206▕ ▏▕ ▏▕▖▏▕▀▏\n",
      "204▕ ▏▕ ▏▕ ▏▕ ▏204▕ ▏▕ ▏▕▞▏▕▄▏\n",
      "202▕ ▏▕ ▏▕ ▏▕▚▏202▕ ▏▕▝▏▕▗▏▕▚▏\n",
      "200▕ ▏▕▚▏▕ ▏▕▌▏200▕ ▏▕▝▏▕▗▏▕▖▏\n",
      "198▕█▏▕▚▏▕ ▏▕▗▏198▕█▏▕▚▏▕▖▏▕▝▏\n",
      "196▕█▏▕▚▏▕▗▏▕▖▏196▕█▏▕▘▏▕ ▏▕▘▏\n",
      "194▕█▏▕▚▏▕▖▏▕▗▏194▕█▏▕▞▏▕▗▏▕ ▏\n",
      "192▕█▏▕▚▏▕▗▏▕▖▏192▕█▏▕▞▏▕▖▏▕▘▏\n",
      "190▕█▏▕▚▏▕▖▏▕ ▏190▕█▏▕▞▏▕ ▏▕▗▏\n",
      "188▕█▏▕▚▏▕▗▏▕▗▏188▕█▏▕▞▏▕▘▏▕ ▏\n",
      "186▕█▏▕▚▏▕▖▏▕▗▏186▕█▏▕▗▏▕▝▏▕ ▏\n",
      "184▕█▏▕▚▏▕▗▏▕▗▏184▕█▏▕▚▏▕ ▏▕▘▏\n",
      "182▕█▏▕▚▏▕▖▏▕ ▏182▕█▏▕▚▏▕▘▏▕ ▏\n",
      "180▕█▏▕▚▏▕▗▏▕▘▏180▕█▏▕▚▏▕ ▏▕▘▏\n",
      "178▕█▏▕▚▏▕▖▏▕▗▏178▕█▏▕▘▏▕▝▏▕▗▏\n",
      "176▕█▏▕▚▏▕▗▏▕▗▏176▕█▏▕▞▏▕▖▏▕ ▏\n",
      "174▕█▏▕▚▏▕▖▏▕▗▏174▕█▏▕▝▏▕▗▏▕▝▏\n",
      "172▕█▏▕▚▏▕▗▏▕▗▏172▕█▏▕▚▏▕ ▏▕▖▏\n",
      "170▕█▏▕▚▏▕▖▏▕▗▏170▕█▏▕▚▏▕▝▏▕ ▏\n",
      "168▕█▏▕▚▏▕▗▏▕▗▏168▕█▏▕▚▏▕▗▏▕▝▏\n",
      "166▕▀▏▕▚▏▕▖▏▕▗▏166▕▀▏▕▚▏▕▖▏▕▘▏\n",
      "164▕ ▏▕▚▏▕▗▏▕▗▏164▕ ▏▕▚▏▕▗▏▕ ▏\n",
      "162▕ ▏▕▚▏▕▖▏▕ ▏162▕ ▏▕▚▏▕▖▏▕▝▏\n",
      "160▕ ▏▕▚▏▕▗▏▕▘▏160▕ ▏▕▘▏▕▗▏▕▖▏\n",
      "158▕ ▏▕▚▏▕▖▏▕▗▏158▕ ▏▕▞▏▕ ▏▕ ▏\n",
      "156▕ ▏▕▚▏▕▗▏▕▗▏156▕ ▏▕▝▏▕▘▏▕ ▏\n",
      "154▕ ▏▕▚▏▕▖▏▕▗▏154▕ ▏▕▚▏▕▖▏▕▝▏\n",
      "152▕ ▏▕▚▏▕▗▏▕▗▏152▕ ▏▕▚▏▕▗▏▕▘▏\n",
      "150▕ ▏▕ ▏▕▖▏▕▗▏150▕ ▏▕ ▏▕▖▏▕ ▏\n",
      "148▕ ▏▕ ▏▕▗▏▕▖▏148▕ ▏▕ ▏▕ ▏▕▗▏\n",
      "146▕ ▏▕ ▏▕▖▏▕▗▏146▕ ▏▕ ▏▕▝▏▕ ▏\n",
      "144▕ ▏▕ ▏▕▗▏▕▖▏144▕ ▏▕ ▏▕▗▏▕▝▏\n",
      "142▕ ▏▕▞▏▕ ▏▕▖▏142▕ ▏▕▞▏▕ ▏▕▘▏\n",
      "140▕ ▏▕▞▏▕ ▏▕ ▏140▕ ▏▕▞▏▕ ▏▕ ▏\n",
      "138▕ ▏▕▞▏▕ ▏▕▝▏138▕ ▏▕▞▏▕ ▏▕▖▏\n",
      "136▕ ▏▕▞▏▕ ▏▕▝▏136▕ ▏▕▞▏▕ ▏▕ ▏\n",
      "134▕ ▏▕▞▏▕ ▏▕▝▏134▕ ▏▕▞▏▕ ▏▕ ▏\n",
      "132▕ ▏▕▞▏▕ ▏▕▝▏132▕ ▏▕▞▏▕ ▏▕▝▏\n",
      "130▕ ▏▕▞▏▕ ▏▕▖▏130▕ ▏▕▝▏▕ ▏▕▗▏\n",
      "128▕ ▏▕▞▏▕ ▏▕ ▏128▕ ▏▕▚▏▕ ▏▕ ▏\n",
      "126▕ ▏▕▞▏▕ ▏▕▝▏126▕ ▏▕▚▏▕ ▏▕▘▏\n",
      "124▕ ▏▕▞▏▕ ▏▕▖▏124▕ ▏▕▚▏▕ ▏▕ ▏\n",
      "122▕ ▏▕▞▏▕ ▏▕▖▏122▕ ▏▕▚▏▕ ▏▕▝▏\n",
      "120▕ ▏▕▞▏▕ ▏▕▖▏120▕ ▏▕▖▏▕ ▏▕ ▏\n",
      "118▕ ▏▕▞▏▕ ▏▕▖▏118▕ ▏▕▗▏▕▖▏▕▖▏\n",
      "116▕ ▏▕▞▏▕▘▏▕ ▏116▕ ▏▕▚▏▕ ▏▕ ▏\n",
      "114▕ ▏▕▞▏▕▝▏▕▝▏114▕ ▏▕▚▏▕▗▏▕▖▏\n",
      "112▕ ▏▕▞▏▕▘▏▕▖▏112▕ ▏▕▚▏▕ ▏▕▗▏\n",
      "110▕ ▏▕▞▏▕▝▏▕▖▏110▕ ▏▕▚▏▕▝▏▕ ▏\n",
      "108▕ ▏▕▞▏▕▘▏▕▖▏108▕ ▏▕▚▏▕▗▏▕▖▏\n",
      "106▕ ▏▕▞▏▕▝▏▕▖▏106▕ ▏▕▖▏▕ ▏▕ ▏\n",
      "104▕ ▏▕▞▏▕▝▏▕▖▏104▕ ▏▕▞▏▕▖▏▕▝▏\n",
      "102▕ ▏▕▞▏▕▝▏▕ ▏102▕ ▏▕▐▏▕ ▏▕ ▏\n",
      "100▕ ▏▕▝▏▕▝▏▕ ▏100▕ ▏▕▌▏▕▖▏▕ ▏\n",
      " 98▕ ▏▕▝▏▕▝▏▕ ▏ 98▕ ▏▕▛▏▕▗▏▕ ▏\n",
      " 96▕ ▏▕▘▏▕▝▏▕ ▏ 96▕ ▏▕▗▏▕ ▏▕ ▏\n",
      " 94▕ ▏▕▀▏▕▝▏▕ ▏ 94▕ ▏▕▜▏▕ ▏▕ ▏\n",
      " 92▕ ▏▕ ▏▕▝▏▕ ▏ 92▕ ▏▕▐▏▕▗▏▕ ▏\n",
      " 90▕ ▏▕▝▏▕▖▏▕ ▏ 90▕ ▏▕▘▏▕ ▏▕ ▏\n",
      " 88▕ ▏▕▖▏▕▖▏▕ ▏ 88▕ ▏▕ ▏▕▝▏▕ ▏\n",
      " 86▕ ▏▕ ▏▕▖▏▕ ▏ 86▕ ▏▕▟▏▕ ▏▕ ▏\n",
      " 84▕ ▏▕▛▏▕ ▏▕ ▏ 84▕ ▏▕▗▏▕▖▏▕ ▏\n",
      " 82▕ ▏▕▐▏▕▝▏▕ ▏ 82▕ ▏▕ ▏▕ ▏▕ ▏\n",
      " 80▕ ▏▕▘▏▕▝▏▕ ▏ 80▕ ▏▕▚▏▕▗▏▕ ▏\n",
      " 78▕ ▏▕ ▏▕ ▏▕ ▏ 78▕ ▏▕▝▏▕ ▏▕ ▏\n",
      " 76▕ ▏▕ ▏▕▝▏▕ ▏ 76▕ ▏▕▗▏▕▝▏▕ ▏\n",
      " 74▕ ▏▕▐▏▕▝▏▕ ▏ 74▕ ▏▕▗▏▕ ▏▕ ▏\n",
      " 72▕ ▏▕▛▏▕▝▏▕ ▏ 72▕ ▏▕▖▏▕▖▏▕ ▏\n",
      " 70▕ ▏▕▝▏▕▝▏▕ ▏ 70▕ ▏▕▗▏▕ ▏▕ ▏\n",
      " 68▕ ▏▕ ▏▕▖▏▕▖▏ 68▕ ▏▕▝▏▕▝▏▕▝▏\n",
      " 66▕ ▏▕ ▏▕ ▏▕ ▏ 66▕ ▏▕▝▏▕ ▏▕▀▏\n",
      " 64▕ ▏▕ ▏▕▝▏▕▞▏ 64▕ ▏▕ ▏▕▝▏▕▘▏\n",
      " 62▕ ▏▕▐▏▕▝▏▕ ▏ 62▕ ▏▕▗▏▕▗▏▕▚▏\n",
      " 60▕ ▏▕▝▏▕▝▏▕▖▏ 60▕ ▏▕ ▏▕ ▏▕ ▏\n",
      " 58▕ ▏▕▝▏▕▝▏▕▘▏ 58▕ ▏▕ ▏▕▝▏▕ ▏\n",
      " 56▕ ▏▕ ▏▕▝▏▕ ▏ 56▕ ▏▕▀▏▕▖▏▕ ▏\n",
      " 54▕ ▏▕ ▏▕ ▏▕ ▏ 54▕ ▏▕▚▏▕ ▏▕▖▏\n",
      " 52▕ ▏▕▝▏▕ ▏▕ ▏ 52▕ ▏▕▐▏▕ ▏▕ ▏\n",
      " 50▕ ▏▕▝▏▕ ▏▕ ▏ 50▕ ▏▕▖▏▕ ▏▕▘▏\n",
      " 48▕ ▏▕▀▏▕ ▏▕▖▏ 48▕ ▏▕▖▏▕ ▏▕ ▏\n",
      " 46▕ ▏▕ ▏▕▗▏▕▗▏ 46▕ ▏▕ ▏▕▘▏▕▖▏\n",
      " 44▕ ▏▕ ▏▕ ▏▕ ▏ 44▕ ▏▕ ▏▕ ▏▕▖▏\n",
      " 42▕ ▏▕ ▏▕▘▏▕▘▏ 42▕ ▏▕ ▏▕▘▏▕▖▏\n",
      " 40▕ ▏▕ ▏▕▘▏▕▘▏ 40▕ ▏▕ ▏▕ ▏▕▗▏\n",
      " 38▕ ▏▕ ▏▕▗▏▕▝▏ 38▕ ▏▕ ▏▕▗▏▕ ▏\n",
      " 36▕ ▏▕ ▏▕ ▏▕ ▏ 36▕ ▏▕ ▏▕ ▏▕▀▏\n",
      " 34▕ ▏▕ ▏▕▘▏▕▘▏ 34▕ ▏▕ ▏▕▖▏▕▚▏\n",
      " 32▕ ▏▕ ▏▕▘▏▕ ▏ 32▕ ▏▕ ▏▕ ▏▕▝▏\n",
      " 30▕ ▏▕ ▏▕▘▏▕▜▏ 30▕ ▏▕ ▏▕ ▏▕▌▏\n",
      " 28▕ ▏▕ ▏▕▘▏▕▞▏ 28▕ ▏▕ ▏▕▝▏▕▝▏\n",
      " 26▕ ▏▕ ▏▕▘▏▕▘▏ 26▕ ▏▕ ▏▕ ▏▕▘▏\n",
      " 24▕ ▏▕ ▏▕▘▏▕ ▏ 24▕ ▏▕ ▏▕▘▏▕▀▏\n",
      " 22▕ ▏▕ ▏▕▘▏▕▘▏ 22▕ ▏▕ ▏▕▝▏▕▘▏\n",
      " 20▕ ▏▕ ▏▕▘▏▕▖▏ 20▕ ▏▕ ▏▕ ▏▕ ▏\n",
      " 18▕ ▏▕▗▏▕▘▏▕▀▏ 18▕ ▏▕ ▏▕▖▏▕▘▏\n",
      " 16▕ ▏▕ ▏▕ ▏▕ ▏ 16▕ ▏▕▞▏▕ ▏▕▘▏\n",
      " 14▕ ▏▕▌▏▕▘▏▕▘▏ 14▕ ▏▕ ▏▕▝▏▕▖▏\n",
      " 12▕ ▏▕▝▏▕▘▏▕▌▏ 12▕ ▏▕▌▏▕ ▏▕▝▏\n",
      " 10▕ ▏▕ ▏▕▘▏▕ ▏ 10▕ ▏▕ ▏▕▘▏▕▝▏\n",
      "  8▕ ▏▕ ▏▕▘▏▕▝▏  8▕ ▏▕▚▏▕ ▏▕ ▏\n",
      "  6▕ ▏▕ ▏▕▘▏▕▀▏  6▕ ▏▕ ▏▕▘▏▕ ▏\n",
      "  4▕ ▏▕▖▏▕▘▏▕▘▏  4▕ ▏▕ ▏▕▝▏▕▖▏\n",
      "  2▕ ▏▕ ▏▕▘▏▕▘▏  2▕ ▏▕ ▏▕ ▏▕▚▏\n",
      "  0▕ ▏▕ ▏▕▝▏▕ ▏  0▕ ▏▕ ▏▕▘▏▕▝▏\n",
      "    ╹  ╹  ╹  ╹     ╹  ╹  ╹  ╹ \n",
      "\n"
     ]
    }
   ],
   "source": [
    "s = D.select_electrodes(C, Q)\n",
    "print(print_probe([C, s], truncate='top'))"
   ]
  },
  {
   "cell_type": "markdown",
   "id": "5967f147",
   "metadata": {},
   "source": [
    "### Visualize the blueprint"
   ]
  },
  {
   "cell_type": "markdown",
   "id": "f8172dd1",
   "metadata": {},
   "source": [
    "plot the blueprint on probe"
   ]
  },
  {
   "cell_type": "code",
   "execution_count": 23,
   "id": "1fae5709",
   "metadata": {},
   "outputs": [
    {
     "data": {
      "image/png": "[encoded data removed]",
      "text/plain": [
       "<Figure size 500x1000 with 1 Axes>"
      ]
     },
     "metadata": {},
     "output_type": "display_data"
    }
   ],
   "source": [
    "with plt.rc_context(rc):\n",
    "    fg, ax = plt.subplots()\n",
    "\n",
    "    height = 5\n",
    "    plot.plot_policy_area(ax, C.probe_type, Q, height=height, shank_width_scale=2)\n",
    "    plot.plot_probe_shape(ax, C.probe_type, height=height, color='gray', label_axis=True, shank_width_scale=2)\n",
    "\n",
    "\n",
    "plt.show()"
   ]
  },
  {
   "cell_type": "code",
   "execution_count": null,
   "id": "d3274554-69b6-4e30-8889-9ee0ec5d7637",
   "metadata": {},
   "outputs": [],
   "source": []
  }
 ],
 "metadata": {
  "kernelspec": {
   "display_name": "Python 3 (ipykernel)",
   "language": "python",
   "name": "python3"
  },
  "language_info": {
   "codemirror_mode": {
    "name": "ipython",
    "version": 3
   },
   "file_extension": ".py",
   "mimetype": "text/x-python",
   "name": "python",
   "nbconvert_exporter": "python",
   "pygments_lexer": "ipython3",
   "version": "3.10.13"
  }
 },
 "nbformat": 4,
 "nbformat_minor": 5
}
