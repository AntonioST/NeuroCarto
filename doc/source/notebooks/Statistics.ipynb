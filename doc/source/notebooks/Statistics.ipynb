{
 "cells": [
  {
   "cell_type": "markdown",
   "id": "7256704a-f9d1-4c3e-9ecc-638edbf2f1f9",
   "metadata": {},
   "source": [
    "# Statistics\n",
    "\n",
    "wip"
   ]
  }
 ],
 "metadata": {
  "kernelspec": {
   "display_name": "Python 3 (ipykernel)",
   "language": "python",
   "name": "python3"
  },
  "language_info": {
   "codemirror_mode": {
    "name": "ipython",
    "version": 3
   },
   "file_extension": ".py",
   "mimetype": "text/x-python",
   "name": "python",
   "nbconvert_exporter": "python",
   "pygments_lexer": "ipython3",
   "version": "3.10.13"
  }
 },
 "nbformat": 4,
 "nbformat_minor": 5
}
